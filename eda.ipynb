{
 "cells": [
  {
   "cell_type": "code",
   "execution_count": 1,
   "metadata": {},
   "outputs": [],
   "source": [
    "import numpy as np\n",
    "import pandas as pd\n",
    "import matplotlib.pyplot as plt\n",
    "import seaborn as sns\n",
    "from sklearn import cluster\n",
    "from sklearn.metrics import silhouette_score\n",
    "import statsmodels.api as sm\n",
    "from statsmodels.formula.api import ols"
   ]
  },
  {
   "cell_type": "markdown",
   "metadata": {},
   "source": [
    "## Get and View Data"
   ]
  },
  {
   "cell_type": "code",
   "execution_count": 2,
   "metadata": {},
   "outputs": [
    {
     "data": {
      "text/html": [
       "<div>\n",
       "<style scoped>\n",
       "    .dataframe tbody tr th:only-of-type {\n",
       "        vertical-align: middle;\n",
       "    }\n",
       "\n",
       "    .dataframe tbody tr th {\n",
       "        vertical-align: top;\n",
       "    }\n",
       "\n",
       "    .dataframe thead th {\n",
       "        text-align: right;\n",
       "    }\n",
       "</style>\n",
       "<table border=\"1\" class=\"dataframe\">\n",
       "  <thead>\n",
       "    <tr style=\"text-align: right;\">\n",
       "      <th></th>\n",
       "      <th>id</th>\n",
       "      <th>date</th>\n",
       "      <th>price</th>\n",
       "      <th>bedrooms</th>\n",
       "      <th>bathrooms</th>\n",
       "      <th>sqft_living</th>\n",
       "      <th>sqft_lot</th>\n",
       "      <th>floors</th>\n",
       "      <th>waterfront</th>\n",
       "      <th>view</th>\n",
       "      <th>...</th>\n",
       "      <th>grade</th>\n",
       "      <th>sqft_above</th>\n",
       "      <th>sqft_basement</th>\n",
       "      <th>yr_built</th>\n",
       "      <th>yr_renovated</th>\n",
       "      <th>zipcode</th>\n",
       "      <th>lat</th>\n",
       "      <th>long</th>\n",
       "      <th>sqft_living15</th>\n",
       "      <th>sqft_lot15</th>\n",
       "    </tr>\n",
       "  </thead>\n",
       "  <tbody>\n",
       "    <tr>\n",
       "      <th>0</th>\n",
       "      <td>7129300520</td>\n",
       "      <td>20141013T000000</td>\n",
       "      <td>221900.0</td>\n",
       "      <td>3.0</td>\n",
       "      <td>1.00</td>\n",
       "      <td>1180.0</td>\n",
       "      <td>5650.0</td>\n",
       "      <td>1.0</td>\n",
       "      <td>0</td>\n",
       "      <td>0</td>\n",
       "      <td>...</td>\n",
       "      <td>7</td>\n",
       "      <td>1180</td>\n",
       "      <td>0</td>\n",
       "      <td>1955</td>\n",
       "      <td>0</td>\n",
       "      <td>98178</td>\n",
       "      <td>47.5112</td>\n",
       "      <td>-122.257</td>\n",
       "      <td>1340</td>\n",
       "      <td>5650</td>\n",
       "    </tr>\n",
       "    <tr>\n",
       "      <th>1</th>\n",
       "      <td>6414100192</td>\n",
       "      <td>20141209T000000</td>\n",
       "      <td>538000.0</td>\n",
       "      <td>3.0</td>\n",
       "      <td>2.25</td>\n",
       "      <td>2570.0</td>\n",
       "      <td>7242.0</td>\n",
       "      <td>2.0</td>\n",
       "      <td>0</td>\n",
       "      <td>0</td>\n",
       "      <td>...</td>\n",
       "      <td>7</td>\n",
       "      <td>2170</td>\n",
       "      <td>400</td>\n",
       "      <td>1951</td>\n",
       "      <td>1991</td>\n",
       "      <td>98125</td>\n",
       "      <td>47.7210</td>\n",
       "      <td>-122.319</td>\n",
       "      <td>1690</td>\n",
       "      <td>7639</td>\n",
       "    </tr>\n",
       "    <tr>\n",
       "      <th>2</th>\n",
       "      <td>5631500400</td>\n",
       "      <td>20150225T000000</td>\n",
       "      <td>180000.0</td>\n",
       "      <td>2.0</td>\n",
       "      <td>1.00</td>\n",
       "      <td>770.0</td>\n",
       "      <td>10000.0</td>\n",
       "      <td>1.0</td>\n",
       "      <td>0</td>\n",
       "      <td>0</td>\n",
       "      <td>...</td>\n",
       "      <td>6</td>\n",
       "      <td>770</td>\n",
       "      <td>0</td>\n",
       "      <td>1933</td>\n",
       "      <td>0</td>\n",
       "      <td>98028</td>\n",
       "      <td>47.7379</td>\n",
       "      <td>-122.233</td>\n",
       "      <td>2720</td>\n",
       "      <td>8062</td>\n",
       "    </tr>\n",
       "    <tr>\n",
       "      <th>3</th>\n",
       "      <td>2487200875</td>\n",
       "      <td>20141209T000000</td>\n",
       "      <td>604000.0</td>\n",
       "      <td>4.0</td>\n",
       "      <td>3.00</td>\n",
       "      <td>1960.0</td>\n",
       "      <td>5000.0</td>\n",
       "      <td>1.0</td>\n",
       "      <td>0</td>\n",
       "      <td>0</td>\n",
       "      <td>...</td>\n",
       "      <td>7</td>\n",
       "      <td>1050</td>\n",
       "      <td>910</td>\n",
       "      <td>1965</td>\n",
       "      <td>0</td>\n",
       "      <td>98136</td>\n",
       "      <td>47.5208</td>\n",
       "      <td>-122.393</td>\n",
       "      <td>1360</td>\n",
       "      <td>5000</td>\n",
       "    </tr>\n",
       "    <tr>\n",
       "      <th>4</th>\n",
       "      <td>1954400510</td>\n",
       "      <td>20150218T000000</td>\n",
       "      <td>510000.0</td>\n",
       "      <td>3.0</td>\n",
       "      <td>2.00</td>\n",
       "      <td>1680.0</td>\n",
       "      <td>8080.0</td>\n",
       "      <td>1.0</td>\n",
       "      <td>0</td>\n",
       "      <td>0</td>\n",
       "      <td>...</td>\n",
       "      <td>8</td>\n",
       "      <td>1680</td>\n",
       "      <td>0</td>\n",
       "      <td>1987</td>\n",
       "      <td>0</td>\n",
       "      <td>98074</td>\n",
       "      <td>47.6168</td>\n",
       "      <td>-122.045</td>\n",
       "      <td>1800</td>\n",
       "      <td>7503</td>\n",
       "    </tr>\n",
       "  </tbody>\n",
       "</table>\n",
       "<p>5 rows × 21 columns</p>\n",
       "</div>"
      ],
      "text/plain": [
       "           id             date     price  bedrooms  bathrooms  sqft_living  \\\n",
       "0  7129300520  20141013T000000  221900.0       3.0       1.00       1180.0   \n",
       "1  6414100192  20141209T000000  538000.0       3.0       2.25       2570.0   \n",
       "2  5631500400  20150225T000000  180000.0       2.0       1.00        770.0   \n",
       "3  2487200875  20141209T000000  604000.0       4.0       3.00       1960.0   \n",
       "4  1954400510  20150218T000000  510000.0       3.0       2.00       1680.0   \n",
       "\n",
       "   sqft_lot  floors  waterfront  view  ...  grade  sqft_above  sqft_basement  \\\n",
       "0    5650.0     1.0           0     0  ...      7        1180              0   \n",
       "1    7242.0     2.0           0     0  ...      7        2170            400   \n",
       "2   10000.0     1.0           0     0  ...      6         770              0   \n",
       "3    5000.0     1.0           0     0  ...      7        1050            910   \n",
       "4    8080.0     1.0           0     0  ...      8        1680              0   \n",
       "\n",
       "   yr_built  yr_renovated  zipcode      lat     long  sqft_living15  \\\n",
       "0      1955             0    98178  47.5112 -122.257           1340   \n",
       "1      1951          1991    98125  47.7210 -122.319           1690   \n",
       "2      1933             0    98028  47.7379 -122.233           2720   \n",
       "3      1965             0    98136  47.5208 -122.393           1360   \n",
       "4      1987             0    98074  47.6168 -122.045           1800   \n",
       "\n",
       "   sqft_lot15  \n",
       "0        5650  \n",
       "1        7639  \n",
       "2        8062  \n",
       "3        5000  \n",
       "4        7503  \n",
       "\n",
       "[5 rows x 21 columns]"
      ]
     },
     "execution_count": 2,
     "metadata": {},
     "output_type": "execute_result"
    }
   ],
   "source": [
    "data = pd.read_csv('house_sales.csv')\n",
    "data.head()"
   ]
  },
  {
   "cell_type": "markdown",
   "metadata": {},
   "source": [
    "Describe the dataset. "
   ]
  },
  {
   "cell_type": "code",
   "execution_count": 3,
   "metadata": {},
   "outputs": [
    {
     "data": {
      "text/plain": [
       "(21613, 21)"
      ]
     },
     "execution_count": 3,
     "metadata": {},
     "output_type": "execute_result"
    }
   ],
   "source": [
    "data.shape"
   ]
  },
  {
   "cell_type": "markdown",
   "metadata": {},
   "source": [
    "There are 21,613 rows and 21 columns. "
   ]
  },
  {
   "cell_type": "code",
   "execution_count": 4,
   "metadata": {},
   "outputs": [
    {
     "data": {
      "text/html": [
       "<div>\n",
       "<style scoped>\n",
       "    .dataframe tbody tr th:only-of-type {\n",
       "        vertical-align: middle;\n",
       "    }\n",
       "\n",
       "    .dataframe tbody tr th {\n",
       "        vertical-align: top;\n",
       "    }\n",
       "\n",
       "    .dataframe thead th {\n",
       "        text-align: right;\n",
       "    }\n",
       "</style>\n",
       "<table border=\"1\" class=\"dataframe\">\n",
       "  <thead>\n",
       "    <tr style=\"text-align: right;\">\n",
       "      <th></th>\n",
       "      <th>id</th>\n",
       "      <th>price</th>\n",
       "      <th>bedrooms</th>\n",
       "      <th>bathrooms</th>\n",
       "      <th>sqft_living</th>\n",
       "      <th>sqft_lot</th>\n",
       "      <th>floors</th>\n",
       "      <th>waterfront</th>\n",
       "      <th>view</th>\n",
       "      <th>condition</th>\n",
       "      <th>grade</th>\n",
       "      <th>sqft_above</th>\n",
       "      <th>sqft_basement</th>\n",
       "      <th>yr_built</th>\n",
       "      <th>yr_renovated</th>\n",
       "      <th>zipcode</th>\n",
       "      <th>lat</th>\n",
       "      <th>long</th>\n",
       "      <th>sqft_living15</th>\n",
       "      <th>sqft_lot15</th>\n",
       "    </tr>\n",
       "  </thead>\n",
       "  <tbody>\n",
       "    <tr>\n",
       "      <th>count</th>\n",
       "      <td>2.161300e+04</td>\n",
       "      <td>2.161300e+04</td>\n",
       "      <td>20479.000000</td>\n",
       "      <td>20545.000000</td>\n",
       "      <td>20503.000000</td>\n",
       "      <td>2.056900e+04</td>\n",
       "      <td>21613.000000</td>\n",
       "      <td>21613.000000</td>\n",
       "      <td>21613.000000</td>\n",
       "      <td>21613.000000</td>\n",
       "      <td>21613.000000</td>\n",
       "      <td>21613.000000</td>\n",
       "      <td>21613.000000</td>\n",
       "      <td>21613.000000</td>\n",
       "      <td>21613.000000</td>\n",
       "      <td>21613.000000</td>\n",
       "      <td>21613.000000</td>\n",
       "      <td>21613.000000</td>\n",
       "      <td>21613.000000</td>\n",
       "      <td>21613.000000</td>\n",
       "    </tr>\n",
       "    <tr>\n",
       "      <th>mean</th>\n",
       "      <td>4.580302e+09</td>\n",
       "      <td>5.400881e+05</td>\n",
       "      <td>3.372821</td>\n",
       "      <td>2.113507</td>\n",
       "      <td>2081.073697</td>\n",
       "      <td>1.517982e+04</td>\n",
       "      <td>1.494309</td>\n",
       "      <td>0.007542</td>\n",
       "      <td>0.234303</td>\n",
       "      <td>3.409430</td>\n",
       "      <td>7.656873</td>\n",
       "      <td>1788.390691</td>\n",
       "      <td>291.509045</td>\n",
       "      <td>1971.005136</td>\n",
       "      <td>84.402258</td>\n",
       "      <td>98077.939805</td>\n",
       "      <td>47.560053</td>\n",
       "      <td>-122.213896</td>\n",
       "      <td>1986.552492</td>\n",
       "      <td>12768.455652</td>\n",
       "    </tr>\n",
       "    <tr>\n",
       "      <th>std</th>\n",
       "      <td>2.876566e+09</td>\n",
       "      <td>3.671272e+05</td>\n",
       "      <td>0.930711</td>\n",
       "      <td>0.768913</td>\n",
       "      <td>915.043176</td>\n",
       "      <td>4.148617e+04</td>\n",
       "      <td>0.539989</td>\n",
       "      <td>0.086517</td>\n",
       "      <td>0.766318</td>\n",
       "      <td>0.650743</td>\n",
       "      <td>1.175459</td>\n",
       "      <td>828.090978</td>\n",
       "      <td>442.575043</td>\n",
       "      <td>29.373411</td>\n",
       "      <td>401.679240</td>\n",
       "      <td>53.505026</td>\n",
       "      <td>0.138564</td>\n",
       "      <td>0.140828</td>\n",
       "      <td>685.391304</td>\n",
       "      <td>27304.179631</td>\n",
       "    </tr>\n",
       "    <tr>\n",
       "      <th>min</th>\n",
       "      <td>1.000102e+06</td>\n",
       "      <td>7.500000e+04</td>\n",
       "      <td>0.000000</td>\n",
       "      <td>0.000000</td>\n",
       "      <td>290.000000</td>\n",
       "      <td>5.200000e+02</td>\n",
       "      <td>1.000000</td>\n",
       "      <td>0.000000</td>\n",
       "      <td>0.000000</td>\n",
       "      <td>1.000000</td>\n",
       "      <td>1.000000</td>\n",
       "      <td>290.000000</td>\n",
       "      <td>0.000000</td>\n",
       "      <td>1900.000000</td>\n",
       "      <td>0.000000</td>\n",
       "      <td>98001.000000</td>\n",
       "      <td>47.155900</td>\n",
       "      <td>-122.519000</td>\n",
       "      <td>399.000000</td>\n",
       "      <td>651.000000</td>\n",
       "    </tr>\n",
       "    <tr>\n",
       "      <th>25%</th>\n",
       "      <td>2.123049e+09</td>\n",
       "      <td>3.219500e+05</td>\n",
       "      <td>3.000000</td>\n",
       "      <td>1.500000</td>\n",
       "      <td>1430.000000</td>\n",
       "      <td>5.040000e+03</td>\n",
       "      <td>1.000000</td>\n",
       "      <td>0.000000</td>\n",
       "      <td>0.000000</td>\n",
       "      <td>3.000000</td>\n",
       "      <td>7.000000</td>\n",
       "      <td>1190.000000</td>\n",
       "      <td>0.000000</td>\n",
       "      <td>1951.000000</td>\n",
       "      <td>0.000000</td>\n",
       "      <td>98033.000000</td>\n",
       "      <td>47.471000</td>\n",
       "      <td>-122.328000</td>\n",
       "      <td>1490.000000</td>\n",
       "      <td>5100.000000</td>\n",
       "    </tr>\n",
       "    <tr>\n",
       "      <th>50%</th>\n",
       "      <td>3.904930e+09</td>\n",
       "      <td>4.500000e+05</td>\n",
       "      <td>3.000000</td>\n",
       "      <td>2.250000</td>\n",
       "      <td>1920.000000</td>\n",
       "      <td>7.620000e+03</td>\n",
       "      <td>1.500000</td>\n",
       "      <td>0.000000</td>\n",
       "      <td>0.000000</td>\n",
       "      <td>3.000000</td>\n",
       "      <td>7.000000</td>\n",
       "      <td>1560.000000</td>\n",
       "      <td>0.000000</td>\n",
       "      <td>1975.000000</td>\n",
       "      <td>0.000000</td>\n",
       "      <td>98065.000000</td>\n",
       "      <td>47.571800</td>\n",
       "      <td>-122.230000</td>\n",
       "      <td>1840.000000</td>\n",
       "      <td>7620.000000</td>\n",
       "    </tr>\n",
       "    <tr>\n",
       "      <th>75%</th>\n",
       "      <td>7.308900e+09</td>\n",
       "      <td>6.450000e+05</td>\n",
       "      <td>4.000000</td>\n",
       "      <td>2.500000</td>\n",
       "      <td>2550.000000</td>\n",
       "      <td>1.070800e+04</td>\n",
       "      <td>2.000000</td>\n",
       "      <td>0.000000</td>\n",
       "      <td>0.000000</td>\n",
       "      <td>4.000000</td>\n",
       "      <td>8.000000</td>\n",
       "      <td>2210.000000</td>\n",
       "      <td>560.000000</td>\n",
       "      <td>1997.000000</td>\n",
       "      <td>0.000000</td>\n",
       "      <td>98118.000000</td>\n",
       "      <td>47.678000</td>\n",
       "      <td>-122.125000</td>\n",
       "      <td>2360.000000</td>\n",
       "      <td>10083.000000</td>\n",
       "    </tr>\n",
       "    <tr>\n",
       "      <th>max</th>\n",
       "      <td>9.900000e+09</td>\n",
       "      <td>7.700000e+06</td>\n",
       "      <td>33.000000</td>\n",
       "      <td>8.000000</td>\n",
       "      <td>12050.000000</td>\n",
       "      <td>1.651359e+06</td>\n",
       "      <td>3.500000</td>\n",
       "      <td>1.000000</td>\n",
       "      <td>4.000000</td>\n",
       "      <td>5.000000</td>\n",
       "      <td>13.000000</td>\n",
       "      <td>9410.000000</td>\n",
       "      <td>4820.000000</td>\n",
       "      <td>2015.000000</td>\n",
       "      <td>2015.000000</td>\n",
       "      <td>98199.000000</td>\n",
       "      <td>47.777600</td>\n",
       "      <td>-121.315000</td>\n",
       "      <td>6210.000000</td>\n",
       "      <td>871200.000000</td>\n",
       "    </tr>\n",
       "  </tbody>\n",
       "</table>\n",
       "</div>"
      ],
      "text/plain": [
       "                 id         price      bedrooms     bathrooms   sqft_living  \\\n",
       "count  2.161300e+04  2.161300e+04  20479.000000  20545.000000  20503.000000   \n",
       "mean   4.580302e+09  5.400881e+05      3.372821      2.113507   2081.073697   \n",
       "std    2.876566e+09  3.671272e+05      0.930711      0.768913    915.043176   \n",
       "min    1.000102e+06  7.500000e+04      0.000000      0.000000    290.000000   \n",
       "25%    2.123049e+09  3.219500e+05      3.000000      1.500000   1430.000000   \n",
       "50%    3.904930e+09  4.500000e+05      3.000000      2.250000   1920.000000   \n",
       "75%    7.308900e+09  6.450000e+05      4.000000      2.500000   2550.000000   \n",
       "max    9.900000e+09  7.700000e+06     33.000000      8.000000  12050.000000   \n",
       "\n",
       "           sqft_lot        floors    waterfront          view     condition  \\\n",
       "count  2.056900e+04  21613.000000  21613.000000  21613.000000  21613.000000   \n",
       "mean   1.517982e+04      1.494309      0.007542      0.234303      3.409430   \n",
       "std    4.148617e+04      0.539989      0.086517      0.766318      0.650743   \n",
       "min    5.200000e+02      1.000000      0.000000      0.000000      1.000000   \n",
       "25%    5.040000e+03      1.000000      0.000000      0.000000      3.000000   \n",
       "50%    7.620000e+03      1.500000      0.000000      0.000000      3.000000   \n",
       "75%    1.070800e+04      2.000000      0.000000      0.000000      4.000000   \n",
       "max    1.651359e+06      3.500000      1.000000      4.000000      5.000000   \n",
       "\n",
       "              grade    sqft_above  sqft_basement      yr_built  yr_renovated  \\\n",
       "count  21613.000000  21613.000000   21613.000000  21613.000000  21613.000000   \n",
       "mean       7.656873   1788.390691     291.509045   1971.005136     84.402258   \n",
       "std        1.175459    828.090978     442.575043     29.373411    401.679240   \n",
       "min        1.000000    290.000000       0.000000   1900.000000      0.000000   \n",
       "25%        7.000000   1190.000000       0.000000   1951.000000      0.000000   \n",
       "50%        7.000000   1560.000000       0.000000   1975.000000      0.000000   \n",
       "75%        8.000000   2210.000000     560.000000   1997.000000      0.000000   \n",
       "max       13.000000   9410.000000    4820.000000   2015.000000   2015.000000   \n",
       "\n",
       "            zipcode           lat          long  sqft_living15     sqft_lot15  \n",
       "count  21613.000000  21613.000000  21613.000000   21613.000000   21613.000000  \n",
       "mean   98077.939805     47.560053   -122.213896    1986.552492   12768.455652  \n",
       "std       53.505026      0.138564      0.140828     685.391304   27304.179631  \n",
       "min    98001.000000     47.155900   -122.519000     399.000000     651.000000  \n",
       "25%    98033.000000     47.471000   -122.328000    1490.000000    5100.000000  \n",
       "50%    98065.000000     47.571800   -122.230000    1840.000000    7620.000000  \n",
       "75%    98118.000000     47.678000   -122.125000    2360.000000   10083.000000  \n",
       "max    98199.000000     47.777600   -121.315000    6210.000000  871200.000000  "
      ]
     },
     "execution_count": 4,
     "metadata": {},
     "output_type": "execute_result"
    }
   ],
   "source": [
    "data.describe()"
   ]
  },
  {
   "cell_type": "markdown",
   "metadata": {},
   "source": [
    "Check for nulls. "
   ]
  },
  {
   "cell_type": "markdown",
   "metadata": {},
   "source": [
    "data.isna().sum()"
   ]
  },
  {
   "cell_type": "markdown",
   "metadata": {},
   "source": [
    "bedrooms, bathrooms, sqft_living, and sqft_lot contain nulls. We'll deal with these later. "
   ]
  },
  {
   "cell_type": "markdown",
   "metadata": {},
   "source": [
    "Now let's remove the columns that we will not use to model price: \n",
    "- id: The unique id of each house is not relevant for modeling sale price. \n",
    "- grade: This score is derived from many of the other variables in the dataset, so any information it provides about home price is redundant. "
   ]
  },
  {
   "cell_type": "code",
   "execution_count": 5,
   "metadata": {},
   "outputs": [],
   "source": [
    "data.drop(['id', 'grade'], axis=1, inplace=True)"
   ]
  },
  {
   "cell_type": "markdown",
   "metadata": {},
   "source": [
    "## Handle Outliers"
   ]
  },
  {
   "cell_type": "markdown",
   "metadata": {},
   "source": [
    "Let's start with the date column."
   ]
  },
  {
   "cell_type": "code",
   "execution_count": 6,
   "metadata": {},
   "outputs": [],
   "source": [
    "columns_with_outliers = set() "
   ]
  },
  {
   "cell_type": "code",
   "execution_count": 7,
   "metadata": {},
   "outputs": [
    {
     "data": {
      "text/plain": [
       "str"
      ]
     },
     "execution_count": 7,
     "metadata": {},
     "output_type": "execute_result"
    }
   ],
   "source": [
    "type(data.date[0])"
   ]
  },
  {
   "cell_type": "markdown",
   "metadata": {},
   "source": [
    "The values in the date column are strings. We should convert them to dates. "
   ]
  },
  {
   "cell_type": "code",
   "execution_count": 8,
   "metadata": {},
   "outputs": [],
   "source": [
    "data['date'] = pd.DatetimeIndex(data.date)"
   ]
  },
  {
   "cell_type": "code",
   "execution_count": 9,
   "metadata": {},
   "outputs": [],
   "source": [
    "#data['date'] = data.apply(lambda row: pd.to_datetime(row.date), axis=1)\n",
    "#data['date']"
   ]
  },
  {
   "cell_type": "code",
   "execution_count": 10,
   "metadata": {},
   "outputs": [],
   "source": [
    "#data['date'] = data['date'].dt.date\n",
    "#data['date']"
   ]
  },
  {
   "cell_type": "code",
   "execution_count": 11,
   "metadata": {},
   "outputs": [
    {
     "data": {
      "text/plain": [
       "(Timestamp('2014-05-02 00:00:00'), Timestamp('2015-05-27 00:00:00'))"
      ]
     },
     "execution_count": 11,
     "metadata": {},
     "output_type": "execute_result"
    }
   ],
   "source": [
    "data.date.min(), data.date.max()"
   ]
  },
  {
   "cell_type": "markdown",
   "metadata": {},
   "source": [
    "All of the dates are within 2014 and 2015, as expected. Let's move on to price. "
   ]
  },
  {
   "cell_type": "code",
   "execution_count": 12,
   "metadata": {},
   "outputs": [
    {
     "data": {
      "image/png": "[encoded data removed]",
      "text/plain": [
       "<Figure size 432x288 with 1 Axes>"
      ]
     },
     "metadata": {
      "needs_background": "light"
     },
     "output_type": "display_data"
    }
   ],
   "source": [
    "sns.boxplot(data=data, y='price')\n",
    "plt.show()"
   ]
  },
  {
   "cell_type": "markdown",
   "metadata": {},
   "source": [
    "There are many price outliers that right-skew the distribution. Let's add it to our set of columns with outliers. And look at bedrooms. "
   ]
  },
  {
   "cell_type": "code",
   "execution_count": 13,
   "metadata": {},
   "outputs": [],
   "source": [
    "columns_with_outliers.add('price')"
   ]
  },
  {
   "cell_type": "code",
   "execution_count": 14,
   "metadata": {},
   "outputs": [
    {
     "data": {
      "image/png": "[encoded data removed]",
      "text/plain": [
       "<Figure size 432x288 with 1 Axes>"
      ]
     },
     "metadata": {
      "needs_background": "light"
     },
     "output_type": "display_data"
    }
   ],
   "source": [
    "sns.boxplot(data=data, y='bedrooms')\n",
    "plt.show()"
   ]
  },
  {
   "cell_type": "markdown",
   "metadata": {},
   "source": [
    "There are bedrooms outliers so let's add it to our set and look at bathrooms. "
   ]
  },
  {
   "cell_type": "code",
   "execution_count": 15,
   "metadata": {},
   "outputs": [],
   "source": [
    "columns_with_outliers.add('bedrooms')"
   ]
  },
  {
   "cell_type": "code",
   "execution_count": 16,
   "metadata": {},
   "outputs": [
    {
     "data": {
      "image/png": "[encoded data removed]",
      "text/plain": [
       "<Figure size 432x288 with 1 Axes>"
      ]
     },
     "metadata": {
      "needs_background": "light"
     },
     "output_type": "display_data"
    }
   ],
   "source": [
    "sns.boxplot(data=data, y='bathrooms')\n",
    "plt.show()"
   ]
  },
  {
   "cell_type": "markdown",
   "metadata": {},
   "source": [
    "There are bathrooms outliers so let's add it to our set and look at sqft_living."
   ]
  },
  {
   "cell_type": "code",
   "execution_count": 17,
   "metadata": {},
   "outputs": [],
   "source": [
    "columns_with_outliers.add('bathrooms')"
   ]
  },
  {
   "cell_type": "markdown",
   "metadata": {},
   "source": [
    "Let's now take a look at sqft_living. "
   ]
  },
  {
   "cell_type": "code",
   "execution_count": 18,
   "metadata": {},
   "outputs": [
    {
     "data": {
      "image/png": "[encoded data removed]",
      "text/plain": [
       "<Figure size 432x288 with 1 Axes>"
      ]
     },
     "metadata": {
      "needs_background": "light"
     },
     "output_type": "display_data"
    }
   ],
   "source": [
    "sns.boxplot(data=data, y='sqft_living')\n",
    "plt.show()"
   ]
  },
  {
   "cell_type": "markdown",
   "metadata": {},
   "source": [
    "There are sqft_living outliers so let's add it to our set and look at sqft_lot. "
   ]
  },
  {
   "cell_type": "code",
   "execution_count": 19,
   "metadata": {},
   "outputs": [],
   "source": [
    "columns_with_outliers.add('sqft_living')"
   ]
  },
  {
   "cell_type": "code",
   "execution_count": 20,
   "metadata": {},
   "outputs": [
    {
     "data": {
      "image/png": "[encoded data removed]",
      "text/plain": [
       "<Figure size 432x288 with 1 Axes>"
      ]
     },
     "metadata": {
      "needs_background": "light"
     },
     "output_type": "display_data"
    }
   ],
   "source": [
    "sns.boxplot(data=data, y='sqft_lot')\n",
    "plt.show()"
   ]
  },
  {
   "cell_type": "markdown",
   "metadata": {},
   "source": [
    "This distribution is extremely right-skewed with many outliers. Let's add it to our set and look at floors."
   ]
  },
  {
   "cell_type": "code",
   "execution_count": 21,
   "metadata": {},
   "outputs": [],
   "source": [
    "columns_with_outliers.add('sqft_lot')"
   ]
  },
  {
   "cell_type": "code",
   "execution_count": 22,
   "metadata": {},
   "outputs": [
    {
     "data": {
      "image/png": "[encoded data removed]",
      "text/plain": [
       "<Figure size 432x288 with 1 Axes>"
      ]
     },
     "metadata": {
      "needs_background": "light"
     },
     "output_type": "display_data"
    }
   ],
   "source": [
    "sns.boxplot(data=data, y='floors')\n",
    "plt.show()"
   ]
  },
  {
   "cell_type": "markdown",
   "metadata": {},
   "source": [
    "There are no floors outliers so let's move on. waterfront is a binary variable with a max of 1 so no outliers there. view is supposed to be a binary variable but the max is 4, so it must have some data errors. "
   ]
  },
  {
   "cell_type": "code",
   "execution_count": 23,
   "metadata": {},
   "outputs": [
    {
     "data": {
      "image/png": "[encoded data removed]",
      "text/plain": [
       "<Figure size 432x288 with 1 Axes>"
      ]
     },
     "metadata": {
      "needs_background": "light"
     },
     "output_type": "display_data"
    }
   ],
   "source": [
    "sns.histplot(data.view)\n",
    "plt.show()"
   ]
  },
  {
   "cell_type": "markdown",
   "metadata": {},
   "source": [
    "Some view values are 2, 3, and 4. Let's add this to our set but make sure we treat it differently when it comes time to actually identify outliers. "
   ]
  },
  {
   "cell_type": "code",
   "execution_count": 24,
   "metadata": {},
   "outputs": [],
   "source": [
    "columns_with_outliers.add('view')"
   ]
  },
  {
   "cell_type": "code",
   "execution_count": 25,
   "metadata": {},
   "outputs": [
    {
     "data": {
      "image/png": "[encoded data removed]",
      "text/plain": [
       "<Figure size 432x288 with 1 Axes>"
      ]
     },
     "metadata": {
      "needs_background": "light"
     },
     "output_type": "display_data"
    }
   ],
   "source": [
    "sns.boxplot(data=data, y='condition')\n",
    "plt.show()"
   ]
  },
  {
   "cell_type": "markdown",
   "metadata": {},
   "source": [
    "Condition has outliers so let's add it to our set and look at sqft_above."
   ]
  },
  {
   "cell_type": "code",
   "execution_count": 26,
   "metadata": {},
   "outputs": [],
   "source": [
    "columns_with_outliers.add('condition')"
   ]
  },
  {
   "cell_type": "code",
   "execution_count": 27,
   "metadata": {},
   "outputs": [
    {
     "data": {
      "image/png": "[encoded data removed]",
      "text/plain": [
       "<Figure size 432x288 with 1 Axes>"
      ]
     },
     "metadata": {
      "needs_background": "light"
     },
     "output_type": "display_data"
    }
   ],
   "source": [
    "sns.boxplot(data=data, y='sqft_above')\n",
    "plt.show()"
   ]
  },
  {
   "cell_type": "markdown",
   "metadata": {},
   "source": [
    "sqft_above has outliers so let's add it to our set and look at sqft_basement."
   ]
  },
  {
   "cell_type": "code",
   "execution_count": 28,
   "metadata": {},
   "outputs": [],
   "source": [
    "columns_with_outliers.add('sqft_above')"
   ]
  },
  {
   "cell_type": "code",
   "execution_count": 29,
   "metadata": {},
   "outputs": [
    {
     "data": {
      "image/png": "[encoded data removed]",
      "text/plain": [
       "<Figure size 432x288 with 1 Axes>"
      ]
     },
     "metadata": {
      "needs_background": "light"
     },
     "output_type": "display_data"
    }
   ],
   "source": [
    "sns.boxplot(data=data, y='sqft_basement')\n",
    "plt.show()"
   ]
  },
  {
   "cell_type": "markdown",
   "metadata": {},
   "source": [
    "sqft_basement has outliers so let's add it to our set and look at yr_built."
   ]
  },
  {
   "cell_type": "code",
   "execution_count": 30,
   "metadata": {},
   "outputs": [],
   "source": [
    "columns_with_outliers.add('sqft_basement')"
   ]
  },
  {
   "cell_type": "code",
   "execution_count": 31,
   "metadata": {},
   "outputs": [
    {
     "data": {
      "image/png": "[encoded data removed]",
      "text/plain": [
       "<Figure size 432x288 with 1 Axes>"
      ]
     },
     "metadata": {
      "needs_background": "light"
     },
     "output_type": "display_data"
    }
   ],
   "source": [
    "sns.boxplot(data=data, y='yr_built')\n",
    "plt.show()"
   ]
  },
  {
   "cell_type": "markdown",
   "metadata": {},
   "source": [
    "No yr_built outliers. Let's look at yr_renovated. Homes that have not been renovated have a value of 0. Let's replace these with nulls so they don't skew the distribution. "
   ]
  },
  {
   "cell_type": "code",
   "execution_count": 32,
   "metadata": {},
   "outputs": [],
   "source": [
    "data.yr_renovated.replace(0, np.nan, inplace=True)"
   ]
  },
  {
   "cell_type": "code",
   "execution_count": 33,
   "metadata": {},
   "outputs": [
    {
     "data": {
      "image/png": "[encoded data removed]",
      "text/plain": [
       "<Figure size 432x288 with 1 Axes>"
      ]
     },
     "metadata": {
      "needs_background": "light"
     },
     "output_type": "display_data"
    }
   ],
   "source": [
    "sns.boxplot(data=data, y='yr_renovated')\n",
    "plt.show()"
   ]
  },
  {
   "cell_type": "markdown",
   "metadata": {},
   "source": [
    "There are some outliers so let's add this to our set and look at zipcode. "
   ]
  },
  {
   "cell_type": "code",
   "execution_count": 34,
   "metadata": {},
   "outputs": [],
   "source": [
    "columns_with_outliers.add('yr_renovated')"
   ]
  },
  {
   "cell_type": "code",
   "execution_count": 35,
   "metadata": {},
   "outputs": [
    {
     "data": {
      "image/png": "[encoded data removed]",
      "text/plain": [
       "<Figure size 432x288 with 1 Axes>"
      ]
     },
     "metadata": {
      "needs_background": "light"
     },
     "output_type": "display_data"
    }
   ],
   "source": [
    "sns.boxplot(data=data, y='zipcode')\n",
    "plt.show()"
   ]
  },
  {
   "cell_type": "markdown",
   "metadata": {},
   "source": [
    "No zipcode outliers so let's move on to sqft_living15. "
   ]
  },
  {
   "cell_type": "code",
   "execution_count": 36,
   "metadata": {},
   "outputs": [
    {
     "data": {
      "image/png": "[encoded data removed]",
      "text/plain": [
       "<Figure size 432x288 with 1 Axes>"
      ]
     },
     "metadata": {
      "needs_background": "light"
     },
     "output_type": "display_data"
    }
   ],
   "source": [
    "sns.boxplot(data=data, y='sqft_living15')\n",
    "plt.show()"
   ]
  },
  {
   "cell_type": "markdown",
   "metadata": {},
   "source": [
    "It has outliers so let's add it to our set and look at sqft_lot15. "
   ]
  },
  {
   "cell_type": "code",
   "execution_count": 37,
   "metadata": {},
   "outputs": [],
   "source": [
    "columns_with_outliers.add('sqft_living15')"
   ]
  },
  {
   "cell_type": "code",
   "execution_count": 38,
   "metadata": {},
   "outputs": [
    {
     "data": {
      "image/png": "[encoded data removed]",
      "text/plain": [
       "<Figure size 432x288 with 1 Axes>"
      ]
     },
     "metadata": {
      "needs_background": "light"
     },
     "output_type": "display_data"
    }
   ],
   "source": [
    "sns.boxplot(data=data, y='sqft_lot15')\n",
    "plt.show()"
   ]
  },
  {
   "cell_type": "markdown",
   "metadata": {},
   "source": [
    "There are some very extreme outliers so let's add this column to our set as well. "
   ]
  },
  {
   "cell_type": "code",
   "execution_count": 39,
   "metadata": {},
   "outputs": [],
   "source": [
    "columns_with_outliers.add('sqft_lot15')"
   ]
  },
  {
   "cell_type": "code",
   "execution_count": 40,
   "metadata": {},
   "outputs": [
    {
     "data": {
      "text/plain": [
       "{'bathrooms',\n",
       " 'bedrooms',\n",
       " 'condition',\n",
       " 'price',\n",
       " 'sqft_above',\n",
       " 'sqft_basement',\n",
       " 'sqft_living',\n",
       " 'sqft_living15',\n",
       " 'sqft_lot',\n",
       " 'sqft_lot15',\n",
       " 'view',\n",
       " 'yr_renovated'}"
      ]
     },
     "execution_count": 40,
     "metadata": {},
     "output_type": "execute_result"
    }
   ],
   "source": [
    "columns_with_outliers"
   ]
  },
  {
   "cell_type": "code",
   "execution_count": 41,
   "metadata": {},
   "outputs": [],
   "source": [
    "def get_outliers(column):\n",
    "    if column == 'view': # special logic to handle the view column \n",
    "        return data[data.view > 1]\n",
    "    q1 = data[column].quantile(.25) \n",
    "    q3 = data[column].quantile(.75)\n",
    "    iqr = q3 - q1\n",
    "    return data[(data[column] < q1 - 1.5 * iqr) | (data[column] > q3 + 1.5 * iqr)]"
   ]
  },
  {
   "cell_type": "code",
   "execution_count": 42,
   "metadata": {},
   "outputs": [],
   "source": [
    "def consolidate_outliers(columns): \n",
    "    outlier_dfs = [] # list to store the dataframe with each column's outliers \n",
    "    for c in columns: # for each column \n",
    "        df = get_outliers(c) # get its outliers as a dataframe\n",
    "        outlier_dfs.append(df) # add that dataframe to the list \n",
    "    return pd.concat(outlier_dfs).drop_duplicates() # vertically combine the dataframes and drop duplicate rows"
   ]
  },
  {
   "cell_type": "code",
   "execution_count": 43,
   "metadata": {},
   "outputs": [
    {
     "data": {
      "text/plain": [
       "(5242, 19)"
      ]
     },
     "execution_count": 43,
     "metadata": {},
     "output_type": "execute_result"
    }
   ],
   "source": [
    "outliers = consolidate_outliers(columns_with_outliers)\n",
    "outliers.shape"
   ]
  },
  {
   "cell_type": "markdown",
   "metadata": {},
   "source": [
    "Our consolidated, deduped dataframe of outliers from all columns has 4,348 houses. Let's remove them from our dataset. "
   ]
  },
  {
   "cell_type": "code",
   "execution_count": 44,
   "metadata": {},
   "outputs": [
    {
     "data": {
      "text/plain": [
       "(16371, 19)"
      ]
     },
     "execution_count": 44,
     "metadata": {},
     "output_type": "execute_result"
    }
   ],
   "source": [
    "data = data.merge(\n",
    "    outliers,\n",
    "    how='outer',\n",
    "    indicator=True\n",
    ").query('_merge == \"left_only\"').drop('_merge', axis=1)\n",
    "data.shape"
   ]
  },
  {
   "cell_type": "markdown",
   "metadata": {},
   "source": [
    "We have 16,371 rows left after removing the outliers. "
   ]
  },
  {
   "cell_type": "markdown",
   "metadata": {},
   "source": [
    "## Impute Missing Data"
   ]
  },
  {
   "cell_type": "code",
   "execution_count": 45,
   "metadata": {},
   "outputs": [
    {
     "data": {
      "text/plain": [
       "date                 0\n",
       "price                0\n",
       "bedrooms           879\n",
       "bathrooms          774\n",
       "sqft_living        845\n",
       "sqft_lot           850\n",
       "floors               0\n",
       "waterfront           0\n",
       "view                 0\n",
       "condition            0\n",
       "sqft_above           0\n",
       "sqft_basement        0\n",
       "yr_built             0\n",
       "yr_renovated     15861\n",
       "zipcode              0\n",
       "lat                  0\n",
       "long                 0\n",
       "sqft_living15        0\n",
       "sqft_lot15           0\n",
       "dtype: int64"
      ]
     },
     "execution_count": 45,
     "metadata": {},
     "output_type": "execute_result"
    }
   ],
   "source": [
    "data.isna().sum()"
   ]
  },
  {
   "cell_type": "markdown",
   "metadata": {},
   "source": [
    "bedrooms, bathrooms, sqft_living, sqft_lot, and yr_renovated have missing values. yr_renovated only has missing values because we replaced the 0's with nulls when looking for outliers. Let's change them back to 0's. "
   ]
  },
  {
   "cell_type": "code",
   "execution_count": 46,
   "metadata": {},
   "outputs": [
    {
     "data": {
      "text/plain": [
       "0"
      ]
     },
     "execution_count": 46,
     "metadata": {},
     "output_type": "execute_result"
    }
   ],
   "source": [
    "data.yr_renovated.fillna(0, inplace=True)\n",
    "data.yr_renovated.isna().sum()"
   ]
  },
  {
   "cell_type": "code",
   "execution_count": 47,
   "metadata": {},
   "outputs": [
    {
     "data": {
      "text/plain": [
       "0.8791175047808103"
      ]
     },
     "execution_count": 47,
     "metadata": {},
     "output_type": "execute_result"
    }
   ],
   "source": [
    "data.sqft_lot.corr(data.sqft_lot15)"
   ]
  },
  {
   "cell_type": "markdown",
   "metadata": {},
   "source": [
    "sqft_lot and sqft_lot15 are also quite strongly positively correlated, with a coefficient of 0.88"
   ]
  },
  {
   "cell_type": "markdown",
   "metadata": {},
   "source": [
    "Create df of rows with null sqft_living and sqft_lot to use later."
   ]
  },
  {
   "cell_type": "code",
   "execution_count": 48,
   "metadata": {},
   "outputs": [],
   "source": [
    "nullsqft_living = data['sqft_living'].isnull()\n",
    "null_living = pd.DataFrame(data['sqft_living15'][nullsqft_living])\n",
    "\n",
    "nullsqft_lot = data['sqft_lot'].isnull()\n",
    "null_lot = pd.DataFrame(data['sqft_lot15'][nullsqft_lot])"
   ]
  },
  {
   "cell_type": "markdown",
   "metadata": {},
   "source": [
    "Create a data set of data without outliers and where sqft_living and sqft_lot are non-empty Use this set for regression analysis"
   ]
  },
  {
   "cell_type": "code",
   "execution_count": 49,
   "metadata": {},
   "outputs": [
    {
     "data": {
      "text/plain": [
       "14717"
      ]
     },
     "execution_count": 49,
     "metadata": {},
     "output_type": "execute_result"
    }
   ],
   "source": [
    "filtereddata = data.dropna(subset = ['sqft_living', 'sqft_lot'])\n",
    "filtereddata.shape[0]"
   ]
  },
  {
   "cell_type": "code",
   "execution_count": 50,
   "metadata": {},
   "outputs": [
    {
     "data": {
      "text/plain": [
       "price            415000.0000\n",
       "bedrooms              3.0000\n",
       "bathrooms             2.0000\n",
       "sqft_living        1760.0000\n",
       "sqft_lot           7091.0000\n",
       "floors                1.0000\n",
       "waterfront            0.0000\n",
       "view                  0.0000\n",
       "condition             3.0000\n",
       "sqft_above         1440.0000\n",
       "sqft_basement         0.0000\n",
       "yr_built           1973.0000\n",
       "yr_renovated          0.0000\n",
       "zipcode           98072.0000\n",
       "lat                  47.5693\n",
       "long               -122.2620\n",
       "sqft_living15      1714.0000\n",
       "sqft_lot15         7200.0000\n",
       "dtype: float64"
      ]
     },
     "execution_count": 50,
     "metadata": {},
     "output_type": "execute_result"
    }
   ],
   "source": [
    "data.median(numeric_only=True)"
   ]
  },
  {
   "cell_type": "markdown",
   "metadata": {},
   "source": [
    "Sqft_lot based on sqft_lot15"
   ]
  },
  {
   "cell_type": "code",
   "execution_count": 51,
   "metadata": {},
   "outputs": [
    {
     "name": "stdout",
     "output_type": "stream",
     "text": [
      "                            OLS Regression Results                            \n",
      "==============================================================================\n",
      "Dep. Variable:               sqft_lot   R-squared:                       0.772\n",
      "Model:                            OLS   Adj. R-squared:                  0.772\n",
      "Method:                 Least Squares   F-statistic:                 4.981e+04\n",
      "Date:                Thu, 15 Apr 2021   Prob (F-statistic):               0.00\n",
      "Time:                        21:36:12   Log-Likelihood:            -1.2962e+05\n",
      "No. Observations:               14717   AIC:                         2.592e+05\n",
      "Df Residuals:                   14715   BIC:                         2.593e+05\n",
      "Df Model:                           1                                         \n",
      "Covariance Type:            nonrobust                                         \n",
      "==============================================================================\n",
      "                 coef    std err          t      P>|t|      [0.025      0.975]\n",
      "------------------------------------------------------------------------------\n",
      "Intercept    202.8950     33.551      6.047      0.000     137.130     268.660\n",
      "sqft_lot15     0.9881      0.004    223.180      0.000       0.979       0.997\n",
      "==============================================================================\n",
      "Omnibus:                     4475.866   Durbin-Watson:                   1.963\n",
      "Prob(Omnibus):                  0.000   Jarque-Bera (JB):            47405.095\n",
      "Skew:                           1.153   Prob(JB):                         0.00\n",
      "Kurtosis:                      11.485   Cond. No.                     1.91e+04\n",
      "==============================================================================\n",
      "\n",
      "Notes:\n",
      "[1] Standard Errors assume that the covariance matrix of the errors is correctly specified.\n",
      "[2] The condition number is large, 1.91e+04. This might indicate that there are\n",
      "strong multicollinearity or other numerical problems.\n"
     ]
    }
   ],
   "source": [
    "model = ols(\"sqft_lot ~ sqft_lot15\", data=filtereddata).fit()\n",
    "modelsummary = model.summary()\n",
    "print(modelsummary)"
   ]
  },
  {
   "cell_type": "code",
   "execution_count": 52,
   "metadata": {},
   "outputs": [],
   "source": [
    "data['sqft_lot_pred'] = model.predict(data.sqft_lot15) # use the model to predict sqft_lot from sqft_lot15"
   ]
  },
  {
   "cell_type": "code",
   "execution_count": 53,
   "metadata": {},
   "outputs": [],
   "source": [
    "data['sqft_lot'] = data.apply(\n",
    "    lambda row:\n",
    "        row.sqft_lot_pred\n",
    "    if np.isnan(row.sqft_lot) else row.sqft_lot, axis=1)\n",
    "data.drop(columns=['sqft_lot_pred'], inplace=True) # we no longer need this column now that we've imputed sqft_lot"
   ]
  },
  {
   "cell_type": "code",
   "execution_count": 54,
   "metadata": {},
   "outputs": [
    {
     "data": {
      "image/png": "[encoded data removed]",
      "text/plain": [
       "<Figure size 432x288 with 1 Axes>"
      ]
     },
     "metadata": {
      "needs_background": "light"
     },
     "output_type": "display_data"
    },
    {
     "data": {
      "text/plain": [
       "0.8848872284499838"
      ]
     },
     "execution_count": 54,
     "metadata": {},
     "output_type": "execute_result"
    }
   ],
   "source": [
    "sns.scatterplot(data=data, x='sqft_lot', y='sqft_lot15')\n",
    "plt.show()\n",
    "data.sqft_lot.corr(data.sqft_lot15)"
   ]
  },
  {
   "cell_type": "markdown",
   "metadata": {},
   "source": [
    "sqft_living based on sqft_living15"
   ]
  },
  {
   "cell_type": "code",
   "execution_count": 55,
   "metadata": {},
   "outputs": [
    {
     "name": "stdout",
     "output_type": "stream",
     "text": [
      "                            OLS Regression Results                            \n",
      "==============================================================================\n",
      "Dep. Variable:            sqft_living   R-squared:                       0.537\n",
      "Model:                            OLS   Adj. R-squared:                  0.537\n",
      "Method:                 Least Squares   F-statistic:                 1.707e+04\n",
      "Date:                Thu, 15 Apr 2021   Prob (F-statistic):               0.00\n",
      "Time:                        21:36:14   Log-Likelihood:            -1.1045e+05\n",
      "No. Observations:               14717   AIC:                         2.209e+05\n",
      "Df Residuals:                   14715   BIC:                         2.209e+05\n",
      "Df Model:                           1                                         \n",
      "Covariance Type:            nonrobust                                         \n",
      "=================================================================================\n",
      "                    coef    std err          t      P>|t|      [0.025      0.975]\n",
      "---------------------------------------------------------------------------------\n",
      "Intercept       229.0443     12.866     17.802      0.000     203.824     254.264\n",
      "sqft_living15     0.8878      0.007    130.651      0.000       0.875       0.901\n",
      "==============================================================================\n",
      "Omnibus:                     1599.152   Durbin-Watson:                   1.990\n",
      "Prob(Omnibus):                  0.000   Jarque-Bera (JB):             3960.663\n",
      "Skew:                           0.636   Prob(JB):                         0.00\n",
      "Kurtosis:                       5.200   Cond. No.                     6.72e+03\n",
      "==============================================================================\n",
      "\n",
      "Notes:\n",
      "[1] Standard Errors assume that the covariance matrix of the errors is correctly specified.\n",
      "[2] The condition number is large, 6.72e+03. This might indicate that there are\n",
      "strong multicollinearity or other numerical problems.\n"
     ]
    }
   ],
   "source": [
    "model = ols(\"sqft_living ~ sqft_living15\", data=filtereddata).fit()\n",
    "modelsummary = model.summary()\n",
    "print(modelsummary)"
   ]
  },
  {
   "cell_type": "code",
   "execution_count": 56,
   "metadata": {},
   "outputs": [],
   "source": [
    "data['sqft_living_pred'] = model.predict(data.sqft_living15) # use the model to predict sqft_living from sqft_living15"
   ]
  },
  {
   "cell_type": "code",
   "execution_count": 57,
   "metadata": {},
   "outputs": [],
   "source": [
    "data['sqft_living'] = data.apply(\n",
    "    lambda row:\n",
    "        row.sqft_living_pred\n",
    "    if np.isnan(row.sqft_living) else row.sqft_living, axis=1)\n",
    "data.drop(columns=['sqft_living_pred'], inplace=True) # we no longer need this column now that we've imputed sqft_living"
   ]
  },
  {
   "cell_type": "code",
   "execution_count": 58,
   "metadata": {},
   "outputs": [
    {
     "data": {
      "image/png": "[encoded data removed]",
      "text/plain": [
       "<Figure size 432x288 with 1 Axes>"
      ]
     },
     "metadata": {
      "needs_background": "light"
     },
     "output_type": "display_data"
    },
    {
     "data": {
      "text/plain": [
       "0.7431137994860139"
      ]
     },
     "execution_count": 58,
     "metadata": {},
     "output_type": "execute_result"
    }
   ],
   "source": [
    "sns.scatterplot(data=data, x='sqft_living', y='sqft_living15')\n",
    "plt.show()\n",
    "data.sqft_living.corr(data.sqft_living15)"
   ]
  },
  {
   "cell_type": "code",
   "execution_count": 59,
   "metadata": {},
   "outputs": [
    {
     "data": {
      "text/plain": [
       "date               0\n",
       "price              0\n",
       "bedrooms         879\n",
       "bathrooms        774\n",
       "sqft_living        0\n",
       "sqft_lot           0\n",
       "floors             0\n",
       "waterfront         0\n",
       "view               0\n",
       "condition          0\n",
       "sqft_above         0\n",
       "sqft_basement      0\n",
       "yr_built           0\n",
       "yr_renovated       0\n",
       "zipcode            0\n",
       "lat                0\n",
       "long               0\n",
       "sqft_living15      0\n",
       "sqft_lot15         0\n",
       "dtype: int64"
      ]
     },
     "execution_count": 59,
     "metadata": {},
     "output_type": "execute_result"
    }
   ],
   "source": [
    "data.isna().sum()"
   ]
  },
  {
   "cell_type": "markdown",
   "metadata": {},
   "source": [
    "There are no null sqft_living or sqft_lot records anymore."
   ]
  },
  {
   "cell_type": "code",
   "execution_count": 60,
   "metadata": {},
   "outputs": [
    {
     "data": {
      "text/html": [
       "<div>\n",
       "<style scoped>\n",
       "    .dataframe tbody tr th:only-of-type {\n",
       "        vertical-align: middle;\n",
       "    }\n",
       "\n",
       "    .dataframe tbody tr th {\n",
       "        vertical-align: top;\n",
       "    }\n",
       "\n",
       "    .dataframe thead th {\n",
       "        text-align: right;\n",
       "    }\n",
       "</style>\n",
       "<table border=\"1\" class=\"dataframe\">\n",
       "  <thead>\n",
       "    <tr style=\"text-align: right;\">\n",
       "      <th></th>\n",
       "      <th>price</th>\n",
       "      <th>bedrooms</th>\n",
       "      <th>bathrooms</th>\n",
       "      <th>sqft_living</th>\n",
       "      <th>sqft_lot</th>\n",
       "      <th>floors</th>\n",
       "      <th>waterfront</th>\n",
       "      <th>view</th>\n",
       "      <th>condition</th>\n",
       "      <th>sqft_above</th>\n",
       "      <th>sqft_basement</th>\n",
       "      <th>yr_built</th>\n",
       "      <th>yr_renovated</th>\n",
       "      <th>zipcode</th>\n",
       "      <th>lat</th>\n",
       "      <th>long</th>\n",
       "      <th>sqft_living15</th>\n",
       "      <th>sqft_lot15</th>\n",
       "    </tr>\n",
       "  </thead>\n",
       "  <tbody>\n",
       "    <tr>\n",
       "      <th>count</th>\n",
       "      <td>1.637100e+04</td>\n",
       "      <td>15492.000000</td>\n",
       "      <td>15597.000000</td>\n",
       "      <td>16371.000000</td>\n",
       "      <td>16371.000000</td>\n",
       "      <td>16371.000000</td>\n",
       "      <td>16371.0</td>\n",
       "      <td>16371.000000</td>\n",
       "      <td>16371.000000</td>\n",
       "      <td>16371.000000</td>\n",
       "      <td>16371.000000</td>\n",
       "      <td>16371.000000</td>\n",
       "      <td>16371.000000</td>\n",
       "      <td>16371.000000</td>\n",
       "      <td>16371.000000</td>\n",
       "      <td>16371.000000</td>\n",
       "      <td>16371.000000</td>\n",
       "      <td>16371.000000</td>\n",
       "    </tr>\n",
       "    <tr>\n",
       "      <th>mean</th>\n",
       "      <td>4.491966e+05</td>\n",
       "      <td>3.269042</td>\n",
       "      <td>1.987882</td>\n",
       "      <td>1842.644268</td>\n",
       "      <td>7080.798993</td>\n",
       "      <td>1.475933</td>\n",
       "      <td>0.0</td>\n",
       "      <td>0.013805</td>\n",
       "      <td>3.408222</td>\n",
       "      <td>1609.964022</td>\n",
       "      <td>232.107935</td>\n",
       "      <td>1970.745709</td>\n",
       "      <td>62.238409</td>\n",
       "      <td>98080.142875</td>\n",
       "      <td>47.559102</td>\n",
       "      <td>-122.226055</td>\n",
       "      <td>1816.442001</td>\n",
       "      <td>6962.028648</td>\n",
       "    </tr>\n",
       "    <tr>\n",
       "      <th>std</th>\n",
       "      <td>1.911349e+05</td>\n",
       "      <td>0.778422</td>\n",
       "      <td>0.662792</td>\n",
       "      <td>638.499581</td>\n",
       "      <td>3383.591776</td>\n",
       "      <td>0.544872</td>\n",
       "      <td>0.0</td>\n",
       "      <td>0.116684</td>\n",
       "      <td>0.642177</td>\n",
       "      <td>631.197579</td>\n",
       "      <td>356.910843</td>\n",
       "      <td>29.762532</td>\n",
       "      <td>347.107390</td>\n",
       "      <td>53.469244</td>\n",
       "      <td>0.140109</td>\n",
       "      <td>0.132301</td>\n",
       "      <td>533.871488</td>\n",
       "      <td>3028.393000</td>\n",
       "    </tr>\n",
       "    <tr>\n",
       "      <th>min</th>\n",
       "      <td>8.200000e+04</td>\n",
       "      <td>2.000000</td>\n",
       "      <td>0.500000</td>\n",
       "      <td>520.000000</td>\n",
       "      <td>520.000000</td>\n",
       "      <td>1.000000</td>\n",
       "      <td>0.0</td>\n",
       "      <td>0.000000</td>\n",
       "      <td>2.000000</td>\n",
       "      <td>480.000000</td>\n",
       "      <td>0.000000</td>\n",
       "      <td>1900.000000</td>\n",
       "      <td>0.000000</td>\n",
       "      <td>98001.000000</td>\n",
       "      <td>47.155900</td>\n",
       "      <td>-122.472000</td>\n",
       "      <td>620.000000</td>\n",
       "      <td>651.000000</td>\n",
       "    </tr>\n",
       "    <tr>\n",
       "      <th>25%</th>\n",
       "      <td>3.007615e+05</td>\n",
       "      <td>3.000000</td>\n",
       "      <td>1.500000</td>\n",
       "      <td>1362.500000</td>\n",
       "      <td>4760.000000</td>\n",
       "      <td>1.000000</td>\n",
       "      <td>0.0</td>\n",
       "      <td>0.000000</td>\n",
       "      <td>3.000000</td>\n",
       "      <td>1140.000000</td>\n",
       "      <td>0.000000</td>\n",
       "      <td>1951.000000</td>\n",
       "      <td>0.000000</td>\n",
       "      <td>98033.000000</td>\n",
       "      <td>47.464800</td>\n",
       "      <td>-122.334000</td>\n",
       "      <td>1430.000000</td>\n",
       "      <td>4840.000000</td>\n",
       "    </tr>\n",
       "    <tr>\n",
       "      <th>50%</th>\n",
       "      <td>4.150000e+05</td>\n",
       "      <td>3.000000</td>\n",
       "      <td>2.000000</td>\n",
       "      <td>1760.000000</td>\n",
       "      <td>7100.000000</td>\n",
       "      <td>1.000000</td>\n",
       "      <td>0.0</td>\n",
       "      <td>0.000000</td>\n",
       "      <td>3.000000</td>\n",
       "      <td>1440.000000</td>\n",
       "      <td>0.000000</td>\n",
       "      <td>1973.000000</td>\n",
       "      <td>0.000000</td>\n",
       "      <td>98072.000000</td>\n",
       "      <td>47.569300</td>\n",
       "      <td>-122.262000</td>\n",
       "      <td>1714.000000</td>\n",
       "      <td>7200.000000</td>\n",
       "    </tr>\n",
       "    <tr>\n",
       "      <th>75%</th>\n",
       "      <td>5.600000e+05</td>\n",
       "      <td>4.000000</td>\n",
       "      <td>2.500000</td>\n",
       "      <td>2240.000000</td>\n",
       "      <td>9008.819696</td>\n",
       "      <td>2.000000</td>\n",
       "      <td>0.0</td>\n",
       "      <td>0.000000</td>\n",
       "      <td>4.000000</td>\n",
       "      <td>1950.000000</td>\n",
       "      <td>460.000000</td>\n",
       "      <td>1998.000000</td>\n",
       "      <td>0.000000</td>\n",
       "      <td>98118.000000</td>\n",
       "      <td>47.681900</td>\n",
       "      <td>-122.149000</td>\n",
       "      <td>2120.000000</td>\n",
       "      <td>8775.000000</td>\n",
       "    </tr>\n",
       "    <tr>\n",
       "      <th>max</th>\n",
       "      <td>1.127000e+06</td>\n",
       "      <td>5.000000</td>\n",
       "      <td>4.000000</td>\n",
       "      <td>4200.000000</td>\n",
       "      <td>19210.000000</td>\n",
       "      <td>3.500000</td>\n",
       "      <td>0.0</td>\n",
       "      <td>1.000000</td>\n",
       "      <td>5.000000</td>\n",
       "      <td>3740.000000</td>\n",
       "      <td>1400.000000</td>\n",
       "      <td>2015.000000</td>\n",
       "      <td>2015.000000</td>\n",
       "      <td>98199.000000</td>\n",
       "      <td>47.777600</td>\n",
       "      <td>-121.319000</td>\n",
       "      <td>3660.000000</td>\n",
       "      <td>17550.000000</td>\n",
       "    </tr>\n",
       "  </tbody>\n",
       "</table>\n",
       "</div>"
      ],
      "text/plain": [
       "              price      bedrooms     bathrooms   sqft_living      sqft_lot  \\\n",
       "count  1.637100e+04  15492.000000  15597.000000  16371.000000  16371.000000   \n",
       "mean   4.491966e+05      3.269042      1.987882   1842.644268   7080.798993   \n",
       "std    1.911349e+05      0.778422      0.662792    638.499581   3383.591776   \n",
       "min    8.200000e+04      2.000000      0.500000    520.000000    520.000000   \n",
       "25%    3.007615e+05      3.000000      1.500000   1362.500000   4760.000000   \n",
       "50%    4.150000e+05      3.000000      2.000000   1760.000000   7100.000000   \n",
       "75%    5.600000e+05      4.000000      2.500000   2240.000000   9008.819696   \n",
       "max    1.127000e+06      5.000000      4.000000   4200.000000  19210.000000   \n",
       "\n",
       "             floors  waterfront          view     condition    sqft_above  \\\n",
       "count  16371.000000     16371.0  16371.000000  16371.000000  16371.000000   \n",
       "mean       1.475933         0.0      0.013805      3.408222   1609.964022   \n",
       "std        0.544872         0.0      0.116684      0.642177    631.197579   \n",
       "min        1.000000         0.0      0.000000      2.000000    480.000000   \n",
       "25%        1.000000         0.0      0.000000      3.000000   1140.000000   \n",
       "50%        1.000000         0.0      0.000000      3.000000   1440.000000   \n",
       "75%        2.000000         0.0      0.000000      4.000000   1950.000000   \n",
       "max        3.500000         0.0      1.000000      5.000000   3740.000000   \n",
       "\n",
       "       sqft_basement      yr_built  yr_renovated       zipcode           lat  \\\n",
       "count   16371.000000  16371.000000  16371.000000  16371.000000  16371.000000   \n",
       "mean      232.107935   1970.745709     62.238409  98080.142875     47.559102   \n",
       "std       356.910843     29.762532    347.107390     53.469244      0.140109   \n",
       "min         0.000000   1900.000000      0.000000  98001.000000     47.155900   \n",
       "25%         0.000000   1951.000000      0.000000  98033.000000     47.464800   \n",
       "50%         0.000000   1973.000000      0.000000  98072.000000     47.569300   \n",
       "75%       460.000000   1998.000000      0.000000  98118.000000     47.681900   \n",
       "max      1400.000000   2015.000000   2015.000000  98199.000000     47.777600   \n",
       "\n",
       "               long  sqft_living15    sqft_lot15  \n",
       "count  16371.000000   16371.000000  16371.000000  \n",
       "mean    -122.226055    1816.442001   6962.028648  \n",
       "std        0.132301     533.871488   3028.393000  \n",
       "min     -122.472000     620.000000    651.000000  \n",
       "25%     -122.334000    1430.000000   4840.000000  \n",
       "50%     -122.262000    1714.000000   7200.000000  \n",
       "75%     -122.149000    2120.000000   8775.000000  \n",
       "max     -121.319000    3660.000000  17550.000000  "
      ]
     },
     "execution_count": 60,
     "metadata": {},
     "output_type": "execute_result"
    }
   ],
   "source": [
    "data.describe()"
   ]
  },
  {
   "cell_type": "markdown",
   "metadata": {},
   "source": [
    "Create dataset without missing values for bedrooms and bathrooms."
   ]
  },
  {
   "cell_type": "code",
   "execution_count": 61,
   "metadata": {},
   "outputs": [
    {
     "data": {
      "text/plain": [
       "14765"
      ]
     },
     "execution_count": 61,
     "metadata": {},
     "output_type": "execute_result"
    }
   ],
   "source": [
    "filtereddata2 = data.dropna(subset = ['bedrooms', 'bathrooms'])\n",
    "filtereddata2.shape[0]"
   ]
  },
  {
   "cell_type": "code",
   "execution_count": 62,
   "metadata": {},
   "outputs": [
    {
     "data": {
      "text/html": [
       "<div>\n",
       "<style scoped>\n",
       "    .dataframe tbody tr th:only-of-type {\n",
       "        vertical-align: middle;\n",
       "    }\n",
       "\n",
       "    .dataframe tbody tr th {\n",
       "        vertical-align: top;\n",
       "    }\n",
       "\n",
       "    .dataframe thead th {\n",
       "        text-align: right;\n",
       "    }\n",
       "</style>\n",
       "<table border=\"1\" class=\"dataframe\">\n",
       "  <thead>\n",
       "    <tr style=\"text-align: right;\">\n",
       "      <th></th>\n",
       "      <th>price</th>\n",
       "      <th>bedrooms</th>\n",
       "      <th>bathrooms</th>\n",
       "      <th>sqft_living</th>\n",
       "      <th>sqft_lot</th>\n",
       "      <th>floors</th>\n",
       "      <th>waterfront</th>\n",
       "      <th>view</th>\n",
       "      <th>condition</th>\n",
       "      <th>sqft_above</th>\n",
       "      <th>sqft_basement</th>\n",
       "      <th>yr_built</th>\n",
       "      <th>yr_renovated</th>\n",
       "      <th>zipcode</th>\n",
       "      <th>lat</th>\n",
       "      <th>long</th>\n",
       "      <th>sqft_living15</th>\n",
       "      <th>sqft_lot15</th>\n",
       "    </tr>\n",
       "  </thead>\n",
       "  <tbody>\n",
       "    <tr>\n",
       "      <th>price</th>\n",
       "      <td>1.000000</td>\n",
       "      <td>0.264865</td>\n",
       "      <td>0.390239</td>\n",
       "      <td>0.556092</td>\n",
       "      <td>-0.061737</td>\n",
       "      <td>0.263282</td>\n",
       "      <td>NaN</td>\n",
       "      <td>0.102514</td>\n",
       "      <td>0.046400</td>\n",
       "      <td>0.458317</td>\n",
       "      <td>0.201706</td>\n",
       "      <td>0.012478</td>\n",
       "      <td>0.094108</td>\n",
       "      <td>0.000665</td>\n",
       "      <td>0.481087</td>\n",
       "      <td>0.032513</td>\n",
       "      <td>0.487261</td>\n",
       "      <td>-0.068176</td>\n",
       "    </tr>\n",
       "    <tr>\n",
       "      <th>bedrooms</th>\n",
       "      <td>0.264865</td>\n",
       "      <td>1.000000</td>\n",
       "      <td>0.463805</td>\n",
       "      <td>0.605727</td>\n",
       "      <td>0.194640</td>\n",
       "      <td>0.156451</td>\n",
       "      <td>NaN</td>\n",
       "      <td>0.005751</td>\n",
       "      <td>0.011267</td>\n",
       "      <td>0.490833</td>\n",
       "      <td>0.241758</td>\n",
       "      <td>0.174712</td>\n",
       "      <td>0.011291</td>\n",
       "      <td>-0.179570</td>\n",
       "      <td>-0.069668</td>\n",
       "      <td>0.170787</td>\n",
       "      <td>0.411566</td>\n",
       "      <td>0.183176</td>\n",
       "    </tr>\n",
       "    <tr>\n",
       "      <th>bathrooms</th>\n",
       "      <td>0.390239</td>\n",
       "      <td>0.463805</td>\n",
       "      <td>1.000000</td>\n",
       "      <td>0.678946</td>\n",
       "      <td>-0.066379</td>\n",
       "      <td>0.530414</td>\n",
       "      <td>NaN</td>\n",
       "      <td>0.022759</td>\n",
       "      <td>-0.163632</td>\n",
       "      <td>0.607657</td>\n",
       "      <td>0.168991</td>\n",
       "      <td>0.576047</td>\n",
       "      <td>0.019696</td>\n",
       "      <td>-0.227157</td>\n",
       "      <td>-0.032935</td>\n",
       "      <td>0.259178</td>\n",
       "      <td>0.522404</td>\n",
       "      <td>-0.070660</td>\n",
       "    </tr>\n",
       "    <tr>\n",
       "      <th>sqft_living</th>\n",
       "      <td>0.556092</td>\n",
       "      <td>0.605727</td>\n",
       "      <td>0.678946</td>\n",
       "      <td>1.000000</td>\n",
       "      <td>0.181743</td>\n",
       "      <td>0.349934</td>\n",
       "      <td>NaN</td>\n",
       "      <td>0.066160</td>\n",
       "      <td>-0.089267</td>\n",
       "      <td>0.838240</td>\n",
       "      <td>0.304535</td>\n",
       "      <td>0.357136</td>\n",
       "      <td>0.021154</td>\n",
       "      <td>-0.219731</td>\n",
       "      <td>-0.005204</td>\n",
       "      <td>0.279716</td>\n",
       "      <td>0.744108</td>\n",
       "      <td>0.169699</td>\n",
       "    </tr>\n",
       "    <tr>\n",
       "      <th>sqft_lot</th>\n",
       "      <td>-0.061737</td>\n",
       "      <td>0.194640</td>\n",
       "      <td>-0.066379</td>\n",
       "      <td>0.181743</td>\n",
       "      <td>1.000000</td>\n",
       "      <td>-0.371441</td>\n",
       "      <td>NaN</td>\n",
       "      <td>0.037470</td>\n",
       "      <td>0.124798</td>\n",
       "      <td>0.145376</td>\n",
       "      <td>0.066975</td>\n",
       "      <td>-0.069373</td>\n",
       "      <td>-0.009061</td>\n",
       "      <td>-0.253811</td>\n",
       "      <td>-0.138734</td>\n",
       "      <td>0.243933</td>\n",
       "      <td>0.220659</td>\n",
       "      <td>0.884326</td>\n",
       "    </tr>\n",
       "    <tr>\n",
       "      <th>floors</th>\n",
       "      <td>0.263282</td>\n",
       "      <td>0.156451</td>\n",
       "      <td>0.530414</td>\n",
       "      <td>0.349934</td>\n",
       "      <td>-0.371441</td>\n",
       "      <td>1.000000</td>\n",
       "      <td>NaN</td>\n",
       "      <td>-0.027384</td>\n",
       "      <td>-0.289885</td>\n",
       "      <td>0.539747</td>\n",
       "      <td>-0.314718</td>\n",
       "      <td>0.531614</td>\n",
       "      <td>-0.010480</td>\n",
       "      <td>-0.069132</td>\n",
       "      <td>0.017700</td>\n",
       "      <td>0.141433</td>\n",
       "      <td>0.283987</td>\n",
       "      <td>-0.379367</td>\n",
       "    </tr>\n",
       "    <tr>\n",
       "      <th>waterfront</th>\n",
       "      <td>NaN</td>\n",
       "      <td>NaN</td>\n",
       "      <td>NaN</td>\n",
       "      <td>NaN</td>\n",
       "      <td>NaN</td>\n",
       "      <td>NaN</td>\n",
       "      <td>NaN</td>\n",
       "      <td>NaN</td>\n",
       "      <td>NaN</td>\n",
       "      <td>NaN</td>\n",
       "      <td>NaN</td>\n",
       "      <td>NaN</td>\n",
       "      <td>NaN</td>\n",
       "      <td>NaN</td>\n",
       "      <td>NaN</td>\n",
       "      <td>NaN</td>\n",
       "      <td>NaN</td>\n",
       "      <td>NaN</td>\n",
       "    </tr>\n",
       "    <tr>\n",
       "      <th>view</th>\n",
       "      <td>0.102514</td>\n",
       "      <td>0.005751</td>\n",
       "      <td>0.022759</td>\n",
       "      <td>0.066160</td>\n",
       "      <td>0.037470</td>\n",
       "      <td>-0.027384</td>\n",
       "      <td>NaN</td>\n",
       "      <td>1.000000</td>\n",
       "      <td>0.013565</td>\n",
       "      <td>0.011407</td>\n",
       "      <td>0.096725</td>\n",
       "      <td>-0.042233</td>\n",
       "      <td>0.021309</td>\n",
       "      <td>0.061174</td>\n",
       "      <td>0.009343</td>\n",
       "      <td>-0.066366</td>\n",
       "      <td>0.086626</td>\n",
       "      <td>0.047444</td>\n",
       "    </tr>\n",
       "    <tr>\n",
       "      <th>condition</th>\n",
       "      <td>0.046400</td>\n",
       "      <td>0.011267</td>\n",
       "      <td>-0.163632</td>\n",
       "      <td>-0.089267</td>\n",
       "      <td>0.124798</td>\n",
       "      <td>-0.289885</td>\n",
       "      <td>NaN</td>\n",
       "      <td>0.013565</td>\n",
       "      <td>1.000000</td>\n",
       "      <td>-0.194961</td>\n",
       "      <td>0.184078</td>\n",
       "      <td>-0.382339</td>\n",
       "      <td>-0.062457</td>\n",
       "      <td>0.000279</td>\n",
       "      <td>0.004276</td>\n",
       "      <td>-0.103765</td>\n",
       "      <td>-0.142411</td>\n",
       "      <td>0.127492</td>\n",
       "    </tr>\n",
       "    <tr>\n",
       "      <th>sqft_above</th>\n",
       "      <td>0.458317</td>\n",
       "      <td>0.490833</td>\n",
       "      <td>0.607657</td>\n",
       "      <td>0.838240</td>\n",
       "      <td>0.145376</td>\n",
       "      <td>0.539747</td>\n",
       "      <td>NaN</td>\n",
       "      <td>0.011407</td>\n",
       "      <td>-0.194961</td>\n",
       "      <td>1.000000</td>\n",
       "      <td>-0.240984</td>\n",
       "      <td>0.472146</td>\n",
       "      <td>-0.008816</td>\n",
       "      <td>-0.291072</td>\n",
       "      <td>-0.076793</td>\n",
       "      <td>0.390702</td>\n",
       "      <td>0.722430</td>\n",
       "      <td>0.134378</td>\n",
       "    </tr>\n",
       "    <tr>\n",
       "      <th>sqft_basement</th>\n",
       "      <td>0.201706</td>\n",
       "      <td>0.241758</td>\n",
       "      <td>0.168991</td>\n",
       "      <td>0.304535</td>\n",
       "      <td>0.066975</td>\n",
       "      <td>-0.314718</td>\n",
       "      <td>NaN</td>\n",
       "      <td>0.096725</td>\n",
       "      <td>0.184078</td>\n",
       "      <td>-0.240984</td>\n",
       "      <td>1.000000</td>\n",
       "      <td>-0.190231</td>\n",
       "      <td>0.058109</td>\n",
       "      <td>0.122235</td>\n",
       "      <td>0.129306</td>\n",
       "      <td>-0.192951</td>\n",
       "      <td>0.052351</td>\n",
       "      <td>0.063122</td>\n",
       "    </tr>\n",
       "    <tr>\n",
       "      <th>yr_built</th>\n",
       "      <td>0.012478</td>\n",
       "      <td>0.174712</td>\n",
       "      <td>0.576047</td>\n",
       "      <td>0.357136</td>\n",
       "      <td>-0.069373</td>\n",
       "      <td>0.531614</td>\n",
       "      <td>NaN</td>\n",
       "      <td>-0.042233</td>\n",
       "      <td>-0.382339</td>\n",
       "      <td>0.472146</td>\n",
       "      <td>-0.190231</td>\n",
       "      <td>1.000000</td>\n",
       "      <td>-0.207328</td>\n",
       "      <td>-0.344917</td>\n",
       "      <td>-0.183482</td>\n",
       "      <td>0.415355</td>\n",
       "      <td>0.374272</td>\n",
       "      <td>-0.048875</td>\n",
       "    </tr>\n",
       "    <tr>\n",
       "      <th>yr_renovated</th>\n",
       "      <td>0.094108</td>\n",
       "      <td>0.011291</td>\n",
       "      <td>0.019696</td>\n",
       "      <td>0.021154</td>\n",
       "      <td>-0.009061</td>\n",
       "      <td>-0.010480</td>\n",
       "      <td>NaN</td>\n",
       "      <td>0.021309</td>\n",
       "      <td>-0.062457</td>\n",
       "      <td>-0.008816</td>\n",
       "      <td>0.058109</td>\n",
       "      <td>-0.207328</td>\n",
       "      <td>1.000000</td>\n",
       "      <td>0.073085</td>\n",
       "      <td>0.035676</td>\n",
       "      <td>-0.070293</td>\n",
       "      <td>-0.048444</td>\n",
       "      <td>-0.015133</td>\n",
       "    </tr>\n",
       "    <tr>\n",
       "      <th>zipcode</th>\n",
       "      <td>0.000665</td>\n",
       "      <td>-0.179570</td>\n",
       "      <td>-0.227157</td>\n",
       "      <td>-0.219731</td>\n",
       "      <td>-0.253811</td>\n",
       "      <td>-0.069132</td>\n",
       "      <td>NaN</td>\n",
       "      <td>0.061174</td>\n",
       "      <td>0.000279</td>\n",
       "      <td>-0.291072</td>\n",
       "      <td>0.122235</td>\n",
       "      <td>-0.344917</td>\n",
       "      <td>0.073085</td>\n",
       "      <td>1.000000</td>\n",
       "      <td>0.299158</td>\n",
       "      <td>-0.570083</td>\n",
       "      <td>-0.309909</td>\n",
       "      <td>-0.256742</td>\n",
       "    </tr>\n",
       "    <tr>\n",
       "      <th>lat</th>\n",
       "      <td>0.481087</td>\n",
       "      <td>-0.069668</td>\n",
       "      <td>-0.032935</td>\n",
       "      <td>-0.005204</td>\n",
       "      <td>-0.138734</td>\n",
       "      <td>0.017700</td>\n",
       "      <td>NaN</td>\n",
       "      <td>0.009343</td>\n",
       "      <td>0.004276</td>\n",
       "      <td>-0.076793</td>\n",
       "      <td>0.129306</td>\n",
       "      <td>-0.183482</td>\n",
       "      <td>0.035676</td>\n",
       "      <td>0.299158</td>\n",
       "      <td>1.000000</td>\n",
       "      <td>-0.159467</td>\n",
       "      <td>-0.011020</td>\n",
       "      <td>-0.136164</td>\n",
       "    </tr>\n",
       "    <tr>\n",
       "      <th>long</th>\n",
       "      <td>0.032513</td>\n",
       "      <td>0.170787</td>\n",
       "      <td>0.259178</td>\n",
       "      <td>0.279716</td>\n",
       "      <td>0.243933</td>\n",
       "      <td>0.141433</td>\n",
       "      <td>NaN</td>\n",
       "      <td>-0.066366</td>\n",
       "      <td>-0.103765</td>\n",
       "      <td>0.390702</td>\n",
       "      <td>-0.192951</td>\n",
       "      <td>0.415355</td>\n",
       "      <td>-0.070293</td>\n",
       "      <td>-0.570083</td>\n",
       "      <td>-0.159467</td>\n",
       "      <td>1.000000</td>\n",
       "      <td>0.372270</td>\n",
       "      <td>0.250363</td>\n",
       "    </tr>\n",
       "    <tr>\n",
       "      <th>sqft_living15</th>\n",
       "      <td>0.487261</td>\n",
       "      <td>0.411566</td>\n",
       "      <td>0.522404</td>\n",
       "      <td>0.744108</td>\n",
       "      <td>0.220659</td>\n",
       "      <td>0.283987</td>\n",
       "      <td>NaN</td>\n",
       "      <td>0.086626</td>\n",
       "      <td>-0.142411</td>\n",
       "      <td>0.722430</td>\n",
       "      <td>0.052351</td>\n",
       "      <td>0.374272</td>\n",
       "      <td>-0.048444</td>\n",
       "      <td>-0.309909</td>\n",
       "      <td>-0.011020</td>\n",
       "      <td>0.372270</td>\n",
       "      <td>1.000000</td>\n",
       "      <td>0.237354</td>\n",
       "    </tr>\n",
       "    <tr>\n",
       "      <th>sqft_lot15</th>\n",
       "      <td>-0.068176</td>\n",
       "      <td>0.183176</td>\n",
       "      <td>-0.070660</td>\n",
       "      <td>0.169699</td>\n",
       "      <td>0.884326</td>\n",
       "      <td>-0.379367</td>\n",
       "      <td>NaN</td>\n",
       "      <td>0.047444</td>\n",
       "      <td>0.127492</td>\n",
       "      <td>0.134378</td>\n",
       "      <td>0.063122</td>\n",
       "      <td>-0.048875</td>\n",
       "      <td>-0.015133</td>\n",
       "      <td>-0.256742</td>\n",
       "      <td>-0.136164</td>\n",
       "      <td>0.250363</td>\n",
       "      <td>0.237354</td>\n",
       "      <td>1.000000</td>\n",
       "    </tr>\n",
       "  </tbody>\n",
       "</table>\n",
       "</div>"
      ],
      "text/plain": [
       "                  price  bedrooms  bathrooms  sqft_living  sqft_lot    floors  \\\n",
       "price          1.000000  0.264865   0.390239     0.556092 -0.061737  0.263282   \n",
       "bedrooms       0.264865  1.000000   0.463805     0.605727  0.194640  0.156451   \n",
       "bathrooms      0.390239  0.463805   1.000000     0.678946 -0.066379  0.530414   \n",
       "sqft_living    0.556092  0.605727   0.678946     1.000000  0.181743  0.349934   \n",
       "sqft_lot      -0.061737  0.194640  -0.066379     0.181743  1.000000 -0.371441   \n",
       "floors         0.263282  0.156451   0.530414     0.349934 -0.371441  1.000000   \n",
       "waterfront          NaN       NaN        NaN          NaN       NaN       NaN   \n",
       "view           0.102514  0.005751   0.022759     0.066160  0.037470 -0.027384   \n",
       "condition      0.046400  0.011267  -0.163632    -0.089267  0.124798 -0.289885   \n",
       "sqft_above     0.458317  0.490833   0.607657     0.838240  0.145376  0.539747   \n",
       "sqft_basement  0.201706  0.241758   0.168991     0.304535  0.066975 -0.314718   \n",
       "yr_built       0.012478  0.174712   0.576047     0.357136 -0.069373  0.531614   \n",
       "yr_renovated   0.094108  0.011291   0.019696     0.021154 -0.009061 -0.010480   \n",
       "zipcode        0.000665 -0.179570  -0.227157    -0.219731 -0.253811 -0.069132   \n",
       "lat            0.481087 -0.069668  -0.032935    -0.005204 -0.138734  0.017700   \n",
       "long           0.032513  0.170787   0.259178     0.279716  0.243933  0.141433   \n",
       "sqft_living15  0.487261  0.411566   0.522404     0.744108  0.220659  0.283987   \n",
       "sqft_lot15    -0.068176  0.183176  -0.070660     0.169699  0.884326 -0.379367   \n",
       "\n",
       "               waterfront      view  condition  sqft_above  sqft_basement  \\\n",
       "price                 NaN  0.102514   0.046400    0.458317       0.201706   \n",
       "bedrooms              NaN  0.005751   0.011267    0.490833       0.241758   \n",
       "bathrooms             NaN  0.022759  -0.163632    0.607657       0.168991   \n",
       "sqft_living           NaN  0.066160  -0.089267    0.838240       0.304535   \n",
       "sqft_lot              NaN  0.037470   0.124798    0.145376       0.066975   \n",
       "floors                NaN -0.027384  -0.289885    0.539747      -0.314718   \n",
       "waterfront            NaN       NaN        NaN         NaN            NaN   \n",
       "view                  NaN  1.000000   0.013565    0.011407       0.096725   \n",
       "condition             NaN  0.013565   1.000000   -0.194961       0.184078   \n",
       "sqft_above            NaN  0.011407  -0.194961    1.000000      -0.240984   \n",
       "sqft_basement         NaN  0.096725   0.184078   -0.240984       1.000000   \n",
       "yr_built              NaN -0.042233  -0.382339    0.472146      -0.190231   \n",
       "yr_renovated          NaN  0.021309  -0.062457   -0.008816       0.058109   \n",
       "zipcode               NaN  0.061174   0.000279   -0.291072       0.122235   \n",
       "lat                   NaN  0.009343   0.004276   -0.076793       0.129306   \n",
       "long                  NaN -0.066366  -0.103765    0.390702      -0.192951   \n",
       "sqft_living15         NaN  0.086626  -0.142411    0.722430       0.052351   \n",
       "sqft_lot15            NaN  0.047444   0.127492    0.134378       0.063122   \n",
       "\n",
       "               yr_built  yr_renovated   zipcode       lat      long  \\\n",
       "price          0.012478      0.094108  0.000665  0.481087  0.032513   \n",
       "bedrooms       0.174712      0.011291 -0.179570 -0.069668  0.170787   \n",
       "bathrooms      0.576047      0.019696 -0.227157 -0.032935  0.259178   \n",
       "sqft_living    0.357136      0.021154 -0.219731 -0.005204  0.279716   \n",
       "sqft_lot      -0.069373     -0.009061 -0.253811 -0.138734  0.243933   \n",
       "floors         0.531614     -0.010480 -0.069132  0.017700  0.141433   \n",
       "waterfront          NaN           NaN       NaN       NaN       NaN   \n",
       "view          -0.042233      0.021309  0.061174  0.009343 -0.066366   \n",
       "condition     -0.382339     -0.062457  0.000279  0.004276 -0.103765   \n",
       "sqft_above     0.472146     -0.008816 -0.291072 -0.076793  0.390702   \n",
       "sqft_basement -0.190231      0.058109  0.122235  0.129306 -0.192951   \n",
       "yr_built       1.000000     -0.207328 -0.344917 -0.183482  0.415355   \n",
       "yr_renovated  -0.207328      1.000000  0.073085  0.035676 -0.070293   \n",
       "zipcode       -0.344917      0.073085  1.000000  0.299158 -0.570083   \n",
       "lat           -0.183482      0.035676  0.299158  1.000000 -0.159467   \n",
       "long           0.415355     -0.070293 -0.570083 -0.159467  1.000000   \n",
       "sqft_living15  0.374272     -0.048444 -0.309909 -0.011020  0.372270   \n",
       "sqft_lot15    -0.048875     -0.015133 -0.256742 -0.136164  0.250363   \n",
       "\n",
       "               sqft_living15  sqft_lot15  \n",
       "price               0.487261   -0.068176  \n",
       "bedrooms            0.411566    0.183176  \n",
       "bathrooms           0.522404   -0.070660  \n",
       "sqft_living         0.744108    0.169699  \n",
       "sqft_lot            0.220659    0.884326  \n",
       "floors              0.283987   -0.379367  \n",
       "waterfront               NaN         NaN  \n",
       "view                0.086626    0.047444  \n",
       "condition          -0.142411    0.127492  \n",
       "sqft_above          0.722430    0.134378  \n",
       "sqft_basement       0.052351    0.063122  \n",
       "yr_built            0.374272   -0.048875  \n",
       "yr_renovated       -0.048444   -0.015133  \n",
       "zipcode            -0.309909   -0.256742  \n",
       "lat                -0.011020   -0.136164  \n",
       "long                0.372270    0.250363  \n",
       "sqft_living15       1.000000    0.237354  \n",
       "sqft_lot15          0.237354    1.000000  "
      ]
     },
     "execution_count": 62,
     "metadata": {},
     "output_type": "execute_result"
    }
   ],
   "source": [
    "filtereddata2.corr()"
   ]
  },
  {
   "cell_type": "markdown",
   "metadata": {},
   "source": [
    "Bathrooms and bedrooms do not have a strong correlation with any of the other variables so we will use median imputation."
   ]
  },
  {
   "cell_type": "code",
   "execution_count": 63,
   "metadata": {},
   "outputs": [],
   "source": [
    "data['bedrooms'] = data['bedrooms'].fillna(data['bedrooms'].median())"
   ]
  },
  {
   "cell_type": "code",
   "execution_count": 64,
   "metadata": {},
   "outputs": [],
   "source": [
    "data['bathrooms'] = data['bathrooms'].fillna(data['bathrooms'].median())"
   ]
  },
  {
   "cell_type": "code",
   "execution_count": 65,
   "metadata": {},
   "outputs": [
    {
     "data": {
      "image/png": "[encoded data removed]",
      "text/plain": [
       "<Figure size 432x288 with 1 Axes>"
      ]
     },
     "metadata": {
      "needs_background": "light"
     },
     "output_type": "display_data"
    }
   ],
   "source": [
    "sns.scatterplot(data=data, x='bedrooms', y='bathrooms')\n",
    "plt.show()"
   ]
  },
  {
   "cell_type": "code",
   "execution_count": 66,
   "metadata": {},
   "outputs": [
    {
     "data": {
      "text/plain": [
       "date             0\n",
       "price            0\n",
       "bedrooms         0\n",
       "bathrooms        0\n",
       "sqft_living      0\n",
       "sqft_lot         0\n",
       "floors           0\n",
       "waterfront       0\n",
       "view             0\n",
       "condition        0\n",
       "sqft_above       0\n",
       "sqft_basement    0\n",
       "yr_built         0\n",
       "yr_renovated     0\n",
       "zipcode          0\n",
       "lat              0\n",
       "long             0\n",
       "sqft_living15    0\n",
       "sqft_lot15       0\n",
       "dtype: int64"
      ]
     },
     "execution_count": 66,
     "metadata": {},
     "output_type": "execute_result"
    }
   ],
   "source": [
    "data.isna().sum()"
   ]
  },
  {
   "cell_type": "code",
   "execution_count": 67,
   "metadata": {},
   "outputs": [
    {
     "data": {
      "text/plain": [
       "price            415000.0000\n",
       "bedrooms              3.0000\n",
       "bathrooms             2.0000\n",
       "sqft_living        1760.0000\n",
       "sqft_lot           7100.0000\n",
       "floors                1.0000\n",
       "waterfront            0.0000\n",
       "view                  0.0000\n",
       "condition             3.0000\n",
       "sqft_above         1440.0000\n",
       "sqft_basement         0.0000\n",
       "yr_built           1973.0000\n",
       "yr_renovated          0.0000\n",
       "zipcode           98072.0000\n",
       "lat                  47.5693\n",
       "long               -122.2620\n",
       "sqft_living15      1714.0000\n",
       "sqft_lot15         7200.0000\n",
       "dtype: float64"
      ]
     },
     "execution_count": 67,
     "metadata": {},
     "output_type": "execute_result"
    }
   ],
   "source": [
    "data.median(numeric_only=True)"
   ]
  },
  {
   "cell_type": "markdown",
   "metadata": {},
   "source": [
    "## Engineer Features"
   ]
  },
  {
   "cell_type": "markdown",
   "metadata": {},
   "source": [
    "### Location"
   ]
  },
  {
   "cell_type": "markdown",
   "metadata": {},
   "source": [
    "zipcode is a categorical variable with 70 unique values. We'll need to dummify it if we're going to include it in our model. But 69 binary variables is a lot, so first we should check whether zipcode is at all informative of price. "
   ]
  },
  {
   "cell_type": "code",
   "execution_count": 68,
   "metadata": {},
   "outputs": [
    {
     "data": {
      "image/png": "[encoded data removed]",
      "text/plain": [
       "<Figure size 432x288 with 1 Axes>"
      ]
     },
     "metadata": {
      "needs_background": "light"
     },
     "output_type": "display_data"
    }
   ],
   "source": [
    "mean_price_by_zipcode = data.groupby(['zipcode'])[['price']].mean().reset_index()\n",
    "sns.barplot(\n",
    "    data=mean_price_by_zipcode, \n",
    "    x='zipcode', \n",
    "    y='price', \n",
    "    order=mean_price_by_zipcode.sort_values('price').zipcode\n",
    ")\n",
    "plt.show()"
   ]
  },
  {
   "cell_type": "markdown",
   "metadata": {},
   "source": [
    "It looks like there's quite a lot of variance in price across zipcodes, so zipcode could be helpful in predicting a home's sell price. "
   ]
  },
  {
   "cell_type": "markdown",
   "metadata": {},
   "source": [
    "Let's try clustering homes on latitude and longitude to see if we can capture location information with fewer categories. Let's start by plotting lat and long and coloring by price. "
   ]
  },
  {
   "cell_type": "code",
   "execution_count": 69,
   "metadata": {},
   "outputs": [
    {
     "data": {
      "image/png": "[encoded data removed]",
      "text/plain": [
       "<Figure size 432x288 with 1 Axes>"
      ]
     },
     "metadata": {
      "needs_background": "light"
     },
     "output_type": "display_data"
    }
   ],
   "source": [
    "sns.scatterplot(data=data, x='long', y='lat', hue='price', alpha=0.3)\n",
    "plt.show()"
   ]
  },
  {
   "cell_type": "markdown",
   "metadata": {},
   "source": [
    "It looks like houses in the north tend to be pricier than those in the south. Let's try clustering on geo coordinates using the K Means algorithm. "
   ]
  },
  {
   "cell_type": "markdown",
   "metadata": {},
   "source": [
    "We don't know which number of clusters is optimal so we'll have to iteratively test out different values. "
   ]
  },
  {
   "cell_type": "code",
   "execution_count": 70,
   "metadata": {},
   "outputs": [],
   "source": [
    "coords = data[['long', 'lat']].values # store lat and long as a numpy array\n",
    "k_clusters = np.arange(2, 21) # we'll be testing 2 to 20 clusters \n",
    "sse_scores = [] \n",
    "silhouette_scores = []\n",
    "for k in k_clusters: # for each number of clusters \n",
    "    kmeans = cluster.KMeans(n_clusters=k, random_state=5) # instantiate a K Means with that many clusters\n",
    "    kmeans.fit(coords) # fit it to the coordinates \n",
    "    sse_scores.append(kmeans.inertia_) # record its Sum of Squared Errors \n",
    "    silhouette_scores.append(silhouette_score(coords, kmeans.labels_)) # record its Silhouette Score "
   ]
  },
  {
   "cell_type": "code",
   "execution_count": 71,
   "metadata": {},
   "outputs": [],
   "source": [
    "# store the scores for each k calculated above in a dataframe for easy plotting \n",
    "kmeans_scores = pd.DataFrame({\n",
    "    'k': k_clusters,\n",
    "    'SSE': sse_scores,\n",
    "    'Silhouette Coefficient': silhouette_scores\n",
    "})"
   ]
  },
  {
   "cell_type": "code",
   "execution_count": 72,
   "metadata": {},
   "outputs": [
    {
     "data": {
      "image/png": "[encoded data removed]",
      "text/plain": [
       "<Figure size 432x288 with 1 Axes>"
      ]
     },
     "metadata": {
      "needs_background": "light"
     },
     "output_type": "display_data"
    }
   ],
   "source": [
    "sns.lineplot(data=kmeans_scores, x='k', y='SSE')\n",
    "plt.show()"
   ]
  },
  {
   "cell_type": "code",
   "execution_count": 73,
   "metadata": {},
   "outputs": [
    {
     "data": {
      "image/png": "[encoded data removed]",
      "text/plain": [
       "<Figure size 432x288 with 1 Axes>"
      ]
     },
     "metadata": {
      "needs_background": "light"
     },
     "output_type": "display_data"
    }
   ],
   "source": [
    "sns.lineplot(data=kmeans_scores, x='k', y='Silhouette Coefficient')\n",
    "plt.show()"
   ]
  },
  {
   "cell_type": "markdown",
   "metadata": {},
   "source": [
    "Using the Elbow Method we can see that the SSE curve's inflection is around k=8. We also see that the Silhouette Coefficient's maximum occurs at k=8. These metrics' corroboration gives us confidence to move forward with 8 clusters. "
   ]
  },
  {
   "cell_type": "code",
   "execution_count": 74,
   "metadata": {},
   "outputs": [],
   "source": [
    "kmeans = cluster.KMeans(n_clusters=8, random_state=5).fit(coords)\n",
    "data['cluster'] = kmeans.labels_ # store the homes' cluster labels as a column in our dataset "
   ]
  },
  {
   "cell_type": "markdown",
   "metadata": {},
   "source": [
    "Let's plot our geo clusters and see how they look. "
   ]
  },
  {
   "cell_type": "code",
   "execution_count": 75,
   "metadata": {},
   "outputs": [
    {
     "data": {
      "image/png": "[encoded data removed]",
      "text/plain": [
       "<Figure size 432x288 with 1 Axes>"
      ]
     },
     "metadata": {
      "needs_background": "light"
     },
     "output_type": "display_data"
    }
   ],
   "source": [
    "sns.scatterplot(data=data, x='long', y='lat', hue='cluster')\n",
    "plt.show()"
   ]
  },
  {
   "cell_type": "markdown",
   "metadata": {},
   "source": [
    "Looks pretty good! But do they correlate with price? Let's regress price on our clusters to find out. To do that we first need to dummify our clusters. "
   ]
  },
  {
   "cell_type": "code",
   "execution_count": 76,
   "metadata": {},
   "outputs": [
    {
     "data": {
      "text/html": [
       "<div>\n",
       "<style scoped>\n",
       "    .dataframe tbody tr th:only-of-type {\n",
       "        vertical-align: middle;\n",
       "    }\n",
       "\n",
       "    .dataframe tbody tr th {\n",
       "        vertical-align: top;\n",
       "    }\n",
       "\n",
       "    .dataframe thead th {\n",
       "        text-align: right;\n",
       "    }\n",
       "</style>\n",
       "<table border=\"1\" class=\"dataframe\">\n",
       "  <thead>\n",
       "    <tr style=\"text-align: right;\">\n",
       "      <th></th>\n",
       "      <th>cluster_1</th>\n",
       "      <th>cluster_2</th>\n",
       "      <th>cluster_3</th>\n",
       "      <th>cluster_4</th>\n",
       "      <th>cluster_5</th>\n",
       "      <th>cluster_6</th>\n",
       "      <th>cluster_7</th>\n",
       "    </tr>\n",
       "  </thead>\n",
       "  <tbody>\n",
       "    <tr>\n",
       "      <th>0</th>\n",
       "      <td>0</td>\n",
       "      <td>0</td>\n",
       "      <td>0</td>\n",
       "      <td>0</td>\n",
       "      <td>1</td>\n",
       "      <td>0</td>\n",
       "      <td>0</td>\n",
       "    </tr>\n",
       "    <tr>\n",
       "      <th>1</th>\n",
       "      <td>0</td>\n",
       "      <td>1</td>\n",
       "      <td>0</td>\n",
       "      <td>0</td>\n",
       "      <td>0</td>\n",
       "      <td>0</td>\n",
       "      <td>0</td>\n",
       "    </tr>\n",
       "    <tr>\n",
       "      <th>2</th>\n",
       "      <td>0</td>\n",
       "      <td>0</td>\n",
       "      <td>0</td>\n",
       "      <td>0</td>\n",
       "      <td>0</td>\n",
       "      <td>0</td>\n",
       "      <td>1</td>\n",
       "    </tr>\n",
       "    <tr>\n",
       "      <th>3</th>\n",
       "      <td>0</td>\n",
       "      <td>0</td>\n",
       "      <td>0</td>\n",
       "      <td>0</td>\n",
       "      <td>1</td>\n",
       "      <td>0</td>\n",
       "      <td>0</td>\n",
       "    </tr>\n",
       "    <tr>\n",
       "      <th>4</th>\n",
       "      <td>1</td>\n",
       "      <td>0</td>\n",
       "      <td>0</td>\n",
       "      <td>0</td>\n",
       "      <td>0</td>\n",
       "      <td>0</td>\n",
       "      <td>0</td>\n",
       "    </tr>\n",
       "  </tbody>\n",
       "</table>\n",
       "</div>"
      ],
      "text/plain": [
       "   cluster_1  cluster_2  cluster_3  cluster_4  cluster_5  cluster_6  cluster_7\n",
       "0          0          0          0          0          1          0          0\n",
       "1          0          1          0          0          0          0          0\n",
       "2          0          0          0          0          0          0          1\n",
       "3          0          0          0          0          1          0          0\n",
       "4          1          0          0          0          0          0          0"
      ]
     },
     "execution_count": 76,
     "metadata": {},
     "output_type": "execute_result"
    }
   ],
   "source": [
    "cluster_dummies = pd.get_dummies(\n",
    "    data.cluster, \n",
    "    drop_first=True, \n",
    "    prefix='cluster'\n",
    ")\n",
    "cluster_dummies.head()"
   ]
  },
  {
   "cell_type": "code",
   "execution_count": 77,
   "metadata": {},
   "outputs": [
    {
     "name": "stdout",
     "output_type": "stream",
     "text": [
      "                            OLS Regression Results                            \n",
      "==============================================================================\n",
      "Dep. Variable:                  price   R-squared:                       0.285\n",
      "Model:                            OLS   Adj. R-squared:                  0.284\n",
      "Method:                 Least Squares   F-statistic:                     930.6\n",
      "Date:                Thu, 15 Apr 2021   Prob (F-statistic):               0.00\n",
      "Time:                        21:40:18   Log-Likelihood:            -2.1957e+05\n",
      "No. Observations:               16371   AIC:                         4.392e+05\n",
      "Df Residuals:                   16363   BIC:                         4.392e+05\n",
      "Df Model:                           7                                         \n",
      "Covariance Type:            nonrobust                                         \n",
      "==============================================================================\n",
      "                 coef    std err          t      P>|t|      [0.025      0.975]\n",
      "------------------------------------------------------------------------------\n",
      "const           3e+05   4411.888     67.998      0.000    2.91e+05    3.09e+05\n",
      "cluster_1   2.706e+05   5796.129     46.688      0.000    2.59e+05    2.82e+05\n",
      "cluster_2   2.335e+05   5097.744     45.806      0.000    2.24e+05    2.44e+05\n",
      "cluster_3   1.249e+05   5593.566     22.335      0.000    1.14e+05    1.36e+05\n",
      "cluster_4   1.316e+05   9346.864     14.083      0.000    1.13e+05     1.5e+05\n",
      "cluster_5   9.563e+04   5326.486     17.954      0.000    8.52e+04    1.06e+05\n",
      "cluster_6  -3.356e+04   5864.642     -5.722      0.000   -4.51e+04   -2.21e+04\n",
      "cluster_7   2.421e+05   5771.543     41.953      0.000    2.31e+05    2.53e+05\n",
      "==============================================================================\n",
      "Omnibus:                     2178.118   Durbin-Watson:                   1.965\n",
      "Prob(Omnibus):                  0.000   Jarque-Bera (JB):             3366.819\n",
      "Skew:                           0.949   Prob(JB):                         0.00\n",
      "Kurtosis:                       4.153   Cond. No.                         11.3\n",
      "==============================================================================\n",
      "\n",
      "Notes:\n",
      "[1] Standard Errors assume that the covariance matrix of the errors is correctly specified.\n"
     ]
    }
   ],
   "source": [
    "exog = sm.add_constant(cluster_dummies)\n",
    "endog = data.price\n",
    "lm = sm.OLS(endog, exog).fit()\n",
    "print(lm.summary())"
   ]
  },
  {
   "cell_type": "markdown",
   "metadata": {},
   "source": [
    "Our geo clusters alone explain 28.4% of variance in home price. Not bad! Let's add them to the rest of our data and give them more intuitive names. "
   ]
  },
  {
   "cell_type": "code",
   "execution_count": 78,
   "metadata": {},
   "outputs": [
    {
     "data": {
      "text/html": [
       "<div>\n",
       "<style scoped>\n",
       "    .dataframe tbody tr th:only-of-type {\n",
       "        vertical-align: middle;\n",
       "    }\n",
       "\n",
       "    .dataframe tbody tr th {\n",
       "        vertical-align: top;\n",
       "    }\n",
       "\n",
       "    .dataframe thead th {\n",
       "        text-align: right;\n",
       "    }\n",
       "</style>\n",
       "<table border=\"1\" class=\"dataframe\">\n",
       "  <thead>\n",
       "    <tr style=\"text-align: right;\">\n",
       "      <th></th>\n",
       "      <th>date</th>\n",
       "      <th>price</th>\n",
       "      <th>bedrooms</th>\n",
       "      <th>bathrooms</th>\n",
       "      <th>sqft_living</th>\n",
       "      <th>sqft_lot</th>\n",
       "      <th>floors</th>\n",
       "      <th>waterfront</th>\n",
       "      <th>view</th>\n",
       "      <th>condition</th>\n",
       "      <th>...</th>\n",
       "      <th>sqft_living15</th>\n",
       "      <th>sqft_lot15</th>\n",
       "      <th>cluster</th>\n",
       "      <th>cluster_1</th>\n",
       "      <th>cluster_2</th>\n",
       "      <th>cluster_3</th>\n",
       "      <th>cluster_4</th>\n",
       "      <th>cluster_5</th>\n",
       "      <th>cluster_6</th>\n",
       "      <th>cluster_7</th>\n",
       "    </tr>\n",
       "  </thead>\n",
       "  <tbody>\n",
       "    <tr>\n",
       "      <th>0</th>\n",
       "      <td>2014-10-13</td>\n",
       "      <td>221900.0</td>\n",
       "      <td>3.0</td>\n",
       "      <td>1.00</td>\n",
       "      <td>1180.0</td>\n",
       "      <td>5650.0</td>\n",
       "      <td>1.0</td>\n",
       "      <td>0</td>\n",
       "      <td>0</td>\n",
       "      <td>3</td>\n",
       "      <td>...</td>\n",
       "      <td>1340</td>\n",
       "      <td>5650</td>\n",
       "      <td>5</td>\n",
       "      <td>0</td>\n",
       "      <td>0</td>\n",
       "      <td>0</td>\n",
       "      <td>0</td>\n",
       "      <td>1</td>\n",
       "      <td>0</td>\n",
       "      <td>0</td>\n",
       "    </tr>\n",
       "    <tr>\n",
       "      <th>1</th>\n",
       "      <td>2014-12-09</td>\n",
       "      <td>538000.0</td>\n",
       "      <td>3.0</td>\n",
       "      <td>2.25</td>\n",
       "      <td>2570.0</td>\n",
       "      <td>7242.0</td>\n",
       "      <td>2.0</td>\n",
       "      <td>0</td>\n",
       "      <td>0</td>\n",
       "      <td>3</td>\n",
       "      <td>...</td>\n",
       "      <td>1690</td>\n",
       "      <td>7639</td>\n",
       "      <td>2</td>\n",
       "      <td>0</td>\n",
       "      <td>1</td>\n",
       "      <td>0</td>\n",
       "      <td>0</td>\n",
       "      <td>0</td>\n",
       "      <td>0</td>\n",
       "      <td>0</td>\n",
       "    </tr>\n",
       "    <tr>\n",
       "      <th>2</th>\n",
       "      <td>2015-02-25</td>\n",
       "      <td>180000.0</td>\n",
       "      <td>2.0</td>\n",
       "      <td>1.00</td>\n",
       "      <td>770.0</td>\n",
       "      <td>10000.0</td>\n",
       "      <td>1.0</td>\n",
       "      <td>0</td>\n",
       "      <td>0</td>\n",
       "      <td>3</td>\n",
       "      <td>...</td>\n",
       "      <td>2720</td>\n",
       "      <td>8062</td>\n",
       "      <td>7</td>\n",
       "      <td>0</td>\n",
       "      <td>0</td>\n",
       "      <td>0</td>\n",
       "      <td>0</td>\n",
       "      <td>0</td>\n",
       "      <td>0</td>\n",
       "      <td>1</td>\n",
       "    </tr>\n",
       "    <tr>\n",
       "      <th>3</th>\n",
       "      <td>2014-12-09</td>\n",
       "      <td>604000.0</td>\n",
       "      <td>4.0</td>\n",
       "      <td>3.00</td>\n",
       "      <td>1960.0</td>\n",
       "      <td>5000.0</td>\n",
       "      <td>1.0</td>\n",
       "      <td>0</td>\n",
       "      <td>0</td>\n",
       "      <td>5</td>\n",
       "      <td>...</td>\n",
       "      <td>1360</td>\n",
       "      <td>5000</td>\n",
       "      <td>5</td>\n",
       "      <td>0</td>\n",
       "      <td>0</td>\n",
       "      <td>0</td>\n",
       "      <td>0</td>\n",
       "      <td>1</td>\n",
       "      <td>0</td>\n",
       "      <td>0</td>\n",
       "    </tr>\n",
       "    <tr>\n",
       "      <th>4</th>\n",
       "      <td>2015-02-18</td>\n",
       "      <td>510000.0</td>\n",
       "      <td>3.0</td>\n",
       "      <td>2.00</td>\n",
       "      <td>1680.0</td>\n",
       "      <td>8080.0</td>\n",
       "      <td>1.0</td>\n",
       "      <td>0</td>\n",
       "      <td>0</td>\n",
       "      <td>3</td>\n",
       "      <td>...</td>\n",
       "      <td>1800</td>\n",
       "      <td>7503</td>\n",
       "      <td>1</td>\n",
       "      <td>1</td>\n",
       "      <td>0</td>\n",
       "      <td>0</td>\n",
       "      <td>0</td>\n",
       "      <td>0</td>\n",
       "      <td>0</td>\n",
       "      <td>0</td>\n",
       "    </tr>\n",
       "  </tbody>\n",
       "</table>\n",
       "<p>5 rows × 27 columns</p>\n",
       "</div>"
      ],
      "text/plain": [
       "        date     price  bedrooms  bathrooms  sqft_living  sqft_lot  floors  \\\n",
       "0 2014-10-13  221900.0       3.0       1.00       1180.0    5650.0     1.0   \n",
       "1 2014-12-09  538000.0       3.0       2.25       2570.0    7242.0     2.0   \n",
       "2 2015-02-25  180000.0       2.0       1.00        770.0   10000.0     1.0   \n",
       "3 2014-12-09  604000.0       4.0       3.00       1960.0    5000.0     1.0   \n",
       "4 2015-02-18  510000.0       3.0       2.00       1680.0    8080.0     1.0   \n",
       "\n",
       "   waterfront  view  condition  ...  sqft_living15  sqft_lot15  cluster  \\\n",
       "0           0     0          3  ...           1340        5650        5   \n",
       "1           0     0          3  ...           1690        7639        2   \n",
       "2           0     0          3  ...           2720        8062        7   \n",
       "3           0     0          5  ...           1360        5000        5   \n",
       "4           0     0          3  ...           1800        7503        1   \n",
       "\n",
       "   cluster_1  cluster_2  cluster_3  cluster_4  cluster_5  cluster_6  cluster_7  \n",
       "0          0          0          0          0          1          0          0  \n",
       "1          0          1          0          0          0          0          0  \n",
       "2          0          0          0          0          0          0          1  \n",
       "3          0          0          0          0          1          0          0  \n",
       "4          1          0          0          0          0          0          0  \n",
       "\n",
       "[5 rows x 27 columns]"
      ]
     },
     "execution_count": 78,
     "metadata": {},
     "output_type": "execute_result"
    }
   ],
   "source": [
    "data = pd.concat([data, cluster_dummies], axis=1)\n",
    "data.head()"
   ]
  },
  {
   "cell_type": "code",
   "execution_count": 79,
   "metadata": {},
   "outputs": [
    {
     "data": {
      "text/html": [
       "<div>\n",
       "<style scoped>\n",
       "    .dataframe tbody tr th:only-of-type {\n",
       "        vertical-align: middle;\n",
       "    }\n",
       "\n",
       "    .dataframe tbody tr th {\n",
       "        vertical-align: top;\n",
       "    }\n",
       "\n",
       "    .dataframe thead th {\n",
       "        text-align: right;\n",
       "    }\n",
       "</style>\n",
       "<table border=\"1\" class=\"dataframe\">\n",
       "  <thead>\n",
       "    <tr style=\"text-align: right;\">\n",
       "      <th></th>\n",
       "      <th>date</th>\n",
       "      <th>price</th>\n",
       "      <th>bedrooms</th>\n",
       "      <th>bathrooms</th>\n",
       "      <th>sqft_living</th>\n",
       "      <th>sqft_lot</th>\n",
       "      <th>floors</th>\n",
       "      <th>waterfront</th>\n",
       "      <th>view</th>\n",
       "      <th>condition</th>\n",
       "      <th>...</th>\n",
       "      <th>sqft_living15</th>\n",
       "      <th>sqft_lot15</th>\n",
       "      <th>cluster</th>\n",
       "      <th>northeast</th>\n",
       "      <th>northwest</th>\n",
       "      <th>southeast</th>\n",
       "      <th>east_central</th>\n",
       "      <th>southwest</th>\n",
       "      <th>inland</th>\n",
       "      <th>north_central</th>\n",
       "    </tr>\n",
       "  </thead>\n",
       "  <tbody>\n",
       "    <tr>\n",
       "      <th>0</th>\n",
       "      <td>2014-10-13</td>\n",
       "      <td>221900.0</td>\n",
       "      <td>3.0</td>\n",
       "      <td>1.00</td>\n",
       "      <td>1180.0</td>\n",
       "      <td>5650.0</td>\n",
       "      <td>1.0</td>\n",
       "      <td>0</td>\n",
       "      <td>0</td>\n",
       "      <td>3</td>\n",
       "      <td>...</td>\n",
       "      <td>1340</td>\n",
       "      <td>5650</td>\n",
       "      <td>5</td>\n",
       "      <td>0</td>\n",
       "      <td>0</td>\n",
       "      <td>0</td>\n",
       "      <td>0</td>\n",
       "      <td>1</td>\n",
       "      <td>0</td>\n",
       "      <td>0</td>\n",
       "    </tr>\n",
       "    <tr>\n",
       "      <th>1</th>\n",
       "      <td>2014-12-09</td>\n",
       "      <td>538000.0</td>\n",
       "      <td>3.0</td>\n",
       "      <td>2.25</td>\n",
       "      <td>2570.0</td>\n",
       "      <td>7242.0</td>\n",
       "      <td>2.0</td>\n",
       "      <td>0</td>\n",
       "      <td>0</td>\n",
       "      <td>3</td>\n",
       "      <td>...</td>\n",
       "      <td>1690</td>\n",
       "      <td>7639</td>\n",
       "      <td>2</td>\n",
       "      <td>0</td>\n",
       "      <td>1</td>\n",
       "      <td>0</td>\n",
       "      <td>0</td>\n",
       "      <td>0</td>\n",
       "      <td>0</td>\n",
       "      <td>0</td>\n",
       "    </tr>\n",
       "    <tr>\n",
       "      <th>2</th>\n",
       "      <td>2015-02-25</td>\n",
       "      <td>180000.0</td>\n",
       "      <td>2.0</td>\n",
       "      <td>1.00</td>\n",
       "      <td>770.0</td>\n",
       "      <td>10000.0</td>\n",
       "      <td>1.0</td>\n",
       "      <td>0</td>\n",
       "      <td>0</td>\n",
       "      <td>3</td>\n",
       "      <td>...</td>\n",
       "      <td>2720</td>\n",
       "      <td>8062</td>\n",
       "      <td>7</td>\n",
       "      <td>0</td>\n",
       "      <td>0</td>\n",
       "      <td>0</td>\n",
       "      <td>0</td>\n",
       "      <td>0</td>\n",
       "      <td>0</td>\n",
       "      <td>1</td>\n",
       "    </tr>\n",
       "    <tr>\n",
       "      <th>3</th>\n",
       "      <td>2014-12-09</td>\n",
       "      <td>604000.0</td>\n",
       "      <td>4.0</td>\n",
       "      <td>3.00</td>\n",
       "      <td>1960.0</td>\n",
       "      <td>5000.0</td>\n",
       "      <td>1.0</td>\n",
       "      <td>0</td>\n",
       "      <td>0</td>\n",
       "      <td>5</td>\n",
       "      <td>...</td>\n",
       "      <td>1360</td>\n",
       "      <td>5000</td>\n",
       "      <td>5</td>\n",
       "      <td>0</td>\n",
       "      <td>0</td>\n",
       "      <td>0</td>\n",
       "      <td>0</td>\n",
       "      <td>1</td>\n",
       "      <td>0</td>\n",
       "      <td>0</td>\n",
       "    </tr>\n",
       "    <tr>\n",
       "      <th>4</th>\n",
       "      <td>2015-02-18</td>\n",
       "      <td>510000.0</td>\n",
       "      <td>3.0</td>\n",
       "      <td>2.00</td>\n",
       "      <td>1680.0</td>\n",
       "      <td>8080.0</td>\n",
       "      <td>1.0</td>\n",
       "      <td>0</td>\n",
       "      <td>0</td>\n",
       "      <td>3</td>\n",
       "      <td>...</td>\n",
       "      <td>1800</td>\n",
       "      <td>7503</td>\n",
       "      <td>1</td>\n",
       "      <td>1</td>\n",
       "      <td>0</td>\n",
       "      <td>0</td>\n",
       "      <td>0</td>\n",
       "      <td>0</td>\n",
       "      <td>0</td>\n",
       "      <td>0</td>\n",
       "    </tr>\n",
       "  </tbody>\n",
       "</table>\n",
       "<p>5 rows × 27 columns</p>\n",
       "</div>"
      ],
      "text/plain": [
       "        date     price  bedrooms  bathrooms  sqft_living  sqft_lot  floors  \\\n",
       "0 2014-10-13  221900.0       3.0       1.00       1180.0    5650.0     1.0   \n",
       "1 2014-12-09  538000.0       3.0       2.25       2570.0    7242.0     2.0   \n",
       "2 2015-02-25  180000.0       2.0       1.00        770.0   10000.0     1.0   \n",
       "3 2014-12-09  604000.0       4.0       3.00       1960.0    5000.0     1.0   \n",
       "4 2015-02-18  510000.0       3.0       2.00       1680.0    8080.0     1.0   \n",
       "\n",
       "   waterfront  view  condition  ...  sqft_living15  sqft_lot15  cluster  \\\n",
       "0           0     0          3  ...           1340        5650        5   \n",
       "1           0     0          3  ...           1690        7639        2   \n",
       "2           0     0          3  ...           2720        8062        7   \n",
       "3           0     0          5  ...           1360        5000        5   \n",
       "4           0     0          3  ...           1800        7503        1   \n",
       "\n",
       "   northeast  northwest  southeast  east_central  southwest  inland  \\\n",
       "0          0          0          0             0          1       0   \n",
       "1          0          1          0             0          0       0   \n",
       "2          0          0          0             0          0       0   \n",
       "3          0          0          0             0          1       0   \n",
       "4          1          0          0             0          0       0   \n",
       "\n",
       "   north_central  \n",
       "0              0  \n",
       "1              0  \n",
       "2              1  \n",
       "3              0  \n",
       "4              0  \n",
       "\n",
       "[5 rows x 27 columns]"
      ]
     },
     "execution_count": 79,
     "metadata": {},
     "output_type": "execute_result"
    }
   ],
   "source": [
    "data.rename(\n",
    "    columns={\n",
    "        'cluster_1': 'northeast',\n",
    "        'cluster_2': 'northwest',\n",
    "        'cluster_3': 'southeast',\n",
    "        'cluster_4': 'east_central',\n",
    "        'cluster_5': 'southwest',\n",
    "        'cluster_6': 'inland',\n",
    "        'cluster_7': 'north_central'\n",
    "    },\n",
    "    inplace=True\n",
    ")\n",
    "data.head()"
   ]
  },
  {
   "cell_type": "code",
   "execution_count": 80,
   "metadata": {},
   "outputs": [],
   "source": [
    "data.drop(columns=['zipcode', 'lat', 'long', 'cluster'], inplace=True)"
   ]
  },
  {
   "cell_type": "markdown",
   "metadata": {},
   "source": [
    "### Age"
   ]
  },
  {
   "cell_type": "markdown",
   "metadata": {},
   "source": [
    "We should express yr_built and yr_renovated as ages to make them more interpretable. "
   ]
  },
  {
   "cell_type": "code",
   "execution_count": 81,
   "metadata": {},
   "outputs": [
    {
     "data": {
      "text/plain": [
       "count    16371.000000\n",
       "mean        43.579134\n",
       "std         29.766278\n",
       "min         -1.000000\n",
       "25%         16.000000\n",
       "50%         41.000000\n",
       "75%         64.000000\n",
       "max        115.000000\n",
       "Name: age, dtype: float64"
      ]
     },
     "execution_count": 81,
     "metadata": {},
     "output_type": "execute_result"
    }
   ],
   "source": [
    "data['age'] = data.date.dt.year - data.yr_built\n",
    "data.age.describe()"
   ]
  },
  {
   "cell_type": "markdown",
   "metadata": {},
   "source": [
    "It looks like there are some houses with an inferred age of -1. Let's inspect them."
   ]
  },
  {
   "cell_type": "code",
   "execution_count": 82,
   "metadata": {},
   "outputs": [
    {
     "data": {
      "text/html": [
       "<div>\n",
       "<style scoped>\n",
       "    .dataframe tbody tr th:only-of-type {\n",
       "        vertical-align: middle;\n",
       "    }\n",
       "\n",
       "    .dataframe tbody tr th {\n",
       "        vertical-align: top;\n",
       "    }\n",
       "\n",
       "    .dataframe thead th {\n",
       "        text-align: right;\n",
       "    }\n",
       "</style>\n",
       "<table border=\"1\" class=\"dataframe\">\n",
       "  <thead>\n",
       "    <tr style=\"text-align: right;\">\n",
       "      <th></th>\n",
       "      <th>date</th>\n",
       "      <th>yr_built</th>\n",
       "    </tr>\n",
       "  </thead>\n",
       "  <tbody>\n",
       "    <tr>\n",
       "      <th>1763</th>\n",
       "      <td>2014-06-25</td>\n",
       "      <td>2015</td>\n",
       "    </tr>\n",
       "    <tr>\n",
       "      <th>7526</th>\n",
       "      <td>2014-12-31</td>\n",
       "      <td>2015</td>\n",
       "    </tr>\n",
       "    <tr>\n",
       "      <th>8039</th>\n",
       "      <td>2014-06-24</td>\n",
       "      <td>2015</td>\n",
       "    </tr>\n",
       "    <tr>\n",
       "      <th>14489</th>\n",
       "      <td>2014-08-26</td>\n",
       "      <td>2015</td>\n",
       "    </tr>\n",
       "    <tr>\n",
       "      <th>17098</th>\n",
       "      <td>2014-06-17</td>\n",
       "      <td>2015</td>\n",
       "    </tr>\n",
       "    <tr>\n",
       "      <th>19805</th>\n",
       "      <td>2014-08-01</td>\n",
       "      <td>2015</td>\n",
       "    </tr>\n",
       "    <tr>\n",
       "      <th>20852</th>\n",
       "      <td>2014-07-09</td>\n",
       "      <td>2015</td>\n",
       "    </tr>\n",
       "    <tr>\n",
       "      <th>20963</th>\n",
       "      <td>2014-07-31</td>\n",
       "      <td>2015</td>\n",
       "    </tr>\n",
       "    <tr>\n",
       "      <th>21262</th>\n",
       "      <td>2014-11-25</td>\n",
       "      <td>2015</td>\n",
       "    </tr>\n",
       "  </tbody>\n",
       "</table>\n",
       "</div>"
      ],
      "text/plain": [
       "            date  yr_built\n",
       "1763  2014-06-25      2015\n",
       "7526  2014-12-31      2015\n",
       "8039  2014-06-24      2015\n",
       "14489 2014-08-26      2015\n",
       "17098 2014-06-17      2015\n",
       "19805 2014-08-01      2015\n",
       "20852 2014-07-09      2015\n",
       "20963 2014-07-31      2015\n",
       "21262 2014-11-25      2015"
      ]
     },
     "execution_count": 82,
     "metadata": {},
     "output_type": "execute_result"
    }
   ],
   "source": [
    "data[data.age == -1][['date', 'yr_built']]"
   ]
  },
  {
   "cell_type": "markdown",
   "metadata": {},
   "source": [
    "It looks like these are likely just data entry errors. Let's change their age to 0. "
   ]
  },
  {
   "cell_type": "code",
   "execution_count": 83,
   "metadata": {},
   "outputs": [
    {
     "data": {
      "text/plain": [
       "count    16371.000000\n",
       "mean        43.579684\n",
       "std         29.765464\n",
       "min          0.000000\n",
       "25%         16.000000\n",
       "50%         41.000000\n",
       "75%         64.000000\n",
       "max        115.000000\n",
       "Name: age, dtype: float64"
      ]
     },
     "execution_count": 83,
     "metadata": {},
     "output_type": "execute_result"
    }
   ],
   "source": [
    "data.age.replace(-1, 0, inplace=True)\n",
    "data.age.describe()"
   ]
  },
  {
   "cell_type": "markdown",
   "metadata": {},
   "source": [
    "Let's now derive renovation age. "
   ]
  },
  {
   "cell_type": "code",
   "execution_count": 84,
   "metadata": {},
   "outputs": [
    {
     "data": {
      "text/plain": [
       "0        0\n",
       "1        1\n",
       "2        0\n",
       "3        0\n",
       "4        0\n",
       "        ..\n",
       "21608    0\n",
       "21609    0\n",
       "21610    0\n",
       "21611    0\n",
       "21612    0\n",
       "Name: was_renovated, Length: 16371, dtype: int64"
      ]
     },
     "execution_count": 84,
     "metadata": {},
     "output_type": "execute_result"
    }
   ],
   "source": [
    "data['was_renovated'] = data.apply(\n",
    "    lambda row: 1 if row.yr_renovated != 0 else 0,\n",
    "    axis=1\n",
    ")\n",
    "data.was_renovated"
   ]
  },
  {
   "cell_type": "code",
   "execution_count": 85,
   "metadata": {},
   "outputs": [
    {
     "data": {
      "text/plain": [
       "Index(['date', 'price', 'bedrooms', 'bathrooms', 'sqft_living', 'sqft_lot',\n",
       "       'floors', 'waterfront', 'view', 'condition', 'sqft_above',\n",
       "       'sqft_basement', 'sqft_living15', 'sqft_lot15', 'northeast',\n",
       "       'northwest', 'southeast', 'east_central', 'southwest', 'inland',\n",
       "       'north_central', 'age', 'was_renovated'],\n",
       "      dtype='object')"
      ]
     },
     "execution_count": 85,
     "metadata": {},
     "output_type": "execute_result"
    }
   ],
   "source": [
    "data.drop(columns=['yr_built', 'yr_renovated'], inplace=True)\n",
    "data.columns"
   ]
  },
  {
   "cell_type": "markdown",
   "metadata": {},
   "source": [
    "### Season"
   ]
  },
  {
   "cell_type": "code",
   "execution_count": 86,
   "metadata": {},
   "outputs": [],
   "source": [
    "def get_season(date):\n",
    "    if date.month in (12, 1, 2):\n",
    "        return 'winter'\n",
    "    if date.month in (3, 4, 5): \n",
    "        return 'spring'\n",
    "    if date.month in (6, 7, 8):\n",
    "        return 'summer'\n",
    "    if date.month in (9, 10, 11):\n",
    "        return 'fall'"
   ]
  },
  {
   "cell_type": "code",
   "execution_count": 87,
   "metadata": {},
   "outputs": [
    {
     "data": {
      "text/plain": [
       "count      16371\n",
       "unique         4\n",
       "top       spring\n",
       "freq        4910\n",
       "Name: season, dtype: object"
      ]
     },
     "execution_count": 87,
     "metadata": {},
     "output_type": "execute_result"
    }
   ],
   "source": [
    "data['season'] = data.apply(lambda row: get_season(row.date), axis=1)\n",
    "data['season'].describe()"
   ]
  },
  {
   "cell_type": "code",
   "execution_count": 88,
   "metadata": {},
   "outputs": [
    {
     "data": {
      "text/html": [
       "<div>\n",
       "<style scoped>\n",
       "    .dataframe tbody tr th:only-of-type {\n",
       "        vertical-align: middle;\n",
       "    }\n",
       "\n",
       "    .dataframe tbody tr th {\n",
       "        vertical-align: top;\n",
       "    }\n",
       "\n",
       "    .dataframe thead th {\n",
       "        text-align: right;\n",
       "    }\n",
       "</style>\n",
       "<table border=\"1\" class=\"dataframe\">\n",
       "  <thead>\n",
       "    <tr style=\"text-align: right;\">\n",
       "      <th></th>\n",
       "      <th>spring</th>\n",
       "      <th>summer</th>\n",
       "      <th>winter</th>\n",
       "    </tr>\n",
       "  </thead>\n",
       "  <tbody>\n",
       "    <tr>\n",
       "      <th>count</th>\n",
       "      <td>16371.000000</td>\n",
       "      <td>16371.000000</td>\n",
       "      <td>16371.000000</td>\n",
       "    </tr>\n",
       "    <tr>\n",
       "      <th>mean</th>\n",
       "      <td>0.299921</td>\n",
       "      <td>0.293201</td>\n",
       "      <td>0.172500</td>\n",
       "    </tr>\n",
       "    <tr>\n",
       "      <th>std</th>\n",
       "      <td>0.458237</td>\n",
       "      <td>0.455244</td>\n",
       "      <td>0.377826</td>\n",
       "    </tr>\n",
       "    <tr>\n",
       "      <th>min</th>\n",
       "      <td>0.000000</td>\n",
       "      <td>0.000000</td>\n",
       "      <td>0.000000</td>\n",
       "    </tr>\n",
       "    <tr>\n",
       "      <th>25%</th>\n",
       "      <td>0.000000</td>\n",
       "      <td>0.000000</td>\n",
       "      <td>0.000000</td>\n",
       "    </tr>\n",
       "    <tr>\n",
       "      <th>50%</th>\n",
       "      <td>0.000000</td>\n",
       "      <td>0.000000</td>\n",
       "      <td>0.000000</td>\n",
       "    </tr>\n",
       "    <tr>\n",
       "      <th>75%</th>\n",
       "      <td>1.000000</td>\n",
       "      <td>1.000000</td>\n",
       "      <td>0.000000</td>\n",
       "    </tr>\n",
       "    <tr>\n",
       "      <th>max</th>\n",
       "      <td>1.000000</td>\n",
       "      <td>1.000000</td>\n",
       "      <td>1.000000</td>\n",
       "    </tr>\n",
       "  </tbody>\n",
       "</table>\n",
       "</div>"
      ],
      "text/plain": [
       "             spring        summer        winter\n",
       "count  16371.000000  16371.000000  16371.000000\n",
       "mean       0.299921      0.293201      0.172500\n",
       "std        0.458237      0.455244      0.377826\n",
       "min        0.000000      0.000000      0.000000\n",
       "25%        0.000000      0.000000      0.000000\n",
       "50%        0.000000      0.000000      0.000000\n",
       "75%        1.000000      1.000000      0.000000\n",
       "max        1.000000      1.000000      1.000000"
      ]
     },
     "execution_count": 88,
     "metadata": {},
     "output_type": "execute_result"
    }
   ],
   "source": [
    "season_dummies = pd.get_dummies(data.season, drop_first=True)\n",
    "season_dummies.describe()"
   ]
  },
  {
   "cell_type": "code",
   "execution_count": 89,
   "metadata": {},
   "outputs": [
    {
     "data": {
      "text/plain": [
       "Index(['price', 'bedrooms', 'bathrooms', 'sqft_living', 'sqft_lot', 'floors',\n",
       "       'waterfront', 'view', 'condition', 'sqft_above', 'sqft_basement',\n",
       "       'sqft_living15', 'sqft_lot15', 'northeast', 'northwest', 'southeast',\n",
       "       'east_central', 'southwest', 'inland', 'north_central', 'age',\n",
       "       'was_renovated', 'spring', 'summer', 'winter'],\n",
       "      dtype='object')"
      ]
     },
     "execution_count": 89,
     "metadata": {},
     "output_type": "execute_result"
    }
   ],
   "source": [
    "data = pd.concat([data, season_dummies], axis = 1)\n",
    "data.drop(columns=['date', 'season'], inplace=True)\n",
    "data.columns"
   ]
  },
  {
   "cell_type": "markdown",
   "metadata": {},
   "source": [
    "## Predicting Price"
   ]
  },
  {
   "cell_type": "code",
   "execution_count": 90,
   "metadata": {},
   "outputs": [
    {
     "name": "stdout",
     "output_type": "stream",
     "text": [
      "                            OLS Regression Results                            \n",
      "==============================================================================\n",
      "Dep. Variable:                  price   R-squared:                       0.648\n",
      "Model:                            OLS   Adj. R-squared:                  0.648\n",
      "Method:                 Least Squares   F-statistic:                     1310.\n",
      "Date:                Thu, 15 Apr 2021   Prob (F-statistic):               0.00\n",
      "Time:                        21:40:21   Log-Likelihood:            -2.1376e+05\n",
      "No. Observations:               16371   AIC:                         4.276e+05\n",
      "Df Residuals:                   16347   BIC:                         4.277e+05\n",
      "Df Model:                          23                                         \n",
      "Covariance Type:            nonrobust                                         \n",
      "=================================================================================\n",
      "                    coef    std err          t      P>|t|      [0.025      0.975]\n",
      "---------------------------------------------------------------------------------\n",
      "const         -2.527e+05   9159.636    -27.593      0.000   -2.71e+05   -2.35e+05\n",
      "bedrooms      -1.462e+04   1491.693     -9.799      0.000   -1.75e+04   -1.17e+04\n",
      "bathrooms      2.468e+04   2263.605     10.901      0.000    2.02e+04    2.91e+04\n",
      "sqft_living      15.1530      8.891      1.704      0.088      -2.274      32.580\n",
      "sqft_lot         -2.1410      0.575     -3.721      0.000      -3.269      -1.013\n",
      "floors         1.853e+04   2679.066      6.916      0.000    1.33e+04    2.38e+04\n",
      "waterfront     3.066e-09   1.27e-10     24.074      0.000    2.82e-09    3.32e-09\n",
      "view           8.355e+04   7718.818     10.825      0.000    6.84e+04    9.87e+04\n",
      "condition      3.318e+04   1569.332     21.142      0.000    3.01e+04    3.63e+04\n",
      "sqft_above      118.9754      8.881     13.396      0.000     101.567     136.384\n",
      "sqft_basement    92.3894      9.063     10.194      0.000      74.624     110.155\n",
      "sqft_living15    83.4416      2.742     30.436      0.000      78.068      88.815\n",
      "sqft_lot15       -3.5290      0.649     -5.440      0.000      -4.800      -2.257\n",
      "northeast      2.117e+05   4121.458     51.358      0.000    2.04e+05     2.2e+05\n",
      "northwest      2.462e+05   4047.193     60.829      0.000    2.38e+05    2.54e+05\n",
      "southeast      9.997e+04   3978.453     25.129      0.000    9.22e+04    1.08e+05\n",
      "east_central   9.618e+04   6586.703     14.602      0.000    8.33e+04    1.09e+05\n",
      "southwest      1.374e+05   4139.285     33.200      0.000    1.29e+05    1.46e+05\n",
      "inland        -5218.5498   4172.288     -1.251      0.211   -1.34e+04    2959.590\n",
      "north_central  2.197e+05   4117.867     53.343      0.000    2.12e+05    2.28e+05\n",
      "age            1067.3344     48.390     22.057      0.000     972.486    1162.183\n",
      "was_renovated  5.502e+04   5394.843     10.198      0.000    4.44e+04    6.56e+04\n",
      "spring         2.274e+04   2446.459      9.295      0.000    1.79e+04    2.75e+04\n",
      "summer         5048.0553   2460.260      2.052      0.040     225.676    9870.434\n",
      "winter         1284.0227   2816.215      0.456      0.648   -4236.066    6804.111\n",
      "==============================================================================\n",
      "Omnibus:                     2157.765   Durbin-Watson:                   1.972\n",
      "Prob(Omnibus):                  0.000   Jarque-Bera (JB):             4389.501\n",
      "Skew:                           0.821   Prob(JB):                         0.00\n",
      "Kurtosis:                       4.934   Cond. No.                     1.89e+20\n",
      "==============================================================================\n",
      "\n",
      "Notes:\n",
      "[1] Standard Errors assume that the covariance matrix of the errors is correctly specified.\n",
      "[2] The smallest eigenvalue is 5.82e-29. This might indicate that there are\n",
      "strong multicollinearity problems or that the design matrix is singular.\n"
     ]
    }
   ],
   "source": [
    "X = data.drop('price', axis=1) \n",
    "Y = data['price']\n",
    "X  = sm.add_constant(X)\n",
    "model = sm.OLS(Y, X).fit()\n",
    "predictions = model.predict(X) \n",
    "print_model = model.summary()\n",
    "print(print_model)"
   ]
  },
  {
   "cell_type": "markdown",
   "metadata": {},
   "source": [
    "Check for multicollinearity:"
   ]
  },
  {
   "cell_type": "code",
   "execution_count": 92,
   "metadata": {},
   "outputs": [
    {
     "name": "stderr",
     "output_type": "stream",
     "text": [
      "/home/aubrey/anaconda3/lib/python3.8/site-packages/statsmodels/regression/linear_model.py:1715: RuntimeWarning: invalid value encountered in double_scalars\n",
      "  return 1 - self.ssr/self.centered_tss\n"
     ]
    },
    {
     "name": "stdout",
     "output_type": "stream",
     "text": [
      "        variables         VIF\n",
      "0           const  106.768289\n",
      "1        bedrooms    1.634016\n",
      "2       bathrooms    2.728891\n",
      "3     sqft_living   41.009317\n",
      "4        sqft_lot    4.823330\n",
      "5          floors    2.711535\n",
      "6      waterfront         NaN\n",
      "7            view    1.032247\n",
      "8       condition    1.292406\n",
      "9      sqft_above   39.989623\n",
      "10  sqft_basement   13.315633\n",
      "11  sqft_living15    2.725953\n",
      "12     sqft_lot15    4.911151\n",
      "13      northeast    2.166733\n",
      "14      northwest    3.853851\n",
      "15      southeast    2.352968\n",
      "16   east_central    1.267862\n",
      "17      southwest    3.208221\n",
      "18         inland    2.116009\n",
      "19  north_central    2.201611\n",
      "20            age    2.639904\n",
      "21  was_renovated    1.117877\n",
      "22         spring    1.599247\n",
      "23         summer    1.596283\n",
      "24         winter    1.440704\n"
     ]
    }
   ],
   "source": [
    "from statsmodels.stats.outliers_influence import variance_inflation_factor\n",
    "\n",
    "vif = pd.DataFrame()\n",
    "vif[\"variables\"] = X.columns\n",
    "vif[\"VIF\"] = [variance_inflation_factor(X.values, i) for i in range(X.shape[1])]\n",
    "    \n",
    "print(vif)"
   ]
  },
  {
   "cell_type": "markdown",
   "metadata": {},
   "source": [
    "Keep statistically significant variables and remove sqft_above because it has a high VIF suggesting multicollinearity."
   ]
  },
  {
   "cell_type": "code",
   "execution_count": 104,
   "metadata": {},
   "outputs": [
    {
     "name": "stdout",
     "output_type": "stream",
     "text": [
      "                            OLS Regression Results                            \n",
      "==============================================================================\n",
      "Dep. Variable:                  price   R-squared:                       0.618\n",
      "Model:                            OLS   Adj. R-squared:                  0.617\n",
      "Method:                 Least Squares   F-statistic:                     1555.\n",
      "Date:                Fri, 16 Apr 2021   Prob (F-statistic):               0.00\n",
      "Time:                        00:10:04   Log-Likelihood:            -2.1444e+05\n",
      "No. Observations:               16371   AIC:                         4.289e+05\n",
      "Df Residuals:                   16353   BIC:                         4.291e+05\n",
      "Df Model:                          17                                         \n",
      "Covariance Type:            nonrobust                                         \n",
      "=================================================================================\n",
      "                    coef    std err          t      P>|t|      [0.025      0.975]\n",
      "---------------------------------------------------------------------------------\n",
      "const         -2.051e+05   8572.314    -23.927      0.000   -2.22e+05   -1.88e+05\n",
      "bathrooms      2.179e+04   2265.140      9.618      0.000    1.73e+04    2.62e+04\n",
      "sqft_living     160.1672      2.077     77.103      0.000     156.095     164.239\n",
      "sqft_lot         -3.5674      0.345    -10.336      0.000      -4.244      -2.891\n",
      "floors         3.489e+04   2384.899     14.630      0.000    3.02e+04    3.96e+04\n",
      "waterfront    -4.271e-10   8.63e-12    -49.464      0.000   -4.44e-10    -4.1e-10\n",
      "view           1.037e+05   7987.839     12.978      0.000     8.8e+04    1.19e+05\n",
      "condition      2.662e+04   1621.128     16.418      0.000    2.34e+04    2.98e+04\n",
      "northeast       2.23e+05   4278.578     52.116      0.000    2.15e+05    2.31e+05\n",
      "northwest      2.326e+05   4111.924     56.577      0.000    2.25e+05    2.41e+05\n",
      "southeast      1.017e+05   4133.349     24.596      0.000    9.36e+04     1.1e+05\n",
      "east_central   1.019e+05   6857.775     14.857      0.000    8.84e+04    1.15e+05\n",
      "southwest       1.17e+05   4211.969     27.776      0.000    1.09e+05    1.25e+05\n",
      "inland          -1.5e+04   4331.036     -3.464      0.001   -2.35e+04   -6513.105\n",
      "north_central  2.223e+05   4264.594     52.131      0.000    2.14e+05    2.31e+05\n",
      "age            1025.9580     50.127     20.467      0.000     927.703    1124.213\n",
      "was_renovated  4.443e+04   5608.139      7.923      0.000    3.34e+04    5.54e+04\n",
      "spring         2.193e+04   2225.735      9.854      0.000    1.76e+04    2.63e+04\n",
      "summer         5158.9086   2243.056      2.300      0.021     762.275    9555.543\n",
      "==============================================================================\n",
      "Omnibus:                     2268.720   Durbin-Watson:                   1.969\n",
      "Prob(Omnibus):                  0.000   Jarque-Bera (JB):             4804.017\n",
      "Skew:                           0.843   Prob(JB):                         0.00\n",
      "Kurtosis:                       5.050   Cond. No.                     4.42e+20\n",
      "==============================================================================\n",
      "\n",
      "Notes:\n",
      "[1] Standard Errors assume that the covariance matrix of the errors is correctly specified.\n",
      "[2] The smallest eigenvalue is 5.42e-30. This might indicate that there are\n",
      "strong multicollinearity problems or that the design matrix is singular.\n"
     ]
    }
   ],
   "source": [
    "X2 = data.drop(['price', 'sqft_above', 'bedrooms', 'sqft_basement', 'sqft_living15', 'sqft_lot15', 'winter'], axis=1) \n",
    "Y = data['price']\n",
    "X2  = sm.add_constant(X2)\n",
    "model = sm.OLS(Y, X2).fit()\n",
    "predictions = model.predict(X2) \n",
    "print_model = model.summary()\n",
    "print(print_model)"
   ]
  },
  {
   "cell_type": "code",
   "execution_count": 105,
   "metadata": {},
   "outputs": [
    {
     "name": "stderr",
     "output_type": "stream",
     "text": [
      "/home/aubrey/anaconda3/lib/python3.8/site-packages/statsmodels/regression/linear_model.py:1715: RuntimeWarning: invalid value encountered in double_scalars\n",
      "  return 1 - self.ssr/self.centered_tss\n"
     ]
    },
    {
     "name": "stdout",
     "output_type": "stream",
     "text": [
      "        variables        VIF\n",
      "0           const  86.059385\n",
      "1       bathrooms   2.514728\n",
      "2     sqft_living   2.060148\n",
      "3        sqft_lot   1.597243\n",
      "4          floors   1.977446\n",
      "5      waterfront        NaN\n",
      "6            view   1.017318\n",
      "7       condition   1.269171\n",
      "8       northeast   2.148913\n",
      "9       northwest   3.660948\n",
      "10      southeast   2.337264\n",
      "11   east_central   1.264791\n",
      "12      southwest   3.057034\n",
      "13         inland   2.098306\n",
      "14  north_central   2.173040\n",
      "15            age   2.607039\n",
      "16  was_renovated   1.111706\n",
      "17         spring   1.218155\n",
      "18         summer   1.221080\n"
     ]
    }
   ],
   "source": [
    "from statsmodels.stats.outliers_influence import variance_inflation_factor\n",
    "\n",
    "vif = pd.DataFrame()\n",
    "vif[\"variables\"] = X2.columns\n",
    "vif[\"VIF\"] = [variance_inflation_factor(X2.values, i) for i in range(X2.shape[1])]\n",
    "    \n",
    "print(vif)"
   ]
  },
  {
   "cell_type": "markdown",
   "metadata": {},
   "source": [
    "Removing sqft_above seems to have improved VIF of other variables."
   ]
  },
  {
   "cell_type": "code",
   "execution_count": 107,
   "metadata": {},
   "outputs": [
    {
     "name": "stdout",
     "output_type": "stream",
     "text": [
      "KNN Test set predictions: [353790. 713500. 429845. ... 477748. 288460. 667225.]\n",
      "Accuracy: 0.430403967018398\n"
     ]
    }
   ],
   "source": [
    "from sklearn.neighbors import KNeighborsRegressor\n",
    "from sklearn.model_selection import train_test_split\n",
    "x = data.drop(['price', 'price'],axis=1) \n",
    "y = data['price']\n",
    "\n",
    "x_train, x_test, y_train, y_test = train_test_split(x, y, test_size=.2, random_state=0)\n",
    "\n",
    "\n",
    "\n",
    "knn_model = KNeighborsRegressor(n_neighbors=10)\n",
    "knn_model.fit(x_train, y_train)\n",
    "y_pred = knn_model.predict(x_test)\n",
    "\n",
    "\n",
    "print(\"KNN Test set predictions: {}\".format(knn_model.predict(x_test)))\n",
    "\n",
    "\n",
    "# Model Accuracy, how often is the classifier correct?\n",
    "print(\"Accuracy:\", knn_model.score(x_test, y_test))"
   ]
  },
  {
   "cell_type": "code",
   "execution_count": 108,
   "metadata": {},
   "outputs": [
    {
     "data": {
      "image/png": "[encoded data removed]",
      "text/plain": [
       "<Figure size 432x288 with 1 Axes>"
      ]
     },
     "metadata": {
      "needs_background": "light"
     },
     "output_type": "display_data"
    }
   ],
   "source": [
    "knn_pred = knn_model.predict(x_test)\n",
    "plt.hist(knn_pred) \n",
    "plt.title(\"Predicted Price (KNN)\") \n",
    "plt.xlabel(\"Price\")\n",
    "plt.ylabel(\"Frequency\")\n",
    "plt.show()"
   ]
  },
  {
   "cell_type": "code",
   "execution_count": 109,
   "metadata": {},
   "outputs": [
    {
     "name": "stdout",
     "output_type": "stream",
     "text": [
      "Ridge Training set score: 0.63\n",
      "Ridge Test set score: 0.65\n",
      "R^2: 0.6525632585143899\n",
      "MSE: 12968211391.947123\n"
     ]
    }
   ],
   "source": [
    "from sklearn import metrics\n",
    "from sklearn.linear_model import Ridge, RidgeCV\n",
    "from sklearn.metrics import mean_squared_error\n",
    "import math\n",
    "\n",
    "x = data.drop(['price', 'sqft_above'],axis=1) \n",
    "y = data['price']\n",
    "\n",
    "#array of possible alpha values for CV later\n",
    "alphas = 10**np.linspace(10,-2,100)*0.5\n",
    "\n",
    "x_train, x_test, y_train, y_test = train_test_split(x, y, test_size=.2, random_state=0)\n",
    "\n",
    "ridge = Ridge(alpha=.05, normalize = True)\n",
    "ridge.fit(x_train, y_train)\n",
    "pred_ridge = ridge.predict(x_test)\n",
    "\n",
    "\n",
    "print(\"Ridge Training set score: {:.2f}\".format(ridge.score(x_train, y_train)))\n",
    "print(\"Ridge Test set score: {:.2f}\".format(ridge.score(x_test, y_test)))\n",
    "print(\"R^2:\",metrics.r2_score(y_test, pred_ridge))\n",
    "print(\"MSE:\", metrics.mean_squared_error(y_test, pred_ridge))"
   ]
  },
  {
   "cell_type": "code",
   "execution_count": 110,
   "metadata": {},
   "outputs": [
    {
     "data": {
      "image/png": "[encoded data removed]",
      "text/plain": [
       "<Figure size 432x288 with 1 Axes>"
      ]
     },
     "metadata": {
      "needs_background": "light"
     },
     "output_type": "display_data"
    }
   ],
   "source": [
    "plt.hist(pred_ridge) \n",
    "plt.title(\"Predicted Price (ridge)\") \n",
    "plt.xlabel(\"Price\")\n",
    "plt.ylabel(\"Frequency\")\n",
    "plt.show()"
   ]
  },
  {
   "cell_type": "code",
   "execution_count": null,
   "metadata": {},
   "outputs": [],
   "source": []
  }
 ],
 "metadata": {
  "kernelspec": {
   "display_name": "Python 3",
   "language": "python",
   "name": "python3"
  },
  "language_info": {
   "codemirror_mode": {
    "name": "ipython",
    "version": 3
   },
   "file_extension": ".py",
   "mimetype": "text/x-python",
   "name": "python",
   "nbconvert_exporter": "python",
   "pygments_lexer": "ipython3",
   "version": "3.8.5"
  }
 },
 "nbformat": 4,
 "nbformat_minor": 5
}
