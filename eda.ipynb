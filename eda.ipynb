{
 "cells": [
  {
   "cell_type": "code",
   "execution_count": 1,
   "metadata": {},
   "outputs": [],
   "source": [
    "import numpy as np\n",
    "import pandas as pd\n",
    "import matplotlib.pyplot as plt\n",
    "import seaborn as sns"
   ]
  },
  {
   "cell_type": "markdown",
   "metadata": {},
   "source": [
    "Import dataset"
   ]
  },
  {
   "cell_type": "code",
   "execution_count": 2,
   "metadata": {},
   "outputs": [
    {
     "data": {
      "text/html": [
       "<div>\n",
       "<style scoped>\n",
       "    .dataframe tbody tr th:only-of-type {\n",
       "        vertical-align: middle;\n",
       "    }\n",
       "\n",
       "    .dataframe tbody tr th {\n",
       "        vertical-align: top;\n",
       "    }\n",
       "\n",
       "    .dataframe thead th {\n",
       "        text-align: right;\n",
       "    }\n",
       "</style>\n",
       "<table border=\"1\" class=\"dataframe\">\n",
       "  <thead>\n",
       "    <tr style=\"text-align: right;\">\n",
       "      <th></th>\n",
       "      <th>id</th>\n",
       "      <th>date</th>\n",
       "      <th>price</th>\n",
       "      <th>bedrooms</th>\n",
       "      <th>bathrooms</th>\n",
       "      <th>sqft_living</th>\n",
       "      <th>sqft_lot</th>\n",
       "      <th>floors</th>\n",
       "      <th>waterfront</th>\n",
       "      <th>view</th>\n",
       "      <th>...</th>\n",
       "      <th>grade</th>\n",
       "      <th>sqft_above</th>\n",
       "      <th>sqft_basement</th>\n",
       "      <th>yr_built</th>\n",
       "      <th>yr_renovated</th>\n",
       "      <th>zipcode</th>\n",
       "      <th>lat</th>\n",
       "      <th>long</th>\n",
       "      <th>sqft_living15</th>\n",
       "      <th>sqft_lot15</th>\n",
       "    </tr>\n",
       "  </thead>\n",
       "  <tbody>\n",
       "    <tr>\n",
       "      <th>0</th>\n",
       "      <td>7129300520</td>\n",
       "      <td>20141013T000000</td>\n",
       "      <td>221900.0</td>\n",
       "      <td>3.0</td>\n",
       "      <td>1.00</td>\n",
       "      <td>1180.0</td>\n",
       "      <td>5650.0</td>\n",
       "      <td>1.0</td>\n",
       "      <td>0</td>\n",
       "      <td>0</td>\n",
       "      <td>...</td>\n",
       "      <td>7</td>\n",
       "      <td>1180</td>\n",
       "      <td>0</td>\n",
       "      <td>1955</td>\n",
       "      <td>0</td>\n",
       "      <td>98178</td>\n",
       "      <td>47.5112</td>\n",
       "      <td>-122.257</td>\n",
       "      <td>1340</td>\n",
       "      <td>5650</td>\n",
       "    </tr>\n",
       "    <tr>\n",
       "      <th>1</th>\n",
       "      <td>6414100192</td>\n",
       "      <td>20141209T000000</td>\n",
       "      <td>538000.0</td>\n",
       "      <td>3.0</td>\n",
       "      <td>2.25</td>\n",
       "      <td>2570.0</td>\n",
       "      <td>7242.0</td>\n",
       "      <td>2.0</td>\n",
       "      <td>0</td>\n",
       "      <td>0</td>\n",
       "      <td>...</td>\n",
       "      <td>7</td>\n",
       "      <td>2170</td>\n",
       "      <td>400</td>\n",
       "      <td>1951</td>\n",
       "      <td>1991</td>\n",
       "      <td>98125</td>\n",
       "      <td>47.7210</td>\n",
       "      <td>-122.319</td>\n",
       "      <td>1690</td>\n",
       "      <td>7639</td>\n",
       "    </tr>\n",
       "    <tr>\n",
       "      <th>2</th>\n",
       "      <td>5631500400</td>\n",
       "      <td>20150225T000000</td>\n",
       "      <td>180000.0</td>\n",
       "      <td>2.0</td>\n",
       "      <td>1.00</td>\n",
       "      <td>770.0</td>\n",
       "      <td>10000.0</td>\n",
       "      <td>1.0</td>\n",
       "      <td>0</td>\n",
       "      <td>0</td>\n",
       "      <td>...</td>\n",
       "      <td>6</td>\n",
       "      <td>770</td>\n",
       "      <td>0</td>\n",
       "      <td>1933</td>\n",
       "      <td>0</td>\n",
       "      <td>98028</td>\n",
       "      <td>47.7379</td>\n",
       "      <td>-122.233</td>\n",
       "      <td>2720</td>\n",
       "      <td>8062</td>\n",
       "    </tr>\n",
       "    <tr>\n",
       "      <th>3</th>\n",
       "      <td>2487200875</td>\n",
       "      <td>20141209T000000</td>\n",
       "      <td>604000.0</td>\n",
       "      <td>4.0</td>\n",
       "      <td>3.00</td>\n",
       "      <td>1960.0</td>\n",
       "      <td>5000.0</td>\n",
       "      <td>1.0</td>\n",
       "      <td>0</td>\n",
       "      <td>0</td>\n",
       "      <td>...</td>\n",
       "      <td>7</td>\n",
       "      <td>1050</td>\n",
       "      <td>910</td>\n",
       "      <td>1965</td>\n",
       "      <td>0</td>\n",
       "      <td>98136</td>\n",
       "      <td>47.5208</td>\n",
       "      <td>-122.393</td>\n",
       "      <td>1360</td>\n",
       "      <td>5000</td>\n",
       "    </tr>\n",
       "    <tr>\n",
       "      <th>4</th>\n",
       "      <td>1954400510</td>\n",
       "      <td>20150218T000000</td>\n",
       "      <td>510000.0</td>\n",
       "      <td>3.0</td>\n",
       "      <td>2.00</td>\n",
       "      <td>1680.0</td>\n",
       "      <td>8080.0</td>\n",
       "      <td>1.0</td>\n",
       "      <td>0</td>\n",
       "      <td>0</td>\n",
       "      <td>...</td>\n",
       "      <td>8</td>\n",
       "      <td>1680</td>\n",
       "      <td>0</td>\n",
       "      <td>1987</td>\n",
       "      <td>0</td>\n",
       "      <td>98074</td>\n",
       "      <td>47.6168</td>\n",
       "      <td>-122.045</td>\n",
       "      <td>1800</td>\n",
       "      <td>7503</td>\n",
       "    </tr>\n",
       "  </tbody>\n",
       "</table>\n",
       "<p>5 rows × 21 columns</p>\n",
       "</div>"
      ],
      "text/plain": [
       "           id             date     price  bedrooms  bathrooms  sqft_living  \\\n",
       "0  7129300520  20141013T000000  221900.0       3.0       1.00       1180.0   \n",
       "1  6414100192  20141209T000000  538000.0       3.0       2.25       2570.0   \n",
       "2  5631500400  20150225T000000  180000.0       2.0       1.00        770.0   \n",
       "3  2487200875  20141209T000000  604000.0       4.0       3.00       1960.0   \n",
       "4  1954400510  20150218T000000  510000.0       3.0       2.00       1680.0   \n",
       "\n",
       "   sqft_lot  floors  waterfront  view  ...  grade  sqft_above  sqft_basement  \\\n",
       "0    5650.0     1.0           0     0  ...      7        1180              0   \n",
       "1    7242.0     2.0           0     0  ...      7        2170            400   \n",
       "2   10000.0     1.0           0     0  ...      6         770              0   \n",
       "3    5000.0     1.0           0     0  ...      7        1050            910   \n",
       "4    8080.0     1.0           0     0  ...      8        1680              0   \n",
       "\n",
       "   yr_built  yr_renovated  zipcode      lat     long  sqft_living15  \\\n",
       "0      1955             0    98178  47.5112 -122.257           1340   \n",
       "1      1951          1991    98125  47.7210 -122.319           1690   \n",
       "2      1933             0    98028  47.7379 -122.233           2720   \n",
       "3      1965             0    98136  47.5208 -122.393           1360   \n",
       "4      1987             0    98074  47.6168 -122.045           1800   \n",
       "\n",
       "   sqft_lot15  \n",
       "0        5650  \n",
       "1        7639  \n",
       "2        8062  \n",
       "3        5000  \n",
       "4        7503  \n",
       "\n",
       "[5 rows x 21 columns]"
      ]
     },
     "execution_count": 2,
     "metadata": {},
     "output_type": "execute_result"
    }
   ],
   "source": [
    "data = pd.read_csv('house_sales.csv')\n",
    "data.head()"
   ]
  },
  {
   "cell_type": "markdown",
   "metadata": {},
   "source": [
    "Describe the dataset. "
   ]
  },
  {
   "cell_type": "code",
   "execution_count": 3,
   "metadata": {},
   "outputs": [
    {
     "data": {
      "text/plain": [
       "(21613, 21)"
      ]
     },
     "execution_count": 3,
     "metadata": {},
     "output_type": "execute_result"
    }
   ],
   "source": [
    "data.shape"
   ]
  },
  {
   "cell_type": "markdown",
   "metadata": {},
   "source": [
    "There are 21,613 rows and 21 columns. "
   ]
  },
  {
   "cell_type": "code",
   "execution_count": 4,
   "metadata": {},
   "outputs": [
    {
     "data": {
      "text/html": [
       "<div>\n",
       "<style scoped>\n",
       "    .dataframe tbody tr th:only-of-type {\n",
       "        vertical-align: middle;\n",
       "    }\n",
       "\n",
       "    .dataframe tbody tr th {\n",
       "        vertical-align: top;\n",
       "    }\n",
       "\n",
       "    .dataframe thead th {\n",
       "        text-align: right;\n",
       "    }\n",
       "</style>\n",
       "<table border=\"1\" class=\"dataframe\">\n",
       "  <thead>\n",
       "    <tr style=\"text-align: right;\">\n",
       "      <th></th>\n",
       "      <th>id</th>\n",
       "      <th>price</th>\n",
       "      <th>bedrooms</th>\n",
       "      <th>bathrooms</th>\n",
       "      <th>sqft_living</th>\n",
       "      <th>sqft_lot</th>\n",
       "      <th>floors</th>\n",
       "      <th>waterfront</th>\n",
       "      <th>view</th>\n",
       "      <th>condition</th>\n",
       "      <th>grade</th>\n",
       "      <th>sqft_above</th>\n",
       "      <th>sqft_basement</th>\n",
       "      <th>yr_built</th>\n",
       "      <th>yr_renovated</th>\n",
       "      <th>zipcode</th>\n",
       "      <th>lat</th>\n",
       "      <th>long</th>\n",
       "      <th>sqft_living15</th>\n",
       "      <th>sqft_lot15</th>\n",
       "    </tr>\n",
       "  </thead>\n",
       "  <tbody>\n",
       "    <tr>\n",
       "      <th>count</th>\n",
       "      <td>2.161300e+04</td>\n",
       "      <td>2.161300e+04</td>\n",
       "      <td>20479.000000</td>\n",
       "      <td>20545.000000</td>\n",
       "      <td>20503.000000</td>\n",
       "      <td>2.056900e+04</td>\n",
       "      <td>21613.000000</td>\n",
       "      <td>21613.000000</td>\n",
       "      <td>21613.000000</td>\n",
       "      <td>21613.000000</td>\n",
       "      <td>21613.000000</td>\n",
       "      <td>21613.000000</td>\n",
       "      <td>21613.000000</td>\n",
       "      <td>21613.000000</td>\n",
       "      <td>21613.000000</td>\n",
       "      <td>21613.000000</td>\n",
       "      <td>21613.000000</td>\n",
       "      <td>21613.000000</td>\n",
       "      <td>21613.000000</td>\n",
       "      <td>21613.000000</td>\n",
       "    </tr>\n",
       "    <tr>\n",
       "      <th>mean</th>\n",
       "      <td>4.580302e+09</td>\n",
       "      <td>5.400881e+05</td>\n",
       "      <td>3.372821</td>\n",
       "      <td>2.113507</td>\n",
       "      <td>2081.073697</td>\n",
       "      <td>1.517982e+04</td>\n",
       "      <td>1.494309</td>\n",
       "      <td>0.007542</td>\n",
       "      <td>0.234303</td>\n",
       "      <td>3.409430</td>\n",
       "      <td>7.656873</td>\n",
       "      <td>1788.390691</td>\n",
       "      <td>291.509045</td>\n",
       "      <td>1971.005136</td>\n",
       "      <td>84.402258</td>\n",
       "      <td>98077.939805</td>\n",
       "      <td>47.560053</td>\n",
       "      <td>-122.213896</td>\n",
       "      <td>1986.552492</td>\n",
       "      <td>12768.455652</td>\n",
       "    </tr>\n",
       "    <tr>\n",
       "      <th>std</th>\n",
       "      <td>2.876566e+09</td>\n",
       "      <td>3.671272e+05</td>\n",
       "      <td>0.930711</td>\n",
       "      <td>0.768913</td>\n",
       "      <td>915.043176</td>\n",
       "      <td>4.148617e+04</td>\n",
       "      <td>0.539989</td>\n",
       "      <td>0.086517</td>\n",
       "      <td>0.766318</td>\n",
       "      <td>0.650743</td>\n",
       "      <td>1.175459</td>\n",
       "      <td>828.090978</td>\n",
       "      <td>442.575043</td>\n",
       "      <td>29.373411</td>\n",
       "      <td>401.679240</td>\n",
       "      <td>53.505026</td>\n",
       "      <td>0.138564</td>\n",
       "      <td>0.140828</td>\n",
       "      <td>685.391304</td>\n",
       "      <td>27304.179631</td>\n",
       "    </tr>\n",
       "    <tr>\n",
       "      <th>min</th>\n",
       "      <td>1.000102e+06</td>\n",
       "      <td>7.500000e+04</td>\n",
       "      <td>0.000000</td>\n",
       "      <td>0.000000</td>\n",
       "      <td>290.000000</td>\n",
       "      <td>5.200000e+02</td>\n",
       "      <td>1.000000</td>\n",
       "      <td>0.000000</td>\n",
       "      <td>0.000000</td>\n",
       "      <td>1.000000</td>\n",
       "      <td>1.000000</td>\n",
       "      <td>290.000000</td>\n",
       "      <td>0.000000</td>\n",
       "      <td>1900.000000</td>\n",
       "      <td>0.000000</td>\n",
       "      <td>98001.000000</td>\n",
       "      <td>47.155900</td>\n",
       "      <td>-122.519000</td>\n",
       "      <td>399.000000</td>\n",
       "      <td>651.000000</td>\n",
       "    </tr>\n",
       "    <tr>\n",
       "      <th>25%</th>\n",
       "      <td>2.123049e+09</td>\n",
       "      <td>3.219500e+05</td>\n",
       "      <td>3.000000</td>\n",
       "      <td>1.500000</td>\n",
       "      <td>1430.000000</td>\n",
       "      <td>5.040000e+03</td>\n",
       "      <td>1.000000</td>\n",
       "      <td>0.000000</td>\n",
       "      <td>0.000000</td>\n",
       "      <td>3.000000</td>\n",
       "      <td>7.000000</td>\n",
       "      <td>1190.000000</td>\n",
       "      <td>0.000000</td>\n",
       "      <td>1951.000000</td>\n",
       "      <td>0.000000</td>\n",
       "      <td>98033.000000</td>\n",
       "      <td>47.471000</td>\n",
       "      <td>-122.328000</td>\n",
       "      <td>1490.000000</td>\n",
       "      <td>5100.000000</td>\n",
       "    </tr>\n",
       "    <tr>\n",
       "      <th>50%</th>\n",
       "      <td>3.904930e+09</td>\n",
       "      <td>4.500000e+05</td>\n",
       "      <td>3.000000</td>\n",
       "      <td>2.250000</td>\n",
       "      <td>1920.000000</td>\n",
       "      <td>7.620000e+03</td>\n",
       "      <td>1.500000</td>\n",
       "      <td>0.000000</td>\n",
       "      <td>0.000000</td>\n",
       "      <td>3.000000</td>\n",
       "      <td>7.000000</td>\n",
       "      <td>1560.000000</td>\n",
       "      <td>0.000000</td>\n",
       "      <td>1975.000000</td>\n",
       "      <td>0.000000</td>\n",
       "      <td>98065.000000</td>\n",
       "      <td>47.571800</td>\n",
       "      <td>-122.230000</td>\n",
       "      <td>1840.000000</td>\n",
       "      <td>7620.000000</td>\n",
       "    </tr>\n",
       "    <tr>\n",
       "      <th>75%</th>\n",
       "      <td>7.308900e+09</td>\n",
       "      <td>6.450000e+05</td>\n",
       "      <td>4.000000</td>\n",
       "      <td>2.500000</td>\n",
       "      <td>2550.000000</td>\n",
       "      <td>1.070800e+04</td>\n",
       "      <td>2.000000</td>\n",
       "      <td>0.000000</td>\n",
       "      <td>0.000000</td>\n",
       "      <td>4.000000</td>\n",
       "      <td>8.000000</td>\n",
       "      <td>2210.000000</td>\n",
       "      <td>560.000000</td>\n",
       "      <td>1997.000000</td>\n",
       "      <td>0.000000</td>\n",
       "      <td>98118.000000</td>\n",
       "      <td>47.678000</td>\n",
       "      <td>-122.125000</td>\n",
       "      <td>2360.000000</td>\n",
       "      <td>10083.000000</td>\n",
       "    </tr>\n",
       "    <tr>\n",
       "      <th>max</th>\n",
       "      <td>9.900000e+09</td>\n",
       "      <td>7.700000e+06</td>\n",
       "      <td>33.000000</td>\n",
       "      <td>8.000000</td>\n",
       "      <td>12050.000000</td>\n",
       "      <td>1.651359e+06</td>\n",
       "      <td>3.500000</td>\n",
       "      <td>1.000000</td>\n",
       "      <td>4.000000</td>\n",
       "      <td>5.000000</td>\n",
       "      <td>13.000000</td>\n",
       "      <td>9410.000000</td>\n",
       "      <td>4820.000000</td>\n",
       "      <td>2015.000000</td>\n",
       "      <td>2015.000000</td>\n",
       "      <td>98199.000000</td>\n",
       "      <td>47.777600</td>\n",
       "      <td>-121.315000</td>\n",
       "      <td>6210.000000</td>\n",
       "      <td>871200.000000</td>\n",
       "    </tr>\n",
       "  </tbody>\n",
       "</table>\n",
       "</div>"
      ],
      "text/plain": [
       "                 id         price      bedrooms     bathrooms   sqft_living  \\\n",
       "count  2.161300e+04  2.161300e+04  20479.000000  20545.000000  20503.000000   \n",
       "mean   4.580302e+09  5.400881e+05      3.372821      2.113507   2081.073697   \n",
       "std    2.876566e+09  3.671272e+05      0.930711      0.768913    915.043176   \n",
       "min    1.000102e+06  7.500000e+04      0.000000      0.000000    290.000000   \n",
       "25%    2.123049e+09  3.219500e+05      3.000000      1.500000   1430.000000   \n",
       "50%    3.904930e+09  4.500000e+05      3.000000      2.250000   1920.000000   \n",
       "75%    7.308900e+09  6.450000e+05      4.000000      2.500000   2550.000000   \n",
       "max    9.900000e+09  7.700000e+06     33.000000      8.000000  12050.000000   \n",
       "\n",
       "           sqft_lot        floors    waterfront          view     condition  \\\n",
       "count  2.056900e+04  21613.000000  21613.000000  21613.000000  21613.000000   \n",
       "mean   1.517982e+04      1.494309      0.007542      0.234303      3.409430   \n",
       "std    4.148617e+04      0.539989      0.086517      0.766318      0.650743   \n",
       "min    5.200000e+02      1.000000      0.000000      0.000000      1.000000   \n",
       "25%    5.040000e+03      1.000000      0.000000      0.000000      3.000000   \n",
       "50%    7.620000e+03      1.500000      0.000000      0.000000      3.000000   \n",
       "75%    1.070800e+04      2.000000      0.000000      0.000000      4.000000   \n",
       "max    1.651359e+06      3.500000      1.000000      4.000000      5.000000   \n",
       "\n",
       "              grade    sqft_above  sqft_basement      yr_built  yr_renovated  \\\n",
       "count  21613.000000  21613.000000   21613.000000  21613.000000  21613.000000   \n",
       "mean       7.656873   1788.390691     291.509045   1971.005136     84.402258   \n",
       "std        1.175459    828.090978     442.575043     29.373411    401.679240   \n",
       "min        1.000000    290.000000       0.000000   1900.000000      0.000000   \n",
       "25%        7.000000   1190.000000       0.000000   1951.000000      0.000000   \n",
       "50%        7.000000   1560.000000       0.000000   1975.000000      0.000000   \n",
       "75%        8.000000   2210.000000     560.000000   1997.000000      0.000000   \n",
       "max       13.000000   9410.000000    4820.000000   2015.000000   2015.000000   \n",
       "\n",
       "            zipcode           lat          long  sqft_living15     sqft_lot15  \n",
       "count  21613.000000  21613.000000  21613.000000   21613.000000   21613.000000  \n",
       "mean   98077.939805     47.560053   -122.213896    1986.552492   12768.455652  \n",
       "std       53.505026      0.138564      0.140828     685.391304   27304.179631  \n",
       "min    98001.000000     47.155900   -122.519000     399.000000     651.000000  \n",
       "25%    98033.000000     47.471000   -122.328000    1490.000000    5100.000000  \n",
       "50%    98065.000000     47.571800   -122.230000    1840.000000    7620.000000  \n",
       "75%    98118.000000     47.678000   -122.125000    2360.000000   10083.000000  \n",
       "max    98199.000000     47.777600   -121.315000    6210.000000  871200.000000  "
      ]
     },
     "execution_count": 4,
     "metadata": {},
     "output_type": "execute_result"
    }
   ],
   "source": [
    "data.describe()"
   ]
  },
  {
   "cell_type": "markdown",
   "metadata": {},
   "source": [
    "Check for nulls. "
   ]
  },
  {
   "cell_type": "code",
   "execution_count": 5,
   "metadata": {},
   "outputs": [
    {
     "data": {
      "text/plain": [
       "id                  0\n",
       "date                0\n",
       "price               0\n",
       "bedrooms         1134\n",
       "bathrooms        1068\n",
       "sqft_living      1110\n",
       "sqft_lot         1044\n",
       "floors              0\n",
       "waterfront          0\n",
       "view                0\n",
       "condition           0\n",
       "grade               0\n",
       "sqft_above          0\n",
       "sqft_basement       0\n",
       "yr_built            0\n",
       "yr_renovated        0\n",
       "zipcode             0\n",
       "lat                 0\n",
       "long                0\n",
       "sqft_living15       0\n",
       "sqft_lot15          0\n",
       "dtype: int64"
      ]
     },
     "execution_count": 5,
     "metadata": {},
     "output_type": "execute_result"
    }
   ],
   "source": [
    "data.isna().sum()"
   ]
  },
  {
   "cell_type": "markdown",
   "metadata": {},
   "source": [
    "bedrooms, bathrooms, sqft_living, and sqft_lot contain nulls.  "
   ]
  },
  {
   "cell_type": "markdown",
   "metadata": {},
   "source": [
    "What is the difference between sqft_living and sqft_living15? What about sqft_loft and sqft_loft15? The fields appended with \"15\" don't have any nulls. "
   ]
  },
  {
   "cell_type": "markdown",
   "metadata": {},
   "source": [
    "# Check for outliers. "
   ]
  },
  {
   "cell_type": "markdown",
   "metadata": {},
   "source": [
    "Let's start with the date column"
   ]
  },
  {
   "cell_type": "code",
   "execution_count": 6,
   "metadata": {},
   "outputs": [],
   "source": [
    "columns_with_outliers = set() "
   ]
  },
  {
   "cell_type": "code",
   "execution_count": 7,
   "metadata": {},
   "outputs": [
    {
     "data": {
      "text/plain": [
       "str"
      ]
     },
     "execution_count": 7,
     "metadata": {},
     "output_type": "execute_result"
    }
   ],
   "source": [
    "type(data.date[0])"
   ]
  },
  {
   "cell_type": "markdown",
   "metadata": {},
   "source": [
    "The values in the date column are strings. We should convert them to dates. "
   ]
  },
  {
   "cell_type": "code",
   "execution_count": 8,
   "metadata": {},
   "outputs": [
    {
     "data": {
      "text/plain": [
       "0       2014-10-13\n",
       "1       2014-12-09\n",
       "2       2015-02-25\n",
       "3       2014-12-09\n",
       "4       2015-02-18\n",
       "           ...    \n",
       "21608   2014-05-21\n",
       "21609   2015-02-23\n",
       "21610   2014-06-23\n",
       "21611   2015-01-16\n",
       "21612   2014-10-15\n",
       "Name: date, Length: 21613, dtype: datetime64[ns]"
      ]
     },
     "execution_count": 8,
     "metadata": {},
     "output_type": "execute_result"
    }
   ],
   "source": [
    "data['date'] = data.apply(lambda row: pd.to_datetime(row.date), axis=1)\n",
    "data['date']"
   ]
  },
  {
   "cell_type": "code",
   "execution_count": 9,
   "metadata": {},
   "outputs": [
    {
     "data": {
      "text/plain": [
       "0        2014-10-13\n",
       "1        2014-12-09\n",
       "2        2015-02-25\n",
       "3        2014-12-09\n",
       "4        2015-02-18\n",
       "            ...    \n",
       "21608    2014-05-21\n",
       "21609    2015-02-23\n",
       "21610    2014-06-23\n",
       "21611    2015-01-16\n",
       "21612    2014-10-15\n",
       "Name: date, Length: 21613, dtype: object"
      ]
     },
     "execution_count": 9,
     "metadata": {},
     "output_type": "execute_result"
    }
   ],
   "source": [
    "data['date'] = data['date'].dt.date\n",
    "data['date']"
   ]
  },
  {
   "cell_type": "code",
   "execution_count": 10,
   "metadata": {},
   "outputs": [
    {
     "data": {
      "text/plain": [
       "(datetime.date(2014, 5, 2), datetime.date(2015, 5, 27))"
      ]
     },
     "execution_count": 10,
     "metadata": {},
     "output_type": "execute_result"
    }
   ],
   "source": [
    "data.date.min(), data.date.max()"
   ]
  },
  {
   "cell_type": "markdown",
   "metadata": {},
   "source": [
    "All of the dates are within 2014 and 2015, as expected. Let's move on to price. "
   ]
  },
  {
   "cell_type": "code",
   "execution_count": 11,
   "metadata": {},
   "outputs": [
    {
     "data": {
      "image/png": "[encoded data removed]",
      "text/plain": [
       "<Figure size 432x288 with 1 Axes>"
      ]
     },
     "metadata": {
      "needs_background": "light"
     },
     "output_type": "display_data"
    }
   ],
   "source": [
    "sns.boxplot(data=data, y='price')\n",
    "plt.show()"
   ]
  },
  {
   "cell_type": "markdown",
   "metadata": {},
   "source": [
    "There are many price outliers that right-skew the distribution. Let's add it to our set of columns with outliers. And look at bedrooms. "
   ]
  },
  {
   "cell_type": "code",
   "execution_count": 12,
   "metadata": {},
   "outputs": [],
   "source": [
    "columns_with_outliers.add('price')"
   ]
  },
  {
   "cell_type": "code",
   "execution_count": 13,
   "metadata": {},
   "outputs": [
    {
     "data": {
      "image/png": "[encoded data removed]",
      "text/plain": [
       "<Figure size 432x288 with 1 Axes>"
      ]
     },
     "metadata": {
      "needs_background": "light"
     },
     "output_type": "display_data"
    }
   ],
   "source": [
    "sns.boxplot(data=data, y='bedrooms')\n",
    "plt.show()"
   ]
  },
  {
   "cell_type": "markdown",
   "metadata": {},
   "source": [
    "There are bedrooms outliers so let's add it to our set and look at bathrooms. "
   ]
  },
  {
   "cell_type": "code",
   "execution_count": 14,
   "metadata": {},
   "outputs": [],
   "source": [
    "columns_with_outliers.add('bedrooms')"
   ]
  },
  {
   "cell_type": "code",
   "execution_count": 15,
   "metadata": {},
   "outputs": [
    {
     "data": {
      "image/png": "[encoded data removed]",
      "text/plain": [
       "<Figure size 432x288 with 1 Axes>"
      ]
     },
     "metadata": {
      "needs_background": "light"
     },
     "output_type": "display_data"
    }
   ],
   "source": [
    "sns.boxplot(data=data, y='bathrooms')\n",
    "plt.show()"
   ]
  },
  {
   "cell_type": "markdown",
   "metadata": {},
   "source": [
    "There are bathrooms outliers so let's add it to our set and look at sqft_living."
   ]
  },
  {
   "cell_type": "code",
   "execution_count": 16,
   "metadata": {},
   "outputs": [],
   "source": [
    "columns_with_outliers.add('bathrooms')"
   ]
  },
  {
   "cell_type": "markdown",
   "metadata": {},
   "source": [
    "Let's now take a look at sqft_living. "
   ]
  },
  {
   "cell_type": "code",
   "execution_count": 17,
   "metadata": {},
   "outputs": [
    {
     "data": {
      "image/png": "[encoded data removed]",
      "text/plain": [
       "<Figure size 432x288 with 1 Axes>"
      ]
     },
     "metadata": {
      "needs_background": "light"
     },
     "output_type": "display_data"
    }
   ],
   "source": [
    "sns.boxplot(data=data, y='sqft_living')\n",
    "plt.show()"
   ]
  },
  {
   "cell_type": "markdown",
   "metadata": {},
   "source": [
    "There are sqft_living outliers so let's add it to our set and look at sqft_lot. "
   ]
  },
  {
   "cell_type": "code",
   "execution_count": 18,
   "metadata": {},
   "outputs": [],
   "source": [
    "columns_with_outliers.add('sqft_living')"
   ]
  },
  {
   "cell_type": "code",
   "execution_count": 19,
   "metadata": {},
   "outputs": [
    {
     "data": {
      "image/png": "[encoded data removed]",
      "text/plain": [
       "<Figure size 432x288 with 1 Axes>"
      ]
     },
     "metadata": {
      "needs_background": "light"
     },
     "output_type": "display_data"
    }
   ],
   "source": [
    "sns.boxplot(data=data, y='sqft_lot')\n",
    "plt.show()"
   ]
  },
  {
   "cell_type": "markdown",
   "metadata": {},
   "source": [
    "This distribution is extremely right-skewed with many outliers. Let's add it to our set and look at floors."
   ]
  },
  {
   "cell_type": "code",
   "execution_count": 20,
   "metadata": {},
   "outputs": [],
   "source": [
    "columns_with_outliers.add('sqft_lot')"
   ]
  },
  {
   "cell_type": "code",
   "execution_count": 21,
   "metadata": {},
   "outputs": [
    {
     "data": {
      "image/png": "[encoded data removed]",
      "text/plain": [
       "<Figure size 432x288 with 1 Axes>"
      ]
     },
     "metadata": {
      "needs_background": "light"
     },
     "output_type": "display_data"
    }
   ],
   "source": [
    "sns.boxplot(data=data, y='floors')\n",
    "plt.show()"
   ]
  },
  {
   "cell_type": "markdown",
   "metadata": {},
   "source": [
    "There are no floors outliers so let's move on. waterfront is a binary variable with a max of 1 so no outliers there. view is supposed to be a binary variable but the max is 4, so it must have some data errors. "
   ]
  },
  {
   "cell_type": "code",
   "execution_count": 22,
   "metadata": {},
   "outputs": [
    {
     "data": {
      "image/png": "[encoded data removed]",
      "text/plain": [
       "<Figure size 432x288 with 1 Axes>"
      ]
     },
     "metadata": {
      "needs_background": "light"
     },
     "output_type": "display_data"
    }
   ],
   "source": [
    "sns.histplot(data.view)\n",
    "plt.show()"
   ]
  },
  {
   "cell_type": "markdown",
   "metadata": {},
   "source": [
    "Some view values are 2, 3, and 4. Let's add this to our set but make sure we treat it differently when it comes time to identify outliers. "
   ]
  },
  {
   "cell_type": "code",
   "execution_count": 23,
   "metadata": {},
   "outputs": [],
   "source": [
    "columns_with_outliers.add('view')"
   ]
  },
  {
   "cell_type": "code",
   "execution_count": 24,
   "metadata": {},
   "outputs": [
    {
     "data": {
      "image/png": "[encoded data removed]",
      "text/plain": [
       "<Figure size 432x288 with 1 Axes>"
      ]
     },
     "metadata": {
      "needs_background": "light"
     },
     "output_type": "display_data"
    }
   ],
   "source": [
    "sns.boxplot(data=data, y='condition')\n",
    "plt.show()"
   ]
  },
  {
   "cell_type": "markdown",
   "metadata": {},
   "source": [
    "Condition has outliers so let's add it to our set and look at sqft_above."
   ]
  },
  {
   "cell_type": "code",
   "execution_count": 25,
   "metadata": {},
   "outputs": [],
   "source": [
    "columns_with_outliers.add('condition')"
   ]
  },
  {
   "cell_type": "code",
   "execution_count": 26,
   "metadata": {},
   "outputs": [
    {
     "data": {
      "image/png": "[encoded data removed]",
      "text/plain": [
       "<Figure size 432x288 with 1 Axes>"
      ]
     },
     "metadata": {
      "needs_background": "light"
     },
     "output_type": "display_data"
    }
   ],
   "source": [
    "sns.boxplot(data=data, y='sqft_above')\n",
    "plt.show()"
   ]
  },
  {
   "cell_type": "markdown",
   "metadata": {},
   "source": [
    "sqft_above has outliers so let's add it to our set and look at sqft_basement."
   ]
  },
  {
   "cell_type": "code",
   "execution_count": 27,
   "metadata": {},
   "outputs": [],
   "source": [
    "columns_with_outliers.add('sqft_above')"
   ]
  },
  {
   "cell_type": "code",
   "execution_count": 28,
   "metadata": {},
   "outputs": [
    {
     "data": {
      "image/png": "[encoded data removed]",
      "text/plain": [
       "<Figure size 432x288 with 1 Axes>"
      ]
     },
     "metadata": {
      "needs_background": "light"
     },
     "output_type": "display_data"
    }
   ],
   "source": [
    "sns.boxplot(data=data, y='sqft_basement')\n",
    "plt.show()"
   ]
  },
  {
   "cell_type": "markdown",
   "metadata": {},
   "source": [
    "sqft_basement has outliers so let's add it to our set and look at yr_built."
   ]
  },
  {
   "cell_type": "code",
   "execution_count": 29,
   "metadata": {},
   "outputs": [],
   "source": [
    "columns_with_outliers.add('sqft_basement')"
   ]
  },
  {
   "cell_type": "code",
   "execution_count": 30,
   "metadata": {},
   "outputs": [
    {
     "data": {
      "image/png": "[encoded data removed]",
      "text/plain": [
       "<Figure size 432x288 with 1 Axes>"
      ]
     },
     "metadata": {
      "needs_background": "light"
     },
     "output_type": "display_data"
    }
   ],
   "source": [
    "sns.boxplot(data=data, y='yr_built')\n",
    "plt.show()"
   ]
  },
  {
   "cell_type": "markdown",
   "metadata": {},
   "source": [
    "No yr_built outliers. Let's look at yr_renovated. Homes that have not been renovated have a value of 0. Let's replace these with nulls so they don't skew the distribution. "
   ]
  },
  {
   "cell_type": "code",
   "execution_count": 31,
   "metadata": {},
   "outputs": [],
   "source": [
    "data.yr_renovated.replace(0, np.nan, inplace=True)"
   ]
  },
  {
   "cell_type": "code",
   "execution_count": 32,
   "metadata": {},
   "outputs": [
    {
     "data": {
      "image/png": "[encoded data removed]",
      "text/plain": [
       "<Figure size 432x288 with 1 Axes>"
      ]
     },
     "metadata": {
      "needs_background": "light"
     },
     "output_type": "display_data"
    }
   ],
   "source": [
    "sns.boxplot(data=data, y='yr_renovated')\n",
    "plt.show()"
   ]
  },
  {
   "cell_type": "markdown",
   "metadata": {},
   "source": [
    "There are some outliers so let's add this to our set and look at zipcode. "
   ]
  },
  {
   "cell_type": "code",
   "execution_count": 33,
   "metadata": {},
   "outputs": [],
   "source": [
    "columns_with_outliers.add('yr_renovated')"
   ]
  },
  {
   "cell_type": "code",
   "execution_count": 34,
   "metadata": {},
   "outputs": [
    {
     "data": {
      "image/png": "[encoded data removed]",
      "text/plain": [
       "<Figure size 432x288 with 1 Axes>"
      ]
     },
     "metadata": {
      "needs_background": "light"
     },
     "output_type": "display_data"
    }
   ],
   "source": [
    "sns.scatterplot(data=data, x='sqft_living', y='sqft_living15')\n",
    "plt.show()"
   ]
  },
  {
   "cell_type": "markdown",
   "metadata": {},
   "source": [
    "No zipcode outliers so let's move on to sqft_living15. "
   ]
  },
  {
   "cell_type": "code",
   "execution_count": 35,
   "metadata": {},
   "outputs": [
    {
     "data": {
      "text/plain": [
       "0.7569012475423504"
      ]
     },
     "execution_count": 35,
     "metadata": {},
     "output_type": "execute_result"
    }
   ],
   "source": [
    "data.sqft_living.corr(data.sqft_living15)"
   ]
  },
  {
   "cell_type": "markdown",
   "metadata": {},
   "source": [
    "It has outliers so let's add it to our set and look at sqft_lot15. "
   ]
  },
  {
   "cell_type": "code",
   "execution_count": 36,
   "metadata": {},
   "outputs": [
    {
     "data": {
      "image/png": "[encoded data removed]",
      "text/plain": [
       "<Figure size 432x288 with 1 Axes>"
      ]
     },
     "metadata": {
      "needs_background": "light"
     },
     "output_type": "display_data"
    }
   ],
   "source": [
    "sns.scatterplot(data=data, x='sqft_lot', y='sqft_lot15')\n",
    "plt.show()"
   ]
  },
  {
   "cell_type": "markdown",
   "metadata": {},
   "source": [
    "There are some very extreme outliers so let's add this column to our set as well. "
   ]
  },
  {
   "cell_type": "code",
   "execution_count": 37,
   "metadata": {},
   "outputs": [],
   "source": [
    "columns_with_outliers.add('sqft_lot15')"
   ]
  },
  {
   "cell_type": "code",
   "execution_count": 38,
   "metadata": {},
   "outputs": [
    {
     "data": {
      "text/plain": [
       "{'bathrooms',\n",
       " 'bedrooms',\n",
       " 'condition',\n",
       " 'price',\n",
       " 'sqft_above',\n",
       " 'sqft_basement',\n",
       " 'sqft_living',\n",
       " 'sqft_lot',\n",
       " 'sqft_lot15',\n",
       " 'view',\n",
       " 'yr_renovated'}"
      ]
     },
     "execution_count": 38,
     "metadata": {},
     "output_type": "execute_result"
    }
   ],
   "source": [
    "columns_with_outliers"
   ]
  },
  {
   "cell_type": "code",
   "execution_count": 39,
   "metadata": {},
   "outputs": [],
   "source": [
    "def get_outliers(column):\n",
    "    if column == 'view':\n",
    "        return data[data.view > 1]\n",
    "    q1 = data[column].quantile(.25) \n",
    "    q3 = data[column].quantile(.75)\n",
    "    iqr = q3 - q1\n",
    "    return data[(data[column] < q1 - 1.5 * iqr) | (data[column] > q3 + 1.5 * iqr)]"
   ]
  },
  {
   "cell_type": "code",
   "execution_count": 40,
   "metadata": {},
   "outputs": [],
   "source": [
    "def consolidate_outliers(columns): \n",
    "    outlier_dfs = [] # list to store the dataframe with each column's outliers \n",
    "    for c in columns: # for each column \n",
    "        df = get_outliers(c) # get its outliers as a dataframe\n",
    "        outlier_dfs.append(df) # add that dataframe to the list \n",
    "    return pd.concat(outlier_dfs).drop_duplicates() # vertically combine the dataframes and drop duplicate rows"
   ]
  },
  {
   "cell_type": "code",
   "execution_count": 41,
   "metadata": {},
   "outputs": [
    {
     "data": {
      "text/plain": [
       "(5186, 21)"
      ]
     },
     "execution_count": 41,
     "metadata": {},
     "output_type": "execute_result"
    }
   ],
   "source": [
    "outliers = consolidate_outliers(columns_with_outliers)\n",
    "outliers.shape"
   ]
  },
  {
   "cell_type": "markdown",
   "metadata": {},
   "source": [
    "Our consolidated, deduped dataframe of outliers from all columns has 4,348 houses. Let's remove them from our dataset. "
   ]
  },
  {
   "cell_type": "code",
   "execution_count": 42,
   "metadata": {},
   "outputs": [
    {
     "data": {
      "text/plain": [
       "(16427, 21)"
      ]
     },
     "execution_count": 42,
     "metadata": {},
     "output_type": "execute_result"
    }
   ],
   "source": [
    "data = data.merge(\n",
    "    outliers,\n",
    "    how='outer',\n",
    "    indicator=True\n",
    ").query('_merge == \"left_only\"').drop('_merge', axis=1)\n",
    "data.shape"
   ]
  },
  {
   "cell_type": "code",
   "execution_count": 43,
   "metadata": {},
   "outputs": [],
   "source": [
    "data.drop(['id', 'grade', 'lat', 'long'], axis=1, inplace=True)"
   ]
  },
  {
   "cell_type": "code",
   "execution_count": 44,
   "metadata": {},
   "outputs": [
    {
     "data": {
      "text/plain": [
       "(16427, 17)"
      ]
     },
     "execution_count": 44,
     "metadata": {},
     "output_type": "execute_result"
    }
   ],
   "source": [
    "data.shape"
   ]
  },
  {
   "cell_type": "code",
   "execution_count": 45,
   "metadata": {},
   "outputs": [
    {
     "data": {
      "text/plain": [
       "0.8794793806180177"
      ]
     },
     "execution_count": 45,
     "metadata": {},
     "output_type": "execute_result"
    }
   ],
   "source": [
    "data.sqft_lot.corr(data.sqft_lot15)"
   ]
  },
  {
   "cell_type": "markdown",
   "metadata": {},
   "source": [
    "sqft_lot and sqft_lot15 are also quite strongly positively correlated, with a coefficient of 0.73. "
   ]
  },
  {
   "cell_type": "markdown",
   "metadata": {},
   "source": [
    "Create df of rows with null sqft_living and sqft_lot to use later."
   ]
  },
  {
   "cell_type": "code",
   "execution_count": 46,
   "metadata": {},
   "outputs": [],
   "source": [
    "nullsqft_living = data['sqft_living'].isnull()\n",
    "null_living = pd.DataFrame(data['sqft_living15'][nullsqft_living])\n",
    "\n",
    "nullsqft_lot = data['sqft_lot'].isnull()\n",
    "null_lot = pd.DataFrame(data['sqft_lot15'][nullsqft_lot])"
   ]
  },
  {
   "cell_type": "markdown",
   "metadata": {},
   "source": [
    "Create a data set of data without outliers and where sqft_living and sqft_lot are non-empty\n",
    "Use this set for regression analysis"
   ]
  },
  {
   "cell_type": "code",
   "execution_count": 47,
   "metadata": {},
   "outputs": [
    {
     "data": {
      "text/plain": [
       "14765"
      ]
     },
     "execution_count": 47,
     "metadata": {},
     "output_type": "execute_result"
    }
   ],
   "source": [
    "filtereddata = data.dropna(subset = ['sqft_living', 'sqft_lot'])\n",
    "filtereddata.shape[0]"
   ]
  },
  {
   "cell_type": "code",
   "execution_count": null,
   "metadata": {},
   "outputs": [],
   "source": []
  },
  {
   "cell_type": "markdown",
   "metadata": {},
   "source": [
    "# Start data imputation"
   ]
  },
  {
   "cell_type": "code",
   "execution_count": 48,
   "metadata": {},
   "outputs": [
    {
     "data": {
      "text/plain": [
       "date                 0\n",
       "price                0\n",
       "bedrooms           885\n",
       "bathrooms          780\n",
       "sqft_living        851\n",
       "sqft_lot           852\n",
       "floors               0\n",
       "waterfront           0\n",
       "view                 0\n",
       "condition            0\n",
       "sqft_above           0\n",
       "sqft_basement        0\n",
       "yr_built             0\n",
       "yr_renovated     15917\n",
       "zipcode              0\n",
       "sqft_living15        0\n",
       "sqft_lot15           0\n",
       "dtype: int64"
      ]
     },
     "execution_count": 48,
     "metadata": {},
     "output_type": "execute_result"
    }
   ],
   "source": [
    "data.isna().sum()"
   ]
  },
  {
   "cell_type": "markdown",
   "metadata": {},
   "source": [
    "Sqft_lot based on sqft_lot15"
   ]
  },
  {
   "cell_type": "code",
   "execution_count": 49,
   "metadata": {
    "scrolled": false
   },
   "outputs": [
    {
     "name": "stdout",
     "output_type": "stream",
     "text": [
      "                            OLS Regression Results                            \n",
      "==============================================================================\n",
      "Dep. Variable:               sqft_lot   R-squared:                       0.773\n",
      "Model:                            OLS   Adj. R-squared:                  0.773\n",
      "Method:                 Least Squares   F-statistic:                 5.017e+04\n",
      "Date:                Wed, 07 Apr 2021   Prob (F-statistic):               0.00\n",
      "Time:                        16:24:18   Log-Likelihood:            -1.3004e+05\n",
      "No. Observations:               14765   AIC:                         2.601e+05\n",
      "Df Residuals:                   14763   BIC:                         2.601e+05\n",
      "Df Model:                           1                                         \n",
      "Covariance Type:            nonrobust                                         \n",
      "==============================================================================\n",
      "                 coef    std err          t      P>|t|      [0.025      0.975]\n",
      "------------------------------------------------------------------------------\n",
      "Intercept    203.4067     33.485      6.074      0.000     137.771     269.042\n",
      "sqft_lot15     0.9880      0.004    223.978      0.000       0.979       0.997\n",
      "==============================================================================\n",
      "Omnibus:                     4509.985   Durbin-Watson:                   1.964\n",
      "Prob(Omnibus):                  0.000   Jarque-Bera (JB):            47688.540\n",
      "Skew:                           1.160   Prob(JB):                         0.00\n",
      "Kurtosis:                      11.493   Cond. No.                     1.91e+04\n",
      "==============================================================================\n",
      "\n",
      "Notes:\n",
      "[1] Standard Errors assume that the covariance matrix of the errors is correctly specified.\n",
      "[2] The condition number is large, 1.91e+04. This might indicate that there are\n",
      "strong multicollinearity or other numerical problems.\n"
     ]
    }
   ],
   "source": [
    "import statsmodels\n",
    "from statsmodels.formula.api import ols\n",
    "from statsmodels.sandbox.regression.predstd import wls_prediction_std\n",
    "model = ols(\"sqft_lot ~ sqft_lot15\", data=filtereddata).fit()\n",
    "modelsummary = model.summary()\n",
    "print (modelsummary)"
   ]
  },
  {
   "cell_type": "code",
   "execution_count": 50,
   "metadata": {},
   "outputs": [],
   "source": [
    "data['sqft_lot'] = data.apply(\n",
    "    lambda row:\n",
    "        1.0286*row.sqft_lot15+43.6885\n",
    "    if np.isnan(row.sqft_lot) else row.sqft_lot, axis=1)"
   ]
  },
  {
   "cell_type": "code",
   "execution_count": 51,
   "metadata": {},
   "outputs": [
    {
     "data": {
      "image/png": "[encoded data removed]",
      "text/plain": [
       "<Figure size 432x288 with 1 Axes>"
      ]
     },
     "metadata": {
      "needs_background": "light"
     },
     "output_type": "display_data"
    },
    {
     "data": {
      "text/plain": [
       "0.8856263517199827"
      ]
     },
     "execution_count": 51,
     "metadata": {},
     "output_type": "execute_result"
    }
   ],
   "source": [
    "sns.scatterplot(data=data, x='sqft_lot', y='sqft_lot15')\n",
    "plt.show()\n",
    "data.sqft_lot.corr(data.sqft_lot15)"
   ]
  },
  {
   "cell_type": "markdown",
   "metadata": {},
   "source": [
    "We see our coefficient and intercept matches the scatter plot above"
   ]
  },
  {
   "cell_type": "markdown",
   "metadata": {},
   "source": [
    "sqft_living based on sqft_living15"
   ]
  },
  {
   "cell_type": "code",
   "execution_count": 52,
   "metadata": {},
   "outputs": [
    {
     "name": "stdout",
     "output_type": "stream",
     "text": [
      "                            OLS Regression Results                            \n",
      "==============================================================================\n",
      "Dep. Variable:            sqft_living   R-squared:                       0.545\n",
      "Model:                            OLS   Adj. R-squared:                  0.545\n",
      "Method:                 Least Squares   F-statistic:                 1.772e+04\n",
      "Date:                Wed, 07 Apr 2021   Prob (F-statistic):               0.00\n",
      "Time:                        16:24:21   Log-Likelihood:            -1.1080e+05\n",
      "No. Observations:               14765   AIC:                         2.216e+05\n",
      "Df Residuals:                   14763   BIC:                         2.216e+05\n",
      "Df Model:                           1                                         \n",
      "Covariance Type:            nonrobust                                         \n",
      "=================================================================================\n",
      "                    coef    std err          t      P>|t|      [0.025      0.975]\n",
      "---------------------------------------------------------------------------------\n",
      "Intercept       237.0783     12.626     18.777      0.000     212.329     261.827\n",
      "sqft_living15     0.8831      0.007    133.106      0.000       0.870       0.896\n",
      "==============================================================================\n",
      "Omnibus:                     1595.059   Durbin-Watson:                   1.992\n",
      "Prob(Omnibus):                  0.000   Jarque-Bera (JB):             3928.035\n",
      "Skew:                           0.635   Prob(JB):                         0.00\n",
      "Kurtosis:                       5.185   Cond. No.                     6.64e+03\n",
      "==============================================================================\n",
      "\n",
      "Notes:\n",
      "[1] Standard Errors assume that the covariance matrix of the errors is correctly specified.\n",
      "[2] The condition number is large, 6.64e+03. This might indicate that there are\n",
      "strong multicollinearity or other numerical problems.\n"
     ]
    }
   ],
   "source": [
    "from statsmodels.formula.api import ols\n",
    "from statsmodels.sandbox.regression.predstd import wls_prediction_std\n",
    "model = ols(\"sqft_living ~ sqft_living15\", data=filtereddata).fit()\n",
    "modelsummary = model.summary()\n",
    "print (modelsummary)"
   ]
  },
  {
   "cell_type": "code",
   "execution_count": 53,
   "metadata": {},
   "outputs": [],
   "source": [
    "data['sqft_living'] = data.apply(\n",
    "    lambda row:\n",
    "        .831*row.sqft_living15+237.0783\n",
    "    if np.isnan(row.sqft_living) else row.sqft_living, axis=1)"
   ]
  },
  {
   "cell_type": "code",
   "execution_count": 54,
   "metadata": {},
   "outputs": [
    {
     "data": {
      "image/png": "[encoded data removed]",
      "text/plain": [
       "<Figure size 432x288 with 1 Axes>"
      ]
     },
     "metadata": {
      "needs_background": "light"
     },
     "output_type": "display_data"
    },
    {
     "data": {
      "text/plain": [
       "0.7477163975941316"
      ]
     },
     "execution_count": 54,
     "metadata": {},
     "output_type": "execute_result"
    }
   ],
   "source": [
    "sns.scatterplot(data=data, x='sqft_living', y='sqft_living15')\n",
    "plt.show()\n",
    "data.sqft_living.corr(data.sqft_living15)"
   ]
  },
  {
   "cell_type": "code",
   "execution_count": 55,
   "metadata": {},
   "outputs": [
    {
     "data": {
      "text/plain": [
       "date                 0\n",
       "price                0\n",
       "bedrooms           885\n",
       "bathrooms          780\n",
       "sqft_living          0\n",
       "sqft_lot             0\n",
       "floors               0\n",
       "waterfront           0\n",
       "view                 0\n",
       "condition            0\n",
       "sqft_above           0\n",
       "sqft_basement        0\n",
       "yr_built             0\n",
       "yr_renovated     15917\n",
       "zipcode              0\n",
       "sqft_living15        0\n",
       "sqft_lot15           0\n",
       "dtype: int64"
      ]
     },
     "execution_count": 55,
     "metadata": {},
     "output_type": "execute_result"
    }
   ],
   "source": [
    "data.isna().sum()"
   ]
  },
  {
   "cell_type": "markdown",
   "metadata": {},
   "source": [
    "There are no null sqft_living or sqft_lot records anymore."
   ]
  },
  {
   "cell_type": "code",
   "execution_count": 56,
   "metadata": {},
   "outputs": [
    {
     "data": {
      "text/html": [
       "<div>\n",
       "<style scoped>\n",
       "    .dataframe tbody tr th:only-of-type {\n",
       "        vertical-align: middle;\n",
       "    }\n",
       "\n",
       "    .dataframe tbody tr th {\n",
       "        vertical-align: top;\n",
       "    }\n",
       "\n",
       "    .dataframe thead th {\n",
       "        text-align: right;\n",
       "    }\n",
       "</style>\n",
       "<table border=\"1\" class=\"dataframe\">\n",
       "  <thead>\n",
       "    <tr style=\"text-align: right;\">\n",
       "      <th></th>\n",
       "      <th>price</th>\n",
       "      <th>bedrooms</th>\n",
       "      <th>bathrooms</th>\n",
       "      <th>sqft_living</th>\n",
       "      <th>sqft_lot</th>\n",
       "      <th>floors</th>\n",
       "      <th>waterfront</th>\n",
       "      <th>view</th>\n",
       "      <th>condition</th>\n",
       "      <th>sqft_above</th>\n",
       "      <th>sqft_basement</th>\n",
       "      <th>yr_built</th>\n",
       "      <th>yr_renovated</th>\n",
       "      <th>zipcode</th>\n",
       "      <th>sqft_living15</th>\n",
       "      <th>sqft_lot15</th>\n",
       "    </tr>\n",
       "  </thead>\n",
       "  <tbody>\n",
       "    <tr>\n",
       "      <th>count</th>\n",
       "      <td>1.642700e+04</td>\n",
       "      <td>15542.000000</td>\n",
       "      <td>15647.000000</td>\n",
       "      <td>16427.000000</td>\n",
       "      <td>16427.000000</td>\n",
       "      <td>16427.000000</td>\n",
       "      <td>16427.0</td>\n",
       "      <td>16427.000000</td>\n",
       "      <td>16427.000000</td>\n",
       "      <td>16427.000000</td>\n",
       "      <td>16427.000000</td>\n",
       "      <td>16427.000000</td>\n",
       "      <td>510.000000</td>\n",
       "      <td>16427.000000</td>\n",
       "      <td>16427.000000</td>\n",
       "      <td>16427.000000</td>\n",
       "    </tr>\n",
       "    <tr>\n",
       "      <th>mean</th>\n",
       "      <td>4.504365e+05</td>\n",
       "      <td>3.271458</td>\n",
       "      <td>1.990941</td>\n",
       "      <td>1843.314670</td>\n",
       "      <td>7097.741705</td>\n",
       "      <td>1.477476</td>\n",
       "      <td>0.0</td>\n",
       "      <td>0.013880</td>\n",
       "      <td>3.407317</td>\n",
       "      <td>1615.337432</td>\n",
       "      <td>232.105375</td>\n",
       "      <td>1970.838071</td>\n",
       "      <td>1997.852941</td>\n",
       "      <td>98080.063919</td>\n",
       "      <td>1823.448225</td>\n",
       "      <td>6972.445547</td>\n",
       "    </tr>\n",
       "    <tr>\n",
       "      <th>std</th>\n",
       "      <td>1.921402e+05</td>\n",
       "      <td>0.778868</td>\n",
       "      <td>0.664632</td>\n",
       "      <td>644.121266</td>\n",
       "      <td>3395.639717</td>\n",
       "      <td>0.544762</td>\n",
       "      <td>0.0</td>\n",
       "      <td>0.116995</td>\n",
       "      <td>0.641878</td>\n",
       "      <td>637.416837</td>\n",
       "      <td>357.175661</td>\n",
       "      <td>29.770803</td>\n",
       "      <td>14.582060</td>\n",
       "      <td>53.414034</td>\n",
       "      <td>546.389419</td>\n",
       "      <td>3034.321228</td>\n",
       "    </tr>\n",
       "    <tr>\n",
       "      <th>min</th>\n",
       "      <td>8.200000e+04</td>\n",
       "      <td>2.000000</td>\n",
       "      <td>0.500000</td>\n",
       "      <td>520.000000</td>\n",
       "      <td>520.000000</td>\n",
       "      <td>1.000000</td>\n",
       "      <td>0.0</td>\n",
       "      <td>0.000000</td>\n",
       "      <td>2.000000</td>\n",
       "      <td>480.000000</td>\n",
       "      <td>0.000000</td>\n",
       "      <td>1900.000000</td>\n",
       "      <td>1957.000000</td>\n",
       "      <td>98001.000000</td>\n",
       "      <td>620.000000</td>\n",
       "      <td>651.000000</td>\n",
       "    </tr>\n",
       "    <tr>\n",
       "      <th>25%</th>\n",
       "      <td>3.020000e+05</td>\n",
       "      <td>3.000000</td>\n",
       "      <td>1.500000</td>\n",
       "      <td>1360.000000</td>\n",
       "      <td>4770.000000</td>\n",
       "      <td>1.000000</td>\n",
       "      <td>0.0</td>\n",
       "      <td>0.000000</td>\n",
       "      <td>3.000000</td>\n",
       "      <td>1140.000000</td>\n",
       "      <td>0.000000</td>\n",
       "      <td>1951.000000</td>\n",
       "      <td>1988.000000</td>\n",
       "      <td>98033.000000</td>\n",
       "      <td>1430.000000</td>\n",
       "      <td>4850.000000</td>\n",
       "    </tr>\n",
       "    <tr>\n",
       "      <th>50%</th>\n",
       "      <td>4.150000e+05</td>\n",
       "      <td>3.000000</td>\n",
       "      <td>2.000000</td>\n",
       "      <td>1750.000000</td>\n",
       "      <td>7110.000000</td>\n",
       "      <td>1.000000</td>\n",
       "      <td>0.0</td>\n",
       "      <td>0.000000</td>\n",
       "      <td>3.000000</td>\n",
       "      <td>1450.000000</td>\n",
       "      <td>0.000000</td>\n",
       "      <td>1973.000000</td>\n",
       "      <td>2002.000000</td>\n",
       "      <td>98072.000000</td>\n",
       "      <td>1720.000000</td>\n",
       "      <td>7200.000000</td>\n",
       "    </tr>\n",
       "    <tr>\n",
       "      <th>75%</th>\n",
       "      <td>5.615000e+05</td>\n",
       "      <td>4.000000</td>\n",
       "      <td>2.500000</td>\n",
       "      <td>2240.000000</td>\n",
       "      <td>9035.000000</td>\n",
       "      <td>2.000000</td>\n",
       "      <td>0.0</td>\n",
       "      <td>0.000000</td>\n",
       "      <td>4.000000</td>\n",
       "      <td>1960.000000</td>\n",
       "      <td>460.000000</td>\n",
       "      <td>1998.000000</td>\n",
       "      <td>2010.000000</td>\n",
       "      <td>98118.000000</td>\n",
       "      <td>2130.000000</td>\n",
       "      <td>8780.500000</td>\n",
       "    </tr>\n",
       "    <tr>\n",
       "      <th>max</th>\n",
       "      <td>1.127000e+06</td>\n",
       "      <td>5.000000</td>\n",
       "      <td>4.000000</td>\n",
       "      <td>4220.000000</td>\n",
       "      <td>19210.000000</td>\n",
       "      <td>3.500000</td>\n",
       "      <td>0.0</td>\n",
       "      <td>1.000000</td>\n",
       "      <td>5.000000</td>\n",
       "      <td>3740.000000</td>\n",
       "      <td>1400.000000</td>\n",
       "      <td>2015.000000</td>\n",
       "      <td>2015.000000</td>\n",
       "      <td>98199.000000</td>\n",
       "      <td>4410.000000</td>\n",
       "      <td>17550.000000</td>\n",
       "    </tr>\n",
       "  </tbody>\n",
       "</table>\n",
       "</div>"
      ],
      "text/plain": [
       "              price      bedrooms     bathrooms   sqft_living      sqft_lot  \\\n",
       "count  1.642700e+04  15542.000000  15647.000000  16427.000000  16427.000000   \n",
       "mean   4.504365e+05      3.271458      1.990941   1843.314670   7097.741705   \n",
       "std    1.921402e+05      0.778868      0.664632    644.121266   3395.639717   \n",
       "min    8.200000e+04      2.000000      0.500000    520.000000    520.000000   \n",
       "25%    3.020000e+05      3.000000      1.500000   1360.000000   4770.000000   \n",
       "50%    4.150000e+05      3.000000      2.000000   1750.000000   7110.000000   \n",
       "75%    5.615000e+05      4.000000      2.500000   2240.000000   9035.000000   \n",
       "max    1.127000e+06      5.000000      4.000000   4220.000000  19210.000000   \n",
       "\n",
       "             floors  waterfront          view     condition    sqft_above  \\\n",
       "count  16427.000000     16427.0  16427.000000  16427.000000  16427.000000   \n",
       "mean       1.477476         0.0      0.013880      3.407317   1615.337432   \n",
       "std        0.544762         0.0      0.116995      0.641878    637.416837   \n",
       "min        1.000000         0.0      0.000000      2.000000    480.000000   \n",
       "25%        1.000000         0.0      0.000000      3.000000   1140.000000   \n",
       "50%        1.000000         0.0      0.000000      3.000000   1450.000000   \n",
       "75%        2.000000         0.0      0.000000      4.000000   1960.000000   \n",
       "max        3.500000         0.0      1.000000      5.000000   3740.000000   \n",
       "\n",
       "       sqft_basement      yr_built  yr_renovated       zipcode  sqft_living15  \\\n",
       "count   16427.000000  16427.000000    510.000000  16427.000000   16427.000000   \n",
       "mean      232.105375   1970.838071   1997.852941  98080.063919    1823.448225   \n",
       "std       357.175661     29.770803     14.582060     53.414034     546.389419   \n",
       "min         0.000000   1900.000000   1957.000000  98001.000000     620.000000   \n",
       "25%         0.000000   1951.000000   1988.000000  98033.000000    1430.000000   \n",
       "50%         0.000000   1973.000000   2002.000000  98072.000000    1720.000000   \n",
       "75%       460.000000   1998.000000   2010.000000  98118.000000    2130.000000   \n",
       "max      1400.000000   2015.000000   2015.000000  98199.000000    4410.000000   \n",
       "\n",
       "         sqft_lot15  \n",
       "count  16427.000000  \n",
       "mean    6972.445547  \n",
       "std     3034.321228  \n",
       "min      651.000000  \n",
       "25%     4850.000000  \n",
       "50%     7200.000000  \n",
       "75%     8780.500000  \n",
       "max    17550.000000  "
      ]
     },
     "execution_count": 56,
     "metadata": {},
     "output_type": "execute_result"
    }
   ],
   "source": [
    "data.describe()"
   ]
  },
  {
   "cell_type": "code",
   "execution_count": 57,
   "metadata": {},
   "outputs": [
    {
     "data": {
      "text/plain": [
       "14809"
      ]
     },
     "execution_count": 57,
     "metadata": {},
     "output_type": "execute_result"
    }
   ],
   "source": [
    "filtereddata2 = data.dropna(subset = ['bedrooms', 'bathrooms'])\n",
    "filtereddata2.shape[0]"
   ]
  },
  {
   "cell_type": "markdown",
   "metadata": {},
   "source": [
    "Create dataset without missing values for bedrooms and bathrooms."
   ]
  },
  {
   "cell_type": "code",
   "execution_count": 60,
   "metadata": {},
   "outputs": [
    {
     "data": {
      "text/html": [
       "<div>\n",
       "<style scoped>\n",
       "    .dataframe tbody tr th:only-of-type {\n",
       "        vertical-align: middle;\n",
       "    }\n",
       "\n",
       "    .dataframe tbody tr th {\n",
       "        vertical-align: top;\n",
       "    }\n",
       "\n",
       "    .dataframe thead th {\n",
       "        text-align: right;\n",
       "    }\n",
       "</style>\n",
       "<table border=\"1\" class=\"dataframe\">\n",
       "  <thead>\n",
       "    <tr style=\"text-align: right;\">\n",
       "      <th></th>\n",
       "      <th>price</th>\n",
       "      <th>bedrooms</th>\n",
       "      <th>bathrooms</th>\n",
       "      <th>sqft_living</th>\n",
       "      <th>sqft_lot</th>\n",
       "      <th>floors</th>\n",
       "      <th>waterfront</th>\n",
       "      <th>view</th>\n",
       "      <th>condition</th>\n",
       "      <th>sqft_above</th>\n",
       "      <th>sqft_basement</th>\n",
       "      <th>yr_built</th>\n",
       "      <th>yr_renovated</th>\n",
       "      <th>zipcode</th>\n",
       "      <th>sqft_living15</th>\n",
       "      <th>sqft_lot15</th>\n",
       "    </tr>\n",
       "  </thead>\n",
       "  <tbody>\n",
       "    <tr>\n",
       "      <th>price</th>\n",
       "      <td>1.000000</td>\n",
       "      <td>0.267657</td>\n",
       "      <td>0.394366</td>\n",
       "      <td>0.560844</td>\n",
       "      <td>-0.054991</td>\n",
       "      <td>0.265579</td>\n",
       "      <td>NaN</td>\n",
       "      <td>0.103576</td>\n",
       "      <td>0.044039</td>\n",
       "      <td>0.464990</td>\n",
       "      <td>0.199926</td>\n",
       "      <td>0.017042</td>\n",
       "      <td>0.208726</td>\n",
       "      <td>-0.001594</td>\n",
       "      <td>0.495300</td>\n",
       "      <td>-0.060687</td>\n",
       "    </tr>\n",
       "    <tr>\n",
       "      <th>bedrooms</th>\n",
       "      <td>0.267657</td>\n",
       "      <td>1.000000</td>\n",
       "      <td>0.465079</td>\n",
       "      <td>0.605563</td>\n",
       "      <td>0.196460</td>\n",
       "      <td>0.158231</td>\n",
       "      <td>NaN</td>\n",
       "      <td>0.006448</td>\n",
       "      <td>0.010362</td>\n",
       "      <td>0.491838</td>\n",
       "      <td>0.241535</td>\n",
       "      <td>0.176459</td>\n",
       "      <td>0.180267</td>\n",
       "      <td>-0.180600</td>\n",
       "      <td>0.412698</td>\n",
       "      <td>0.185139</td>\n",
       "    </tr>\n",
       "    <tr>\n",
       "      <th>bathrooms</th>\n",
       "      <td>0.394366</td>\n",
       "      <td>0.465079</td>\n",
       "      <td>1.000000</td>\n",
       "      <td>0.680461</td>\n",
       "      <td>-0.061908</td>\n",
       "      <td>0.531354</td>\n",
       "      <td>NaN</td>\n",
       "      <td>0.024438</td>\n",
       "      <td>-0.164614</td>\n",
       "      <td>0.610087</td>\n",
       "      <td>0.169073</td>\n",
       "      <td>0.577265</td>\n",
       "      <td>0.307973</td>\n",
       "      <td>-0.228372</td>\n",
       "      <td>0.525529</td>\n",
       "      <td>-0.065775</td>\n",
       "    </tr>\n",
       "    <tr>\n",
       "      <th>sqft_living</th>\n",
       "      <td>0.560844</td>\n",
       "      <td>0.605563</td>\n",
       "      <td>0.680461</td>\n",
       "      <td>1.000000</td>\n",
       "      <td>0.185386</td>\n",
       "      <td>0.351956</td>\n",
       "      <td>NaN</td>\n",
       "      <td>0.067156</td>\n",
       "      <td>-0.091518</td>\n",
       "      <td>0.839910</td>\n",
       "      <td>0.302235</td>\n",
       "      <td>0.359191</td>\n",
       "      <td>0.144110</td>\n",
       "      <td>-0.220005</td>\n",
       "      <td>0.748142</td>\n",
       "      <td>0.173928</td>\n",
       "    </tr>\n",
       "    <tr>\n",
       "      <th>sqft_lot</th>\n",
       "      <td>-0.054991</td>\n",
       "      <td>0.196460</td>\n",
       "      <td>-0.061908</td>\n",
       "      <td>0.185386</td>\n",
       "      <td>1.000000</td>\n",
       "      <td>-0.367866</td>\n",
       "      <td>NaN</td>\n",
       "      <td>0.038502</td>\n",
       "      <td>0.123761</td>\n",
       "      <td>0.150050</td>\n",
       "      <td>0.066692</td>\n",
       "      <td>-0.066750</td>\n",
       "      <td>-0.100216</td>\n",
       "      <td>-0.254303</td>\n",
       "      <td>0.225755</td>\n",
       "      <td>0.884970</td>\n",
       "    </tr>\n",
       "    <tr>\n",
       "      <th>floors</th>\n",
       "      <td>0.265579</td>\n",
       "      <td>0.158231</td>\n",
       "      <td>0.531354</td>\n",
       "      <td>0.351956</td>\n",
       "      <td>-0.367866</td>\n",
       "      <td>1.000000</td>\n",
       "      <td>NaN</td>\n",
       "      <td>-0.026383</td>\n",
       "      <td>-0.290931</td>\n",
       "      <td>0.540085</td>\n",
       "      <td>-0.313855</td>\n",
       "      <td>0.532486</td>\n",
       "      <td>-0.020429</td>\n",
       "      <td>-0.069992</td>\n",
       "      <td>0.286440</td>\n",
       "      <td>-0.375552</td>\n",
       "    </tr>\n",
       "    <tr>\n",
       "      <th>waterfront</th>\n",
       "      <td>NaN</td>\n",
       "      <td>NaN</td>\n",
       "      <td>NaN</td>\n",
       "      <td>NaN</td>\n",
       "      <td>NaN</td>\n",
       "      <td>NaN</td>\n",
       "      <td>NaN</td>\n",
       "      <td>NaN</td>\n",
       "      <td>NaN</td>\n",
       "      <td>NaN</td>\n",
       "      <td>NaN</td>\n",
       "      <td>NaN</td>\n",
       "      <td>NaN</td>\n",
       "      <td>NaN</td>\n",
       "      <td>NaN</td>\n",
       "      <td>NaN</td>\n",
       "    </tr>\n",
       "    <tr>\n",
       "      <th>view</th>\n",
       "      <td>0.103576</td>\n",
       "      <td>0.006448</td>\n",
       "      <td>0.024438</td>\n",
       "      <td>0.067156</td>\n",
       "      <td>0.038502</td>\n",
       "      <td>-0.026383</td>\n",
       "      <td>NaN</td>\n",
       "      <td>1.000000</td>\n",
       "      <td>0.012888</td>\n",
       "      <td>0.012714</td>\n",
       "      <td>0.098005</td>\n",
       "      <td>-0.040628</td>\n",
       "      <td>-0.019942</td>\n",
       "      <td>0.060199</td>\n",
       "      <td>0.087285</td>\n",
       "      <td>0.047220</td>\n",
       "    </tr>\n",
       "    <tr>\n",
       "      <th>condition</th>\n",
       "      <td>0.044039</td>\n",
       "      <td>0.010362</td>\n",
       "      <td>-0.164614</td>\n",
       "      <td>-0.091518</td>\n",
       "      <td>0.123761</td>\n",
       "      <td>-0.290931</td>\n",
       "      <td>NaN</td>\n",
       "      <td>0.012888</td>\n",
       "      <td>1.000000</td>\n",
       "      <td>-0.196265</td>\n",
       "      <td>0.183889</td>\n",
       "      <td>-0.382626</td>\n",
       "      <td>-0.339208</td>\n",
       "      <td>0.000372</td>\n",
       "      <td>-0.143600</td>\n",
       "      <td>0.126596</td>\n",
       "    </tr>\n",
       "    <tr>\n",
       "      <th>sqft_above</th>\n",
       "      <td>0.464990</td>\n",
       "      <td>0.491838</td>\n",
       "      <td>0.610087</td>\n",
       "      <td>0.839910</td>\n",
       "      <td>0.150050</td>\n",
       "      <td>0.540085</td>\n",
       "      <td>NaN</td>\n",
       "      <td>0.012714</td>\n",
       "      <td>-0.196265</td>\n",
       "      <td>1.000000</td>\n",
       "      <td>-0.239314</td>\n",
       "      <td>0.473649</td>\n",
       "      <td>0.013936</td>\n",
       "      <td>-0.290998</td>\n",
       "      <td>0.727205</td>\n",
       "      <td>0.139764</td>\n",
       "    </tr>\n",
       "    <tr>\n",
       "      <th>sqft_basement</th>\n",
       "      <td>0.199926</td>\n",
       "      <td>0.241535</td>\n",
       "      <td>0.169073</td>\n",
       "      <td>0.302235</td>\n",
       "      <td>0.066692</td>\n",
       "      <td>-0.313855</td>\n",
       "      <td>NaN</td>\n",
       "      <td>0.098005</td>\n",
       "      <td>0.183889</td>\n",
       "      <td>-0.239314</td>\n",
       "      <td>1.000000</td>\n",
       "      <td>-0.189444</td>\n",
       "      <td>0.186055</td>\n",
       "      <td>0.121091</td>\n",
       "      <td>0.052485</td>\n",
       "      <td>0.062618</td>\n",
       "    </tr>\n",
       "    <tr>\n",
       "      <th>yr_built</th>\n",
       "      <td>0.017042</td>\n",
       "      <td>0.176459</td>\n",
       "      <td>0.577265</td>\n",
       "      <td>0.359191</td>\n",
       "      <td>-0.066750</td>\n",
       "      <td>0.532486</td>\n",
       "      <td>NaN</td>\n",
       "      <td>-0.040628</td>\n",
       "      <td>-0.382626</td>\n",
       "      <td>0.473649</td>\n",
       "      <td>-0.189444</td>\n",
       "      <td>1.000000</td>\n",
       "      <td>0.223764</td>\n",
       "      <td>-0.345633</td>\n",
       "      <td>0.375240</td>\n",
       "      <td>-0.046407</td>\n",
       "    </tr>\n",
       "    <tr>\n",
       "      <th>yr_renovated</th>\n",
       "      <td>0.208726</td>\n",
       "      <td>0.180267</td>\n",
       "      <td>0.307973</td>\n",
       "      <td>0.144110</td>\n",
       "      <td>-0.100216</td>\n",
       "      <td>-0.020429</td>\n",
       "      <td>NaN</td>\n",
       "      <td>-0.019942</td>\n",
       "      <td>-0.339208</td>\n",
       "      <td>0.013936</td>\n",
       "      <td>0.186055</td>\n",
       "      <td>0.223764</td>\n",
       "      <td>1.000000</td>\n",
       "      <td>0.010479</td>\n",
       "      <td>0.044852</td>\n",
       "      <td>-0.061821</td>\n",
       "    </tr>\n",
       "    <tr>\n",
       "      <th>zipcode</th>\n",
       "      <td>-0.001594</td>\n",
       "      <td>-0.180600</td>\n",
       "      <td>-0.228372</td>\n",
       "      <td>-0.220005</td>\n",
       "      <td>-0.254303</td>\n",
       "      <td>-0.069992</td>\n",
       "      <td>NaN</td>\n",
       "      <td>0.060199</td>\n",
       "      <td>0.000372</td>\n",
       "      <td>-0.290998</td>\n",
       "      <td>0.121091</td>\n",
       "      <td>-0.345633</td>\n",
       "      <td>0.010479</td>\n",
       "      <td>1.000000</td>\n",
       "      <td>-0.308099</td>\n",
       "      <td>-0.257083</td>\n",
       "    </tr>\n",
       "    <tr>\n",
       "      <th>sqft_living15</th>\n",
       "      <td>0.495300</td>\n",
       "      <td>0.412698</td>\n",
       "      <td>0.525529</td>\n",
       "      <td>0.748142</td>\n",
       "      <td>0.225755</td>\n",
       "      <td>0.286440</td>\n",
       "      <td>NaN</td>\n",
       "      <td>0.087285</td>\n",
       "      <td>-0.143600</td>\n",
       "      <td>0.727205</td>\n",
       "      <td>0.052485</td>\n",
       "      <td>0.375240</td>\n",
       "      <td>0.044852</td>\n",
       "      <td>-0.308099</td>\n",
       "      <td>1.000000</td>\n",
       "      <td>0.243099</td>\n",
       "    </tr>\n",
       "    <tr>\n",
       "      <th>sqft_lot15</th>\n",
       "      <td>-0.060687</td>\n",
       "      <td>0.185139</td>\n",
       "      <td>-0.065775</td>\n",
       "      <td>0.173928</td>\n",
       "      <td>0.884970</td>\n",
       "      <td>-0.375552</td>\n",
       "      <td>NaN</td>\n",
       "      <td>0.047220</td>\n",
       "      <td>0.126596</td>\n",
       "      <td>0.139764</td>\n",
       "      <td>0.062618</td>\n",
       "      <td>-0.046407</td>\n",
       "      <td>-0.061821</td>\n",
       "      <td>-0.257083</td>\n",
       "      <td>0.243099</td>\n",
       "      <td>1.000000</td>\n",
       "    </tr>\n",
       "  </tbody>\n",
       "</table>\n",
       "</div>"
      ],
      "text/plain": [
       "                  price  bedrooms  bathrooms  sqft_living  sqft_lot    floors  \\\n",
       "price          1.000000  0.267657   0.394366     0.560844 -0.054991  0.265579   \n",
       "bedrooms       0.267657  1.000000   0.465079     0.605563  0.196460  0.158231   \n",
       "bathrooms      0.394366  0.465079   1.000000     0.680461 -0.061908  0.531354   \n",
       "sqft_living    0.560844  0.605563   0.680461     1.000000  0.185386  0.351956   \n",
       "sqft_lot      -0.054991  0.196460  -0.061908     0.185386  1.000000 -0.367866   \n",
       "floors         0.265579  0.158231   0.531354     0.351956 -0.367866  1.000000   \n",
       "waterfront          NaN       NaN        NaN          NaN       NaN       NaN   \n",
       "view           0.103576  0.006448   0.024438     0.067156  0.038502 -0.026383   \n",
       "condition      0.044039  0.010362  -0.164614    -0.091518  0.123761 -0.290931   \n",
       "sqft_above     0.464990  0.491838   0.610087     0.839910  0.150050  0.540085   \n",
       "sqft_basement  0.199926  0.241535   0.169073     0.302235  0.066692 -0.313855   \n",
       "yr_built       0.017042  0.176459   0.577265     0.359191 -0.066750  0.532486   \n",
       "yr_renovated   0.208726  0.180267   0.307973     0.144110 -0.100216 -0.020429   \n",
       "zipcode       -0.001594 -0.180600  -0.228372    -0.220005 -0.254303 -0.069992   \n",
       "sqft_living15  0.495300  0.412698   0.525529     0.748142  0.225755  0.286440   \n",
       "sqft_lot15    -0.060687  0.185139  -0.065775     0.173928  0.884970 -0.375552   \n",
       "\n",
       "               waterfront      view  condition  sqft_above  sqft_basement  \\\n",
       "price                 NaN  0.103576   0.044039    0.464990       0.199926   \n",
       "bedrooms              NaN  0.006448   0.010362    0.491838       0.241535   \n",
       "bathrooms             NaN  0.024438  -0.164614    0.610087       0.169073   \n",
       "sqft_living           NaN  0.067156  -0.091518    0.839910       0.302235   \n",
       "sqft_lot              NaN  0.038502   0.123761    0.150050       0.066692   \n",
       "floors                NaN -0.026383  -0.290931    0.540085      -0.313855   \n",
       "waterfront            NaN       NaN        NaN         NaN            NaN   \n",
       "view                  NaN  1.000000   0.012888    0.012714       0.098005   \n",
       "condition             NaN  0.012888   1.000000   -0.196265       0.183889   \n",
       "sqft_above            NaN  0.012714  -0.196265    1.000000      -0.239314   \n",
       "sqft_basement         NaN  0.098005   0.183889   -0.239314       1.000000   \n",
       "yr_built              NaN -0.040628  -0.382626    0.473649      -0.189444   \n",
       "yr_renovated          NaN -0.019942  -0.339208    0.013936       0.186055   \n",
       "zipcode               NaN  0.060199   0.000372   -0.290998       0.121091   \n",
       "sqft_living15         NaN  0.087285  -0.143600    0.727205       0.052485   \n",
       "sqft_lot15            NaN  0.047220   0.126596    0.139764       0.062618   \n",
       "\n",
       "               yr_built  yr_renovated   zipcode  sqft_living15  sqft_lot15  \n",
       "price          0.017042      0.208726 -0.001594       0.495300   -0.060687  \n",
       "bedrooms       0.176459      0.180267 -0.180600       0.412698    0.185139  \n",
       "bathrooms      0.577265      0.307973 -0.228372       0.525529   -0.065775  \n",
       "sqft_living    0.359191      0.144110 -0.220005       0.748142    0.173928  \n",
       "sqft_lot      -0.066750     -0.100216 -0.254303       0.225755    0.884970  \n",
       "floors         0.532486     -0.020429 -0.069992       0.286440   -0.375552  \n",
       "waterfront          NaN           NaN       NaN            NaN         NaN  \n",
       "view          -0.040628     -0.019942  0.060199       0.087285    0.047220  \n",
       "condition     -0.382626     -0.339208  0.000372      -0.143600    0.126596  \n",
       "sqft_above     0.473649      0.013936 -0.290998       0.727205    0.139764  \n",
       "sqft_basement -0.189444      0.186055  0.121091       0.052485    0.062618  \n",
       "yr_built       1.000000      0.223764 -0.345633       0.375240   -0.046407  \n",
       "yr_renovated   0.223764      1.000000  0.010479       0.044852   -0.061821  \n",
       "zipcode       -0.345633      0.010479  1.000000      -0.308099   -0.257083  \n",
       "sqft_living15  0.375240      0.044852 -0.308099       1.000000    0.243099  \n",
       "sqft_lot15    -0.046407     -0.061821 -0.257083       0.243099    1.000000  "
      ]
     },
     "execution_count": 60,
     "metadata": {},
     "output_type": "execute_result"
    }
   ],
   "source": [
    "filtereddata2.corr()"
   ]
  },
  {
   "cell_type": "markdown",
   "metadata": {},
   "source": [
    "We can see that both bathrooms and bedrooms have the highest correlation with sqft_living so we will use that to predict the missing values."
   ]
  },
  {
   "cell_type": "code",
   "execution_count": 67,
   "metadata": {},
   "outputs": [
    {
     "name": "stdout",
     "output_type": "stream",
     "text": [
      "                            OLS Regression Results                            \n",
      "==============================================================================\n",
      "Dep. Variable:               bedrooms   R-squared:                       0.216\n",
      "Model:                            OLS   Adj. R-squared:                  0.216\n",
      "Method:                 Least Squares   F-statistic:                     4087.\n",
      "Date:                Wed, 07 Apr 2021   Prob (F-statistic):               0.00\n",
      "Time:                        16:36:18   Log-Likelihood:                -15520.\n",
      "No. Observations:               14809   AIC:                         3.104e+04\n",
      "Df Residuals:                   14807   BIC:                         3.106e+04\n",
      "Df Model:                           1                                         \n",
      "Covariance Type:            nonrobust                                         \n",
      "==============================================================================\n",
      "                 coef    std err          t      P>|t|      [0.025      0.975]\n",
      "------------------------------------------------------------------------------\n",
      "Intercept      2.1844      0.018    121.819      0.000       2.149       2.220\n",
      "bathrooms      0.5463      0.009     63.927      0.000       0.530       0.563\n",
      "==============================================================================\n",
      "Omnibus:                      234.633   Durbin-Watson:                   1.995\n",
      "Prob(Omnibus):                  0.000   Jarque-Bera (JB):              245.673\n",
      "Skew:                           0.315   Prob(JB):                     4.50e-54\n",
      "Kurtosis:                       3.019   Cond. No.                         8.02\n",
      "==============================================================================\n",
      "\n",
      "Notes:\n",
      "[1] Standard Errors assume that the covariance matrix of the errors is correctly specified.\n"
     ]
    }
   ],
   "source": [
    "from statsmodels.formula.api import ols\n",
    "from statsmodels.sandbox.regression.predstd import wls_prediction_std\n",
    "model = ols(\"bedrooms ~ bathrooms\", data=filtereddata2).fit()\n",
    "modelsummary = model.summary()\n",
    "print (modelsummary)"
   ]
  },
  {
   "cell_type": "code",
   "execution_count": 68,
   "metadata": {},
   "outputs": [],
   "source": [
    "data['bedrooms'] = data.apply(\n",
    "    lambda row:\n",
    "        .5463*row.sqft_living+2.1844\n",
    "    if np.isnan(row.bedrooms) else row.bedrooms, axis=1)"
   ]
  },
  {
   "cell_type": "code",
   "execution_count": 69,
   "metadata": {},
   "outputs": [
    {
     "data": {
      "image/png": "[encoded data removed]",
      "text/plain": [
       "<Figure size 432x288 with 1 Axes>"
      ]
     },
     "metadata": {
      "needs_background": "light"
     },
     "output_type": "display_data"
    },
    {
     "data": {
      "text/plain": [
       "0.3052081695034784"
      ]
     },
     "execution_count": 69,
     "metadata": {},
     "output_type": "execute_result"
    }
   ],
   "source": [
    "sns.scatterplot(data=data, y='bedrooms', x='bathrooms')\n",
    "plt.show()\n",
    "data.bedrooms.corr(data.sqft_living)"
   ]
  },
  {
   "cell_type": "code",
   "execution_count": null,
   "metadata": {},
   "outputs": [],
   "source": []
  }
 ],
 "metadata": {
  "kernelspec": {
   "display_name": "Python 3",
   "language": "python",
   "name": "python3"
  },
  "language_info": {
   "codemirror_mode": {
    "name": "ipython",
    "version": 3
   },
   "file_extension": ".py",
   "mimetype": "text/x-python",
   "name": "python",
   "nbconvert_exporter": "python",
   "pygments_lexer": "ipython3",
   "version": "3.8.5"
  }
 },
 "nbformat": 4,
 "nbformat_minor": 5
}
